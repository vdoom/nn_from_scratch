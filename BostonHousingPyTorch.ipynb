{
  "nbformat": 4,
  "nbformat_minor": 0,
  "metadata": {
    "colab": {
      "provenance": [],
      "gpuType": "T4"
    },
    "kernelspec": {
      "name": "python3",
      "display_name": "Python 3"
    },
    "language_info": {
      "name": "python"
    },
    "accelerator": "GPU"
  },
  "cells": [
    {
      "cell_type": "code",
      "execution_count": 1,
      "metadata": {
        "id": "dMBUIwoz5Z6-"
      },
      "outputs": [],
      "source": [
        "# For tips on running notebooks in Google Colab, see\n",
        "# https://pytorch.org/tutorials/beginner/colab\n",
        "%matplotlib inline"
      ]
    },
    {
      "cell_type": "code",
      "source": [
        "import os\n",
        "import torch\n",
        "from torch import nn\n",
        "from torch.utils.data import DataLoader\n",
        "#from torchvision import datasets, transforms\n",
        "\n",
        "from typing import Tuple, List\n",
        "from collections import deque\n",
        "\n",
        "import torch.optim as optim\n",
        "from torch.optim import lr_scheduler\n",
        "from torch.optim import Optimizer\n",
        "\n",
        "import numpy as np\n",
        "from torch import Tensor\n",
        "\n",
        "import torch.nn as nn\n",
        "import torch.nn.functional as F\n",
        "from torch.nn.modules.loss import _Loss"
      ],
      "metadata": {
        "id": "FHkA5RbyBpQx"
      },
      "execution_count": 4,
      "outputs": []
    },
    {
      "cell_type": "code",
      "source": [
        "device = (\n",
        "    \"cuda\"\n",
        "    if torch.cuda.is_available()\n",
        "    else \"mps\"\n",
        "    if torch.backends.mps.is_available()\n",
        "    else \"cpu\"\n",
        ")\n",
        "print(f\"Using {device} device\")\n",
        "torch.set_default_device(device)"
      ],
      "metadata": {
        "colab": {
          "base_uri": "https://localhost:8080/"
        },
        "id": "rrJHeuIVBttw",
        "outputId": "16206a69-5010-4d48-b2d6-64e204e0e373"
      },
      "execution_count": 46,
      "outputs": [
        {
          "output_type": "stream",
          "name": "stdout",
          "text": [
            "Using cuda device\n"
          ]
        }
      ]
    },
    {
      "cell_type": "code",
      "source": [
        "torch.manual_seed(20190325);"
      ],
      "metadata": {
        "id": "VmWNdHQKB7Yh"
      },
      "execution_count": 47,
      "outputs": []
    },
    {
      "cell_type": "code",
      "source": [
        "import pandas as pd\n",
        "import numpy as np\n",
        "\n",
        "data_url = \"http://lib.stat.cmu.edu/datasets/boston\"\n",
        "raw_df = pd.read_csv(data_url, sep=\"\\s+\", skiprows=22, header=None)\n",
        "data = np.hstack([raw_df.values[::2, :], raw_df.values[1::2, :2]])\n",
        "target = raw_df.values[1::2, 2]"
      ],
      "metadata": {
        "id": "KN4aiNQ1CVUY"
      },
      "execution_count": 48,
      "outputs": []
    },
    {
      "cell_type": "code",
      "source": [
        "from sklearn.preprocessing import StandardScaler\n",
        "s = StandardScaler()\n",
        "data = s.fit_transform(data)\n",
        "\n",
        "from sklearn.model_selection import train_test_split\n",
        "X_train, X_test, y_train, y_test = train_test_split(data, target, test_size=0.3, random_state=80718)\n",
        "\n",
        "y_train, y_test = y_train.reshape(-1, 1), y_test.reshape(-1, 1)\n",
        "\n",
        "X_train, X_test, y_train, y_test = Tensor(X_train), Tensor(X_test), Tensor(y_train), Tensor(y_test)\n",
        "X_train = X_train.to(device)\n",
        "X_test = X_test.to(device)\n",
        "y_train = y_train.to(device)\n",
        "y_test = y_test.to(device)"
      ],
      "metadata": {
        "id": "SjpaTO0oCmpo"
      },
      "execution_count": 49,
      "outputs": []
    },
    {
      "cell_type": "code",
      "source": [
        "class HousePricesModel(nn.Module):\n",
        "  def __init__(self, hidden_size: int = 13):\n",
        "    super().__init__()\n",
        "    self.fc1 = nn.Linear(13, hidden_size)\n",
        "    self.fc2 = nn.Linear(hidden_size, 1)\n",
        "\n",
        "  def forward(self, x: Tensor) -> Tensor:\n",
        "    #assert_dim(x, 2)\n",
        "    assert x.shape[1] == 13\n",
        "    x = self.fc1(x)\n",
        "    x = torch.sigmoid(x)\n",
        "    return self.fc2(x)"
      ],
      "metadata": {
        "id": "rQ17WNA8DPFR"
      },
      "execution_count": 50,
      "outputs": []
    },
    {
      "cell_type": "code",
      "source": [
        "model = HousePricesModel().to(device)\n",
        "print(model)"
      ],
      "metadata": {
        "colab": {
          "base_uri": "https://localhost:8080/"
        },
        "id": "iR3CQ4KfDqFp",
        "outputId": "eff1844d-4c5b-41ba-f93c-933f346e7d07"
      },
      "execution_count": 51,
      "outputs": [
        {
          "output_type": "stream",
          "name": "stdout",
          "text": [
            "HousePricesModel(\n",
            "  (fc1): Linear(in_features=13, out_features=13, bias=True)\n",
            "  (fc2): Linear(in_features=13, out_features=1, bias=True)\n",
            ")\n"
          ]
        }
      ]
    },
    {
      "cell_type": "code",
      "source": [
        "optimizer = optim.SGD(model.parameters(), lr=0.001, momentum=0.9)"
      ],
      "metadata": {
        "id": "WSA9OcLhE-hB"
      },
      "execution_count": 52,
      "outputs": []
    },
    {
      "cell_type": "code",
      "source": [
        "criterion = nn.MSELoss()"
      ],
      "metadata": {
        "id": "i0hVCOEwFhgI"
      },
      "execution_count": 53,
      "outputs": []
    },
    {
      "cell_type": "code",
      "source": [
        "print(X_train[0])\n",
        "print(y_train[0])\n"
      ],
      "metadata": {
        "colab": {
          "base_uri": "https://localhost:8080/"
        },
        "id": "r27f9dn5Fj4Z",
        "outputId": "8124aa59-0929-4996-81ea-65a29f722f76"
      },
      "execution_count": 54,
      "outputs": [
        {
          "output_type": "stream",
          "name": "stdout",
          "text": [
            "tensor([-0.4125, -0.4877, -1.3069, -0.2726, -0.8353,  1.2286, -0.5112,  1.0777,\n",
            "        -0.7529, -1.1061,  0.1130,  0.4411, -1.0265], device='cuda:0')\n",
            "tensor([36.2000], device='cuda:0')\n"
          ]
        }
      ]
    },
    {
      "cell_type": "code",
      "source": [
        "tns = X_train[0].unsqueeze(0)\n",
        "#tns = tns.to(device)\n",
        "print(tns)\n",
        "print(tns.device)\n",
        "print(model.forward(tns))"
      ],
      "metadata": {
        "colab": {
          "base_uri": "https://localhost:8080/"
        },
        "id": "tf0ST2-HGeEA",
        "outputId": "d10f6863-9f10-4962-a87a-cf3f56d0a764"
      },
      "execution_count": 55,
      "outputs": [
        {
          "output_type": "stream",
          "name": "stdout",
          "text": [
            "tensor([[-0.4125, -0.4877, -1.3069, -0.2726, -0.8353,  1.2286, -0.5112,  1.0777,\n",
            "         -0.7529, -1.1061,  0.1130,  0.4411, -1.0265]], device='cuda:0')\n",
            "cuda:0\n",
            "tensor([[0.1196]], device='cuda:0', grad_fn=<AddmmBackward0>)\n"
          ]
        }
      ]
    },
    {
      "cell_type": "code",
      "source": [
        "class PyTorchTrainer(object):\n",
        "\n",
        "  def __init__(self, model: nn.Module, optim: Optimizer, criterion: _Loss):\n",
        "    self.model = model\n",
        "    self.optim = optim\n",
        "    self.loss = criterion\n",
        "    self._check_optim_net_aligned()\n",
        "\n",
        "  def _check_optim_net_aligned(self):\n",
        "    assert self.optim.param_groups[0]['params'] == list(self.model.parameters())\n",
        "\n",
        "  def _generate_batches(self, X: Tensor, y: Tensor, size: int = 32) -> Tuple[Tensor]:\n",
        "    N = X.shape[0]\n",
        "    for ii in range(0, N, size):\n",
        "      X_batch, y_batch = X[ii:ii+size], y[ii:ii+size]\n",
        "      yield X_batch, y_batch\n",
        "\n",
        "  def fit(self, X_train: Tensor, y_train: Tensor, X_test: Tensor, y_test: Tensor,epochs: int=100,eval_every: int=10, batch_size: int=32):\n",
        "    for e in range(epochs):\n",
        "      #X_train, y_train = permute_data(X_train, y_train)\n",
        "      batch_generator = self._generate_batches(X_train, y_train, batch_size)\n",
        "\n",
        "      for ii, (X_batch, y_batch) in enumerate(batch_generator):\n",
        "        #print(X_batch.device)\n",
        "        self.optim.zero_grad()\n",
        "        output = self.model(X_batch)\n",
        "        loss = self.loss(output, y_batch)\n",
        "        loss.backward()\n",
        "        self.optim.step()\n",
        "      output = self.model(X_test)\n",
        "      loss = self.loss(output, y_test)\n",
        "      print(e, loss)"
      ],
      "metadata": {
        "id": "569L0SKHGs-X"
      },
      "execution_count": 58,
      "outputs": []
    },
    {
      "cell_type": "code",
      "source": [
        "net = HousePricesModel()\n",
        "optimizer = optim.SGD(net.parameters(), lr=0.001, momentum=0.9)\n",
        "criterion = nn.MSELoss()\n",
        "\n",
        "trainer = PyTorchTrainer(net, optimizer, criterion)\n",
        "#print(y_test.device)\n",
        "trainer.fit(X_train, y_train, X_test, y_test, epochs=100, eval_every=1)"
      ],
      "metadata": {
        "colab": {
          "base_uri": "https://localhost:8080/"
        },
        "id": "GV1rwS1WJcf5",
        "outputId": "6074b5f7-38cc-4662-cdb3-c26dfc935320"
      },
      "execution_count": 67,
      "outputs": [
        {
          "output_type": "stream",
          "name": "stdout",
          "text": [
            "0 tensor(221.4138, device='cuda:0', grad_fn=<MseLossBackward0>)\n",
            "1 tensor(51.2004, device='cuda:0', grad_fn=<MseLossBackward0>)\n",
            "2 tensor(45.5998, device='cuda:0', grad_fn=<MseLossBackward0>)\n",
            "3 tensor(34.0103, device='cuda:0', grad_fn=<MseLossBackward0>)\n",
            "4 tensor(31.1356, device='cuda:0', grad_fn=<MseLossBackward0>)\n",
            "5 tensor(30.1122, device='cuda:0', grad_fn=<MseLossBackward0>)\n",
            "6 tensor(30.2407, device='cuda:0', grad_fn=<MseLossBackward0>)\n",
            "7 tensor(28.9635, device='cuda:0', grad_fn=<MseLossBackward0>)\n",
            "8 tensor(28.0983, device='cuda:0', grad_fn=<MseLossBackward0>)\n",
            "9 tensor(27.5829, device='cuda:0', grad_fn=<MseLossBackward0>)\n",
            "10 tensor(27.0288, device='cuda:0', grad_fn=<MseLossBackward0>)\n",
            "11 tensor(26.5478, device='cuda:0', grad_fn=<MseLossBackward0>)\n",
            "12 tensor(26.1007, device='cuda:0', grad_fn=<MseLossBackward0>)\n",
            "13 tensor(25.6753, device='cuda:0', grad_fn=<MseLossBackward0>)\n",
            "14 tensor(25.2903, device='cuda:0', grad_fn=<MseLossBackward0>)\n",
            "15 tensor(24.9228, device='cuda:0', grad_fn=<MseLossBackward0>)\n",
            "16 tensor(24.5726, device='cuda:0', grad_fn=<MseLossBackward0>)\n",
            "17 tensor(24.2394, device='cuda:0', grad_fn=<MseLossBackward0>)\n",
            "18 tensor(23.9183, device='cuda:0', grad_fn=<MseLossBackward0>)\n",
            "19 tensor(23.6075, device='cuda:0', grad_fn=<MseLossBackward0>)\n",
            "20 tensor(23.3050, device='cuda:0', grad_fn=<MseLossBackward0>)\n",
            "21 tensor(23.0095, device='cuda:0', grad_fn=<MseLossBackward0>)\n",
            "22 tensor(22.7203, device='cuda:0', grad_fn=<MseLossBackward0>)\n",
            "23 tensor(22.4369, device='cuda:0', grad_fn=<MseLossBackward0>)\n",
            "24 tensor(22.1587, device='cuda:0', grad_fn=<MseLossBackward0>)\n",
            "25 tensor(21.8857, device='cuda:0', grad_fn=<MseLossBackward0>)\n",
            "26 tensor(21.6176, device='cuda:0', grad_fn=<MseLossBackward0>)\n",
            "27 tensor(21.3546, device='cuda:0', grad_fn=<MseLossBackward0>)\n",
            "28 tensor(21.0968, device='cuda:0', grad_fn=<MseLossBackward0>)\n",
            "29 tensor(20.8443, device='cuda:0', grad_fn=<MseLossBackward0>)\n",
            "30 tensor(20.5973, device='cuda:0', grad_fn=<MseLossBackward0>)\n",
            "31 tensor(20.3563, device='cuda:0', grad_fn=<MseLossBackward0>)\n",
            "32 tensor(20.1215, device='cuda:0', grad_fn=<MseLossBackward0>)\n",
            "33 tensor(19.8931, device='cuda:0', grad_fn=<MseLossBackward0>)\n",
            "34 tensor(19.6716, device='cuda:0', grad_fn=<MseLossBackward0>)\n",
            "35 tensor(19.4571, device='cuda:0', grad_fn=<MseLossBackward0>)\n",
            "36 tensor(19.2498, device='cuda:0', grad_fn=<MseLossBackward0>)\n",
            "37 tensor(19.0498, device='cuda:0', grad_fn=<MseLossBackward0>)\n",
            "38 tensor(18.8573, device='cuda:0', grad_fn=<MseLossBackward0>)\n",
            "39 tensor(18.6721, device='cuda:0', grad_fn=<MseLossBackward0>)\n",
            "40 tensor(18.4941, device='cuda:0', grad_fn=<MseLossBackward0>)\n",
            "41 tensor(18.3233, device='cuda:0', grad_fn=<MseLossBackward0>)\n",
            "42 tensor(18.1595, device='cuda:0', grad_fn=<MseLossBackward0>)\n",
            "43 tensor(18.0024, device='cuda:0', grad_fn=<MseLossBackward0>)\n",
            "44 tensor(17.8518, device='cuda:0', grad_fn=<MseLossBackward0>)\n",
            "45 tensor(17.7074, device='cuda:0', grad_fn=<MseLossBackward0>)\n",
            "46 tensor(17.5690, device='cuda:0', grad_fn=<MseLossBackward0>)\n",
            "47 tensor(17.4364, device='cuda:0', grad_fn=<MseLossBackward0>)\n",
            "48 tensor(17.3092, device='cuda:0', grad_fn=<MseLossBackward0>)\n",
            "49 tensor(17.1872, device='cuda:0', grad_fn=<MseLossBackward0>)\n",
            "50 tensor(17.0702, device='cuda:0', grad_fn=<MseLossBackward0>)\n",
            "51 tensor(16.9579, device='cuda:0', grad_fn=<MseLossBackward0>)\n",
            "52 tensor(16.8500, device='cuda:0', grad_fn=<MseLossBackward0>)\n",
            "53 tensor(16.7463, device='cuda:0', grad_fn=<MseLossBackward0>)\n",
            "54 tensor(16.6467, device='cuda:0', grad_fn=<MseLossBackward0>)\n",
            "55 tensor(16.5508, device='cuda:0', grad_fn=<MseLossBackward0>)\n",
            "56 tensor(16.4585, device='cuda:0', grad_fn=<MseLossBackward0>)\n",
            "57 tensor(16.3695, device='cuda:0', grad_fn=<MseLossBackward0>)\n",
            "58 tensor(16.2838, device='cuda:0', grad_fn=<MseLossBackward0>)\n",
            "59 tensor(16.2010, device='cuda:0', grad_fn=<MseLossBackward0>)\n",
            "60 tensor(16.1210, device='cuda:0', grad_fn=<MseLossBackward0>)\n",
            "61 tensor(16.0437, device='cuda:0', grad_fn=<MseLossBackward0>)\n",
            "62 tensor(15.9690, device='cuda:0', grad_fn=<MseLossBackward0>)\n",
            "63 tensor(15.8965, device='cuda:0', grad_fn=<MseLossBackward0>)\n",
            "64 tensor(15.8263, device='cuda:0', grad_fn=<MseLossBackward0>)\n",
            "65 tensor(15.7583, device='cuda:0', grad_fn=<MseLossBackward0>)\n",
            "66 tensor(15.6922, device='cuda:0', grad_fn=<MseLossBackward0>)\n",
            "67 tensor(15.6279, device='cuda:0', grad_fn=<MseLossBackward0>)\n",
            "68 tensor(15.5654, device='cuda:0', grad_fn=<MseLossBackward0>)\n",
            "69 tensor(15.5046, device='cuda:0', grad_fn=<MseLossBackward0>)\n",
            "70 tensor(15.4453, device='cuda:0', grad_fn=<MseLossBackward0>)\n",
            "71 tensor(15.3875, device='cuda:0', grad_fn=<MseLossBackward0>)\n",
            "72 tensor(15.3311, device='cuda:0', grad_fn=<MseLossBackward0>)\n",
            "73 tensor(15.2760, device='cuda:0', grad_fn=<MseLossBackward0>)\n",
            "74 tensor(15.2221, device='cuda:0', grad_fn=<MseLossBackward0>)\n",
            "75 tensor(15.1694, device='cuda:0', grad_fn=<MseLossBackward0>)\n",
            "76 tensor(15.1177, device='cuda:0', grad_fn=<MseLossBackward0>)\n",
            "77 tensor(15.0670, device='cuda:0', grad_fn=<MseLossBackward0>)\n",
            "78 tensor(15.0173, device='cuda:0', grad_fn=<MseLossBackward0>)\n",
            "79 tensor(14.9685, device='cuda:0', grad_fn=<MseLossBackward0>)\n",
            "80 tensor(14.9205, device='cuda:0', grad_fn=<MseLossBackward0>)\n",
            "81 tensor(14.8733, device='cuda:0', grad_fn=<MseLossBackward0>)\n",
            "82 tensor(14.8269, device='cuda:0', grad_fn=<MseLossBackward0>)\n",
            "83 tensor(14.7811, device='cuda:0', grad_fn=<MseLossBackward0>)\n",
            "84 tensor(14.7360, device='cuda:0', grad_fn=<MseLossBackward0>)\n",
            "85 tensor(14.6916, device='cuda:0', grad_fn=<MseLossBackward0>)\n",
            "86 tensor(14.6477, device='cuda:0', grad_fn=<MseLossBackward0>)\n",
            "87 tensor(14.6043, device='cuda:0', grad_fn=<MseLossBackward0>)\n",
            "88 tensor(14.5615, device='cuda:0', grad_fn=<MseLossBackward0>)\n",
            "89 tensor(14.5192, device='cuda:0', grad_fn=<MseLossBackward0>)\n",
            "90 tensor(14.4774, device='cuda:0', grad_fn=<MseLossBackward0>)\n",
            "91 tensor(14.4361, device='cuda:0', grad_fn=<MseLossBackward0>)\n",
            "92 tensor(14.3952, device='cuda:0', grad_fn=<MseLossBackward0>)\n",
            "93 tensor(14.3549, device='cuda:0', grad_fn=<MseLossBackward0>)\n",
            "94 tensor(14.3150, device='cuda:0', grad_fn=<MseLossBackward0>)\n",
            "95 tensor(14.2756, device='cuda:0', grad_fn=<MseLossBackward0>)\n",
            "96 tensor(14.2368, device='cuda:0', grad_fn=<MseLossBackward0>)\n",
            "97 tensor(14.1984, device='cuda:0', grad_fn=<MseLossBackward0>)\n",
            "98 tensor(14.1606, device='cuda:0', grad_fn=<MseLossBackward0>)\n",
            "99 tensor(14.1233, device='cuda:0', grad_fn=<MseLossBackward0>)\n"
          ]
        }
      ]
    },
    {
      "cell_type": "code",
      "source": [
        "print(model.forward(tns))"
      ],
      "metadata": {
        "colab": {
          "base_uri": "https://localhost:8080/"
        },
        "id": "rlXjWVXwJvXA",
        "outputId": "ff11d989-a17d-4a78-e81a-996217e7e7a6"
      },
      "execution_count": 61,
      "outputs": [
        {
          "output_type": "stream",
          "name": "stdout",
          "text": [
            "tensor([[0.1196]], device='cuda:0', grad_fn=<AddmmBackward0>)\n"
          ]
        }
      ]
    },
    {
      "cell_type": "code",
      "source": [
        "model(tns)"
      ],
      "metadata": {
        "colab": {
          "base_uri": "https://localhost:8080/"
        },
        "id": "81Tdy05QLVeF",
        "outputId": "e9320850-256d-44ee-ab87-298cfa2d1ec3"
      },
      "execution_count": 62,
      "outputs": [
        {
          "output_type": "execute_result",
          "data": {
            "text/plain": [
              "tensor([[0.1196]], device='cuda:0', grad_fn=<AddmmBackward0>)"
            ]
          },
          "metadata": {},
          "execution_count": 62
        }
      ]
    },
    {
      "cell_type": "code",
      "source": [
        "print(X_train[0])\n",
        "print(y_train[0])"
      ],
      "metadata": {
        "colab": {
          "base_uri": "https://localhost:8080/"
        },
        "id": "xYTMD5MCLfip",
        "outputId": "dee3cf6c-a312-4e82-c0af-5ca037cd68b9"
      },
      "execution_count": 70,
      "outputs": [
        {
          "output_type": "stream",
          "name": "stdout",
          "text": [
            "tensor([-0.4125, -0.4877, -1.3069, -0.2726, -0.8353,  1.2286, -0.5112,  1.0777,\n",
            "        -0.7529, -1.1061,  0.1130,  0.4411, -1.0265], device='cuda:0')\n",
            "tensor([36.2000], device='cuda:0')\n"
          ]
        }
      ]
    },
    {
      "cell_type": "code",
      "source": [
        "net(X_train[0].unsqueeze(0))"
      ],
      "metadata": {
        "colab": {
          "base_uri": "https://localhost:8080/"
        },
        "id": "XU0Xi_kQLsk4",
        "outputId": "43467260-da0a-47bd-cc42-ad313e56dcdd"
      },
      "execution_count": 71,
      "outputs": [
        {
          "output_type": "execute_result",
          "data": {
            "text/plain": [
              "tensor([[30.3028]], device='cuda:0', grad_fn=<AddmmBackward0>)"
            ]
          },
          "metadata": {},
          "execution_count": 71
        }
      ]
    },
    {
      "cell_type": "code",
      "source": [],
      "metadata": {
        "id": "pAY_3rgDMCNp"
      },
      "execution_count": null,
      "outputs": []
    }
  ]
}