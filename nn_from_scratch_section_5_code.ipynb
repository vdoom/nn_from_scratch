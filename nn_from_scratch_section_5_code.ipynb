{
 "cells": [
  {
   "cell_type": "markdown",
   "id": "be9430d9-d08b-49ee-a69a-0da09fe9b83f",
   "metadata": {},
   "source": [
    "### Imports"
   ]
  },
  {
   "cell_type": "code",
   "execution_count": null,
   "id": "beb559b0-c749-4523-82d0-b83ff68f6464",
   "metadata": {},
   "outputs": [],
   "source": [
    "import numpy as np\n",
    "from numpy import ndarray"
   ]
  },
  {
   "cell_type": "markdown",
   "id": "67f93a12-ff02-4ad3-9a38-1627992df13a",
   "metadata": {},
   "source": [
    "## Helpers"
   ]
  },
  {
   "cell_type": "code",
   "execution_count": 2,
   "id": "fd7e9508-fc16-4fa7-8945-92ab8c6c81d5",
   "metadata": {},
   "outputs": [],
   "source": [
    "def assert_same_shape(output: ndarray, \n",
    "                      output_grad: ndarray):\n",
    "    assert output.shape == output_grad.shape, \\\n",
    "    '''\n",
    "    Two ndarray should have the same shape; instead, first ndarray's shape is {0}\n",
    "    and second ndarray's shape is {1}.\n",
    "    '''.format(tuple(output_grad.shape), tuple(output.shape))\n",
    "    return None"
   ]
  },
  {
   "cell_type": "code",
   "execution_count": 3,
   "id": "3fb6fe31-d946-4448-b0bc-e04894729322",
   "metadata": {},
   "outputs": [],
   "source": [
    "def assert_dim(t: ndarray,\n",
    "               dim: ndarray):\n",
    "    assert len(t.shape) == dim, \\\n",
    "    '''\n",
    "    Tensor expected to have dimension {0}, instead has dimension {1}\n",
    "    '''.format(dim, len(t.shape))\n",
    "    return None"
   ]
  },
  {
   "cell_type": "markdown",
   "id": "0af2a525-0ee5-4526-875e-4a596663674b",
   "metadata": {},
   "source": [
    "\n",
    "## 1D Convolution\n",
    "\n",
    "1 input, 1 output\n",
    "### Padding"
   ]
  },
  {
   "cell_type": "code",
   "execution_count": 4,
   "id": "a4c49369-c202-4b58-bcbd-23bf89a8a114",
   "metadata": {},
   "outputs": [],
   "source": [
    "input_1d = np.array([1,2,3,4,5])\n",
    "param_1d = np.array([1,1,1])"
   ]
  },
  {
   "cell_type": "code",
   "execution_count": 5,
   "id": "5f9a99b4-0582-4772-9759-e53935c6e6d6",
   "metadata": {},
   "outputs": [],
   "source": [
    "def _pad_1d(inp: ndarray,\n",
    "            num: int) -> ndarray:\n",
    "    z = np.array([0])\n",
    "    z = np.repeat(z, num)\n",
    "    return np.concatenate([z, inp, z])"
   ]
  },
  {
   "cell_type": "code",
   "execution_count": 12,
   "id": "36331c22-fde2-4c20-8a05-5c7007f58c50",
   "metadata": {},
   "outputs": [
    {
     "name": "stdout",
     "output_type": "stream",
     "text": [
      "[0]\n",
      "[0]\n"
     ]
    },
    {
     "data": {
      "text/plain": [
       "array([0, 1, 2, 3, 4, 5, 0])"
      ]
     },
     "execution_count": 12,
     "metadata": {},
     "output_type": "execute_result"
    }
   ],
   "source": [
    "z = np.array([0])\n",
    "print(z)\n",
    "z = np.repeat(z,1)\n",
    "print(z)\n",
    "np.concatenate([z, input_1d, z])"
   ]
  },
  {
   "cell_type": "code",
   "execution_count": 6,
   "id": "362763cd-f450-4767-9bd8-e1244490204d",
   "metadata": {},
   "outputs": [
    {
     "data": {
      "text/plain": [
       "array([0, 1, 2, 3, 4, 5, 0])"
      ]
     },
     "execution_count": 6,
     "metadata": {},
     "output_type": "execute_result"
    }
   ],
   "source": [
    "_pad_1d(input_1d, 1)"
   ]
  },
  {
   "cell_type": "markdown",
   "id": "b7eda5df-52e0-41d5-a51f-46a708edc564",
   "metadata": {},
   "source": [
    "### Forward"
   ]
  },
  {
   "cell_type": "code",
   "execution_count": null,
   "id": "4654998b-e1ae-4658-be88-1ebfdd8f93bd",
   "metadata": {},
   "outputs": [],
   "source": [
    "def conv_1d(inp: ndarray, \n",
    "            param: ndarray) -> ndarray:\n",
    "    \n",
    "    # assert correct dimensions\n",
    "    assert_dim(inp, 1)\n",
    "    assert_dim(param, 1)\n",
    "    \n",
    "    # pad the input\n",
    "    param_len = param.shape[0]\n",
    "    param_mid = param_len // 2\n",
    "    inp_pad = _pad_1d(inp, param_mid)\n",
    "    \n",
    "    # initialize the output\n",
    "    out = np.zeros(inp.shape)\n",
    "    \n",
    "    # perform the 1d convolution\n",
    "    for o in range(out.shape[0]):\n",
    "        for p in range(param_len):\n",
    "            out[o] += param[p] * inp_pad[o+p]\n",
    "\n",
    "    # ensure shapes didn't change            \n",
    "    assert_same_shape(inp, out)\n",
    "\n",
    "    return out"
   ]
  },
  {
   "cell_type": "code",
   "execution_count": null,
   "id": "47cacd99-aad6-4e06-811f-0fc6fcd99e07",
   "metadata": {},
   "outputs": [],
   "source": [
    "def conv_1d_sum(inp: ndarray, \n",
    "                param: ndarray) -> ndarray:\n",
    "    out = conv_1d(inp, param)\n",
    "    return np.sum(out)"
   ]
  },
  {
   "cell_type": "code",
   "execution_count": null,
   "id": "e4bac6a1-ea74-470c-977f-1659ff993b82",
   "metadata": {},
   "outputs": [],
   "source": [
    "conv_1d_sum(input_1d, param_1d)"
   ]
  },
  {
   "cell_type": "markdown",
   "id": "9472b365-2d2e-4da2-b1b0-92cf2ee9c7a1",
   "metadata": {},
   "source": [
    "### Testing gradients"
   ]
  },
  {
   "cell_type": "code",
   "execution_count": 10,
   "id": "103096ef-cbbc-4d2e-8efc-1abd3d0f4ff0",
   "metadata": {},
   "outputs": [
    {
     "name": "stdout",
     "output_type": "stream",
     "text": [
      "4\n",
      "0\n"
     ]
    }
   ],
   "source": [
    "np.random.seed(190220)\n",
    "print(np.random.randint(0, input_1d.shape[0]))\n",
    "print(np.random.randint(0, param_1d.shape[0]))"
   ]
  },
  {
   "cell_type": "code",
   "execution_count": 11,
   "id": "07ab45eb-84e4-4db1-9e65-7bc5a5528874",
   "metadata": {},
   "outputs": [],
   "source": [
    "input_1d_2 = np.array([1,2,3,4,6])\n",
    "param_1d = np.array([1,1,1])"
   ]
  },
  {
   "cell_type": "code",
   "execution_count": 12,
   "id": "65e229d5-9815-45ae-815a-64a59402d8ec",
   "metadata": {},
   "outputs": [
    {
     "name": "stdout",
     "output_type": "stream",
     "text": [
      "0.0\n"
     ]
    }
   ],
   "source": [
    "print(conv_1d_sum(input_1d_2, param_1d) - conv_1d_sum(input_1d_2, param_1d))"
   ]
  },
  {
   "cell_type": "code",
   "execution_count": 13,
   "id": "eb77825f-857d-436c-958d-bd514bd4c911",
   "metadata": {},
   "outputs": [
    {
     "name": "stdout",
     "output_type": "stream",
     "text": [
      "10.0\n"
     ]
    }
   ],
   "source": [
    "input_1d = np.array([1,2,3,4,5])\n",
    "param_1d_2 = np.array([2,1,1])\n",
    "\n",
    "print(conv_1d_sum(input_1d, param_1d_2) - conv_1d_sum(input_1d, param_1d))"
   ]
  },
  {
   "cell_type": "markdown",
   "id": "8649a43f-3db1-48b7-8b37-0f0959ae26b6",
   "metadata": {},
   "source": [
    "### Gradients"
   ]
  },
  {
   "cell_type": "code",
   "execution_count": 14,
   "id": "ac2fe6b8-167f-40d5-8af4-40c87cddbc5b",
   "metadata": {},
   "outputs": [],
   "source": [
    "def _param_grad_1d(inp: ndarray, \n",
    "                   param: ndarray, \n",
    "                   output_grad: ndarray = None) -> ndarray:\n",
    "    \n",
    "    param_len = param.shape[0]\n",
    "    param_mid = param_len // 2\n",
    "    input_pad = _pad_1d(inp, param_mid)\n",
    "    \n",
    "    if output_grad is None:\n",
    "        output_grad = np.ones_like(inp)\n",
    "    else:\n",
    "        assert_same_shape(inp, output_grad)\n",
    "\n",
    "    # Zero padded 1 dimensional convolution\n",
    "    param_grad = np.zeros_like(param)\n",
    "    input_grad = np.zeros_like(inp)\n",
    "\n",
    "    for o in range(inp.shape[0]):\n",
    "        for p in range(param.shape[0]):\n",
    "            param_grad[p] += input_pad[o+p] * output_grad[o]\n",
    "        \n",
    "    assert_same_shape(param_grad, param)\n",
    "    \n",
    "    return param_grad"
   ]
  },
  {
   "cell_type": "code",
   "execution_count": 15,
   "id": "1a2f4e0a-d3f8-4e9f-bb87-00ac22a61eb6",
   "metadata": {},
   "outputs": [],
   "source": [
    "def _input_grad_1d(inp: ndarray, \n",
    "                   param: ndarray, \n",
    "                   output_grad: ndarray = None) -> ndarray:\n",
    "    \n",
    "    param_len = param.shape[0]\n",
    "    param_mid = param_len // 2\n",
    "    inp_pad = _pad_1d(inp, param_mid)\n",
    "    \n",
    "    if output_grad is None:\n",
    "        output_grad = np.ones_like(inp)\n",
    "    else:\n",
    "        assert_same_shape(inp, output_grad)\n",
    "    \n",
    "    output_pad = _pad_1d(output_grad, param_mid)\n",
    "    \n",
    "    # Zero padded 1 dimensional convolution\n",
    "    param_grad = np.zeros_like(param)\n",
    "    input_grad = np.zeros_like(inp)\n",
    "\n",
    "    for o in range(inp.shape[0]):\n",
    "        for f in range(param.shape[0]):\n",
    "            input_grad[o] += output_pad[o+param_len-f-1] * param[f]\n",
    "        \n",
    "    assert_same_shape(param_grad, param)\n",
    "    \n",
    "    return input_grad"
   ]
  },
  {
   "cell_type": "code",
   "execution_count": 16,
   "id": "dcb6efc9-c528-4432-8f6f-9c94b6e91052",
   "metadata": {},
   "outputs": [
    {
     "data": {
      "text/plain": [
       "array([2, 3, 3, 3, 2])"
      ]
     },
     "execution_count": 16,
     "metadata": {},
     "output_type": "execute_result"
    }
   ],
   "source": [
    "_input_grad_1d(input_1d, param_1d)"
   ]
  },
  {
   "cell_type": "code",
   "execution_count": 18,
   "id": "6e9cfff8-71fe-47fa-b2b9-65569e414cbe",
   "metadata": {},
   "outputs": [
    {
     "data": {
      "text/plain": [
       "array([10, 15, 14])"
      ]
     },
     "execution_count": 18,
     "metadata": {},
     "output_type": "execute_result"
    }
   ],
   "source": [
    "_param_grad_1d(input_1d, param_1d)"
   ]
  },
  {
   "cell_type": "markdown",
   "id": "f1a1c275-d7d4-4194-b9cf-a7522ceb5333",
   "metadata": {},
   "source": [
    "### Batch size of 2"
   ]
  },
  {
   "cell_type": "markdown",
   "id": "e879b3e9-38a2-4c5d-a521-539fb60da7a8",
   "metadata": {},
   "source": [
    "#### Pad"
   ]
  },
  {
   "cell_type": "code",
   "execution_count": 19,
   "id": "961117f5-1a5e-4893-8b0c-4c11093d3616",
   "metadata": {},
   "outputs": [],
   "source": [
    "input_1d_batch = np.array([[0,1,2,3,4,5,6], \n",
    "                           [1,2,3,4,5,6,7]])"
   ]
  },
  {
   "cell_type": "code",
   "execution_count": 20,
   "id": "01b30ce5-c779-4d14-bcc0-94ee0ddd61a8",
   "metadata": {},
   "outputs": [],
   "source": [
    "def _pad_1d(inp: ndarray,\n",
    "            num: int) -> ndarray:\n",
    "    z = np.array([0])\n",
    "    z = np.repeat(z, num)\n",
    "    return np.concatenate([z, inp, z])"
   ]
  },
  {
   "cell_type": "code",
   "execution_count": 21,
   "id": "4e960f47-23f5-4628-9565-d90449153e19",
   "metadata": {},
   "outputs": [],
   "source": [
    "def _pad_1d_batch(inp: ndarray, \n",
    "                  num: int) -> ndarray:\n",
    "    outs = [_pad_1d(obs, num) for obs in inp]\n",
    "    return np.stack(outs)"
   ]
  },
  {
   "cell_type": "code",
   "execution_count": 22,
   "id": "9b251198-aedf-41a7-968e-bf75167a6d11",
   "metadata": {},
   "outputs": [
    {
     "data": {
      "text/plain": [
       "array([[0, 0, 1, 2, 3, 4, 5, 6, 0],\n",
       "       [0, 1, 2, 3, 4, 5, 6, 7, 0]])"
      ]
     },
     "execution_count": 22,
     "metadata": {},
     "output_type": "execute_result"
    }
   ],
   "source": [
    "_pad_1d_batch(input_1d_batch, 1)"
   ]
  },
  {
   "cell_type": "markdown",
   "id": "1777887f-5cdf-4556-b29f-bca8c2ad88ad",
   "metadata": {},
   "source": [
    "### Forward"
   ]
  },
  {
   "cell_type": "code",
   "execution_count": 23,
   "id": "336cd1d2-26da-45d9-8405-2a69b2de88a9",
   "metadata": {},
   "outputs": [],
   "source": [
    "def conv_1d_batch(inp: ndarray, \n",
    "                  param: ndarray) -> ndarray:\n",
    "\n",
    "    outs = [conv_1d(obs, param) for obs in inp]\n",
    "    return np.stack(outs)"
   ]
  },
  {
   "cell_type": "code",
   "execution_count": 24,
   "id": "108d285e-db44-4096-b4a2-2864058469af",
   "metadata": {},
   "outputs": [
    {
     "data": {
      "text/plain": [
       "array([[ 1.,  3.,  6.,  9., 12., 15., 11.],\n",
       "       [ 3.,  6.,  9., 12., 15., 18., 13.]])"
      ]
     },
     "execution_count": 24,
     "metadata": {},
     "output_type": "execute_result"
    }
   ],
   "source": [
    "conv_1d_batch(input_1d_batch, param_1d)"
   ]
  },
  {
   "cell_type": "markdown",
   "id": "e308d669-d1df-4082-8669-74b107eeb157",
   "metadata": {},
   "source": [
    "### Gradient"
   ]
  },
  {
   "cell_type": "code",
   "execution_count": 25,
   "id": "0360cd05-05b7-4a8a-95db-fa47f089892f",
   "metadata": {},
   "outputs": [],
   "source": [
    "def input_grad_1d_batch(inp: ndarray, \n",
    "                        param: ndarray) -> ndarray:\n",
    "\n",
    "    out = conv_1d_batch(inp, param)\n",
    "    \n",
    "    out_grad = np.ones_like(out)\n",
    "    \n",
    "    batch_size = out_grad.shape[0]\n",
    "        \n",
    "    grads = [_input_grad_1d(inp[i], param, out_grad[i]) for i in range(batch_size)]    \n",
    "\n",
    "    return np.stack(grads)"
   ]
  },
  {
   "cell_type": "code",
   "execution_count": 26,
   "id": "b236c435-0d9f-473f-9691-7fd6ef28b513",
   "metadata": {},
   "outputs": [],
   "source": [
    "def param_grad_1d_batch(inp: ndarray, \n",
    "                        param: ndarray) -> ndarray:\n",
    "\n",
    "    output_grad = np.ones_like(inp)\n",
    "    \n",
    "    inp_pad = _pad_1d_batch(inp, 1)\n",
    "    out_pad = _pad_1d_batch(inp, 1)\n",
    "\n",
    "    param_grad = np.zeros_like(param)    \n",
    "    \n",
    "    for i in range(inp.shape[0]):\n",
    "        for o in range(inp.shape[1]):\n",
    "            for p in range(param.shape[0]):\n",
    "                param_grad[p] += inp_pad[i][o+p] * output_grad[i][o]    \n",
    "\n",
    "    return param_grad"
   ]
  },
  {
   "cell_type": "markdown",
   "id": "86c1f6b7-73c8-467b-9d5c-7a92ed60f4a3",
   "metadata": {},
   "source": [
    "### Checking gradients for conv_1d_batch"
   ]
  },
  {
   "cell_type": "code",
   "execution_count": 27,
   "id": "fc07b2e4-31c3-4917-bef3-ab693ff9e829",
   "metadata": {},
   "outputs": [],
   "source": [
    "def conv_1d_batch_sum(inp: ndarray, \n",
    "                      fil: ndarray) -> ndarray:\n",
    "    out = conv_1d_batch(inp, fil)\n",
    "    return np.sum(out)"
   ]
  },
  {
   "cell_type": "code",
   "execution_count": 28,
   "id": "b5c3f9a0-1245-4479-ac0f-4421dcce56db",
   "metadata": {},
   "outputs": [
    {
     "data": {
      "text/plain": [
       "133.0"
      ]
     },
     "execution_count": 28,
     "metadata": {},
     "output_type": "execute_result"
    }
   ],
   "source": [
    "conv_1d_batch_sum(input_1d_batch, param_1d)"
   ]
  },
  {
   "cell_type": "code",
   "execution_count": 29,
   "id": "f2d6669b-c5d1-4b59-8e5c-a6672e331e09",
   "metadata": {},
   "outputs": [
    {
     "name": "stdout",
     "output_type": "stream",
     "text": [
      "0\n",
      "2\n"
     ]
    }
   ],
   "source": [
    "print(np.random.randint(0, input_1d_batch.shape[0]))\n",
    "print(np.random.randint(0, input_1d_batch.shape[1]))"
   ]
  },
  {
   "cell_type": "code",
   "execution_count": 30,
   "id": "06b90552-3dce-4af3-b844-6f9a0a6c7e25",
   "metadata": {},
   "outputs": [
    {
     "data": {
      "text/plain": [
       "3.0"
      ]
     },
     "execution_count": 30,
     "metadata": {},
     "output_type": "execute_result"
    }
   ],
   "source": [
    "input_1d_batch_2 = input_1d_batch.copy()\n",
    "input_1d_batch_2[0][2] += 1\n",
    "conv_1d_batch_sum(input_1d_batch_2, param_1d) - conv_1d_batch_sum(input_1d_batch, param_1d)"
   ]
  },
  {
   "cell_type": "code",
   "execution_count": 31,
   "id": "f89cf60c-7c02-4d69-830f-3bd66d13cfff",
   "metadata": {},
   "outputs": [
    {
     "data": {
      "text/plain": [
       "array([[2, 3, 3, 3, 3, 3, 2],\n",
       "       [2, 3, 3, 3, 3, 3, 2]])"
      ]
     },
     "execution_count": 31,
     "metadata": {},
     "output_type": "execute_result"
    }
   ],
   "source": [
    "\n",
    "\n",
    "input_grad_1d_batch(input_1d_batch, param_1d)\n",
    "\n"
   ]
  },
  {
   "cell_type": "code",
   "execution_count": 32,
   "id": "17dc892f-bca3-4c97-a653-991aa5601651",
   "metadata": {},
   "outputs": [
    {
     "name": "stdout",
     "output_type": "stream",
     "text": [
      "2\n"
     ]
    }
   ],
   "source": [
    "print(np.random.randint(0, param_1d.shape[0]))"
   ]
  },
  {
   "cell_type": "code",
   "execution_count": 33,
   "id": "3217cc13-0606-4027-80e2-466eb088e798",
   "metadata": {},
   "outputs": [
    {
     "data": {
      "text/plain": [
       "48.0"
      ]
     },
     "execution_count": 33,
     "metadata": {},
     "output_type": "execute_result"
    }
   ],
   "source": [
    "param_1d_2 = param_1d.copy()\n",
    "param_1d_2[2] += 1\n",
    "conv_1d_batch_sum(input_1d_batch, param_1d_2) - conv_1d_batch_sum(input_1d_batch, param_1d) "
   ]
  },
  {
   "cell_type": "code",
   "execution_count": 34,
   "id": "3b63e574-b0e3-4fb3-aa2f-3dcb842f46ff",
   "metadata": {},
   "outputs": [
    {
     "data": {
      "text/plain": [
       "array([36, 49, 48])"
      ]
     },
     "execution_count": 34,
     "metadata": {},
     "output_type": "execute_result"
    }
   ],
   "source": [
    "param_grad_1d_batch(input_1d_batch, param_1d)"
   ]
  },
  {
   "cell_type": "markdown",
   "id": "dbc5b336-6bf2-4139-9892-38a8f18ed01f",
   "metadata": {},
   "source": [
    "### 2D Convolutions"
   ]
  },
  {
   "cell_type": "code",
   "execution_count": 35,
   "id": "6e441fd5-a2d0-4d95-8b0b-0fb4cb5ad662",
   "metadata": {},
   "outputs": [],
   "source": [
    "imgs_2d_batch = np.random.randn(3, 28, 28)"
   ]
  },
  {
   "cell_type": "code",
   "execution_count": 36,
   "id": "4dc71817-0a6e-4fb0-b947-5cfb3a461242",
   "metadata": {},
   "outputs": [],
   "source": [
    "param_2d = np.random.randn(3, 3)"
   ]
  },
  {
   "cell_type": "markdown",
   "id": "ecb21b90-a6c0-45c9-94be-0104d6cbf6b9",
   "metadata": {},
   "source": [
    "### Padding"
   ]
  },
  {
   "cell_type": "code",
   "execution_count": 37,
   "id": "5ee9b842-709e-4cbf-aa13-a66c1922d596",
   "metadata": {},
   "outputs": [],
   "source": [
    "def _pad_2d(inp: ndarray, \n",
    "            num: int):\n",
    "    '''\n",
    "    Input is a 3 dimensional tensor, first dimension batch size\n",
    "    '''\n",
    "    outs = [_pad_2d_obs(obs, num) for obs in inp]\n",
    "\n",
    "    return np.stack(outs)"
   ]
  },
  {
   "cell_type": "code",
   "execution_count": 38,
   "id": "76da85a0-a360-4fb1-991d-c7438634b352",
   "metadata": {},
   "outputs": [],
   "source": [
    "def _pad_2d_obs(inp: ndarray, \n",
    "                num: int):\n",
    "    '''\n",
    "    Input is a 2 dimensional, square, 2D Tensor\n",
    "    '''\n",
    "    inp_pad = _pad_1d_batch(inp, num)\n",
    "\n",
    "    other = np.zeros((num, inp.shape[0] + num * 2))\n",
    "\n",
    "    return np.concatenate([other, inp_pad, other])"
   ]
  },
  {
   "cell_type": "code",
   "execution_count": 39,
   "id": "86fc4d00-195f-408b-a0c9-41cfdfb531bd",
   "metadata": {},
   "outputs": [
    {
     "data": {
      "text/plain": [
       "(3, 30, 30)"
      ]
     },
     "execution_count": 39,
     "metadata": {},
     "output_type": "execute_result"
    }
   ],
   "source": [
    "_pad_2d(imgs_2d_batch, 1).shape"
   ]
  },
  {
   "cell_type": "markdown",
   "id": "8fca5536-9919-461f-b935-ba9a3b0e7b94",
   "metadata": {},
   "source": [
    "### Compute output"
   ]
  },
  {
   "cell_type": "code",
   "execution_count": 40,
   "id": "69c2e575-eed9-433d-a210-86a691c37590",
   "metadata": {},
   "outputs": [],
   "source": [
    "def _compute_output_obs_2d(obs: ndarray, \n",
    "                           param: ndarray):\n",
    "    '''\n",
    "    Obs is a 2d square Tensor, so is param\n",
    "    '''\n",
    "    param_mid = param.shape[0] // 2\n",
    "    \n",
    "    obs_pad = _pad_2d_obs(obs, param_mid)\n",
    "    \n",
    "    out = np.zeros_like(obs)\n",
    "    \n",
    "    for o_w in range(out.shape[0]):\n",
    "        for o_h in range(out.shape[1]):\n",
    "            for p_w in range(param.shape[0]):\n",
    "                for p_h in range(param.shape[1]):\n",
    "                    out[o_w][o_h] += param[p_w][p_h] * obs_pad[o_w+p_w][o_h+p_h]\n",
    "    return out"
   ]
  },
  {
   "cell_type": "code",
   "execution_count": 41,
   "id": "3873465a-6dd4-4d9b-bab5-8f493d85838f",
   "metadata": {},
   "outputs": [],
   "source": [
    "def _compute_output_2d(img_batch: ndarray,\n",
    "                       param: ndarray):\n",
    "    \n",
    "    assert_dim(img_batch, 3)\n",
    "    \n",
    "    outs = [_compute_output_obs_2d(obs, param) for obs in img_batch]\n",
    "    \n",
    "    return np.stack(outs)"
   ]
  },
  {
   "cell_type": "code",
   "execution_count": 42,
   "id": "15af7f61-1a31-40df-9579-49ce20a2be8c",
   "metadata": {},
   "outputs": [
    {
     "data": {
      "text/plain": [
       "(3, 28, 28)"
      ]
     },
     "execution_count": 42,
     "metadata": {},
     "output_type": "execute_result"
    }
   ],
   "source": [
    "_compute_output_2d(imgs_2d_batch, param_2d).shape"
   ]
  },
  {
   "cell_type": "markdown",
   "id": "9213edd0-945f-485b-8a7e-a30818b74350",
   "metadata": {},
   "source": [
    "### Param grads"
   ]
  },
  {
   "cell_type": "code",
   "execution_count": 44,
   "id": "a5b65334-8011-4d9e-9dde-b15ad4ad1783",
   "metadata": {},
   "outputs": [],
   "source": [
    "def _compute_grads_obs_2d(input_obs: ndarray,\n",
    "                          output_grad_obs: ndarray, \n",
    "                          param: ndarray) -> ndarray:\n",
    "    '''\n",
    "    input_obs: 2D Tensor representing the input observation\n",
    "    output_grad_obs: 2D Tensor representing the output gradient  \n",
    "    param: 2D filter\n",
    "    '''\n",
    "    \n",
    "    param_size = param.shape[0]\n",
    "    output_obs_pad = _pad_2d_obs(output_grad_obs, param_size // 2)\n",
    "    input_grad = np.zeros_like(input_obs)\n",
    "\n",
    "    for i_w in range(input_obs.shape[0]):\n",
    "        for i_h in range(input_obs.shape[1]):\n",
    "            for p_w in range(param_size):\n",
    "                for p_h in range(param_size):\n",
    "                    input_grad[i_w][i_h] += output_obs_pad[i_w+param_size-p_w-1][i_h+param_size-p_h-1] \\\n",
    "                    * param[p_w][p_h]\n",
    "\n",
    "    return input_grad\n",
    "\n",
    "def _compute_grads_2d(inp: ndarray,\n",
    "                      output_grad: ndarray, \n",
    "                      param: ndarray) -> ndarray:\n",
    "\n",
    "    grads = [_compute_grads_obs_2d(inp[i], output_grad[i], param) for i in range(output_grad.shape[0])]    \n",
    "\n",
    "    return np.stack(grads)\n",
    "\n",
    "\n",
    "def _param_grad_2d(inp: ndarray,\n",
    "                   output_grad: ndarray, \n",
    "                   param: ndarray) -> ndarray:\n",
    "\n",
    "    param_size = param.shape[0]\n",
    "    inp_pad = _pad_2d(inp, param_size // 2)\n",
    "\n",
    "    param_grad = np.zeros_like(param)\n",
    "    img_shape = output_grad.shape[1:]\n",
    "    \n",
    "    for i in range(inp.shape[0]):\n",
    "        for o_w in range(img_shape[0]):\n",
    "            for o_h in range(img_shape[1]):\n",
    "                for p_w in range(param_size):\n",
    "                    for p_h in range(param_size):\n",
    "                        param_grad[p_w][p_h] += inp_pad[i][o_w+p_w][o_h+p_h] \\\n",
    "                        * output_grad[i][o_w][o_h]\n",
    "    return param_grad"
   ]
  },
  {
   "cell_type": "code",
   "execution_count": 45,
   "id": "8c9a8a06-5be4-4080-b17a-bf2670440bf9",
   "metadata": {},
   "outputs": [],
   "source": [
    "img_grads = _compute_grads_2d(imgs_2d_batch, \n",
    "                              np.ones_like(imgs_2d_batch),\n",
    "                              param_2d)"
   ]
  },
  {
   "cell_type": "code",
   "execution_count": 46,
   "id": "dd38e722-cc28-4622-b21f-1e8770d82ef8",
   "metadata": {},
   "outputs": [
    {
     "data": {
      "text/plain": [
       "(3, 28, 28)"
      ]
     },
     "execution_count": 46,
     "metadata": {},
     "output_type": "execute_result"
    }
   ],
   "source": [
    "img_grads.shape"
   ]
  },
  {
   "cell_type": "code",
   "execution_count": 47,
   "id": "b84e54f6-9d8f-438b-b74b-8fd80a911139",
   "metadata": {},
   "outputs": [
    {
     "data": {
      "text/plain": [
       "(3, 3)"
      ]
     },
     "execution_count": 47,
     "metadata": {},
     "output_type": "execute_result"
    }
   ],
   "source": [
    "param_grad = _param_grad_2d(imgs_2d_batch, \n",
    "                              np.ones_like(imgs_2d_batch),\n",
    "                              param_2d)\n",
    "param_grad.shape"
   ]
  },
  {
   "cell_type": "markdown",
   "id": "a16d386e-5d99-4fda-bd92-c6a72b3f660f",
   "metadata": {},
   "source": [
    "## Testing gradients\n",
    "\n",
    "#### Input"
   ]
  },
  {
   "cell_type": "code",
   "execution_count": 48,
   "id": "aef75ea7-dbb6-4ea7-9ab4-5086a16d226d",
   "metadata": {},
   "outputs": [
    {
     "name": "stdout",
     "output_type": "stream",
     "text": [
      "0\n",
      "6\n",
      "18\n"
     ]
    }
   ],
   "source": [
    "print(np.random.randint(0, imgs_2d_batch.shape[0]))\n",
    "print(np.random.randint(0, imgs_2d_batch.shape[1]))\n",
    "print(np.random.randint(0, imgs_2d_batch.shape[2]))"
   ]
  },
  {
   "cell_type": "code",
   "execution_count": 49,
   "id": "64bc3311-c567-46c3-8239-f622d6d6d640",
   "metadata": {},
   "outputs": [],
   "source": [
    "imgs_2d_batch_2 = imgs_2d_batch.copy()\n",
    "imgs_2d_batch_2[0][6][18] += 1"
   ]
  },
  {
   "cell_type": "code",
   "execution_count": 50,
   "id": "558b992a-a26c-428f-94ed-dd76ed62ad21",
   "metadata": {},
   "outputs": [],
   "source": [
    "def _compute_output_2d_sum(img_batch: ndarray,\n",
    "                           param: ndarray):\n",
    "    \n",
    "    out = _compute_output_2d(img_batch, param)\n",
    "    \n",
    "    return out.sum()"
   ]
  },
  {
   "cell_type": "code",
   "execution_count": 51,
   "id": "3cb1eba4-23c3-4f46-8958-f3bbd82f16dc",
   "metadata": {},
   "outputs": [
    {
     "data": {
      "text/plain": [
       "-3.1843477398599163"
      ]
     },
     "execution_count": 51,
     "metadata": {},
     "output_type": "execute_result"
    }
   ],
   "source": [
    "_compute_output_2d_sum(imgs_2d_batch_2, param_2d) - \\\n",
    "_compute_output_2d_sum(imgs_2d_batch, param_2d)"
   ]
  },
  {
   "cell_type": "code",
   "execution_count": 52,
   "id": "da6a9fb6-caab-4f6c-8680-1b472eb4213a",
   "metadata": {},
   "outputs": [
    {
     "data": {
      "text/plain": [
       "-3.184347739859924"
      ]
     },
     "execution_count": 52,
     "metadata": {},
     "output_type": "execute_result"
    }
   ],
   "source": [
    "img_grads[0][6][18]"
   ]
  },
  {
   "cell_type": "markdown",
   "id": "55855b29-28a2-4392-a86a-d4cb130844ea",
   "metadata": {},
   "source": [
    "### Param"
   ]
  },
  {
   "cell_type": "code",
   "execution_count": 53,
   "id": "c22c7c99-ed9a-411c-ba10-b7ceb6b90034",
   "metadata": {},
   "outputs": [
    {
     "name": "stdout",
     "output_type": "stream",
     "text": [
      "0\n",
      "2\n"
     ]
    }
   ],
   "source": [
    "print(np.random.randint(0, param_2d.shape[0]))\n",
    "print(np.random.randint(0, param_2d.shape[1]))"
   ]
  },
  {
   "cell_type": "code",
   "execution_count": 54,
   "id": "8e77d154-3719-4436-afcf-44abd8400dc8",
   "metadata": {},
   "outputs": [],
   "source": [
    "param_2d_2 = param_2d.copy()\n",
    "param_2d_2[0][2] += 1"
   ]
  },
  {
   "cell_type": "code",
   "execution_count": 55,
   "id": "84a18e28-a5c7-46e4-a504-64323baf8e5b",
   "metadata": {},
   "outputs": [
    {
     "data": {
      "text/plain": [
       "5.53349015923007"
      ]
     },
     "execution_count": 55,
     "metadata": {},
     "output_type": "execute_result"
    }
   ],
   "source": [
    "_compute_output_2d_sum(imgs_2d_batch, param_2d_2) - _compute_output_2d_sum(imgs_2d_batch, param_2d)"
   ]
  },
  {
   "cell_type": "code",
   "execution_count": 56,
   "id": "fd91e185-43ed-4c44-9536-2262aaef3d05",
   "metadata": {},
   "outputs": [
    {
     "data": {
      "text/plain": [
       "5.533490159230001"
      ]
     },
     "execution_count": 56,
     "metadata": {},
     "output_type": "execute_result"
    }
   ],
   "source": [
    "param_grad[0][2]"
   ]
  },
  {
   "cell_type": "markdown",
   "id": "2ceda463-39e5-491c-a3e5-0d48f9280952",
   "metadata": {},
   "source": [
    "## With channels + batch size\n",
    "### Helper"
   ]
  },
  {
   "cell_type": "code",
   "execution_count": 57,
   "id": "53d61d90-b32b-47e3-9b0f-a8a19be05d03",
   "metadata": {},
   "outputs": [],
   "source": [
    "def _pad_2d_channel(inp: ndarray, \n",
    "                    num: int):\n",
    "    '''\n",
    "    inp has dimension [num_channels, image_width, image_height] \n",
    "    '''\n",
    "    return np.stack([_pad_2d_obs(channel, num) for channel in inp])\n",
    "\n",
    "def _pad_conv_input(inp: ndarray,\n",
    "                    num: int):   \n",
    "    '''\n",
    "    inp has dimension [batch_size, num_channels, image_width, image_height]\n",
    "    '''    \n",
    "    return np.stack([_pad_2d_channel(obs, num) for obs in inp])"
   ]
  },
  {
   "cell_type": "markdown",
   "id": "407313c9-2950-4240-9468-f7d7b988e71b",
   "metadata": {},
   "source": [
    "#### Forward"
   ]
  },
  {
   "cell_type": "code",
   "execution_count": 58,
   "id": "a2ac7a12-4c5a-4bad-b6e2-4f982022fabb",
   "metadata": {},
   "outputs": [],
   "source": [
    "def _compute_output_obs(obs: ndarray, \n",
    "                        param: ndarray):\n",
    "    '''\n",
    "    obs: [channels, img_width, img_height]\n",
    "    param: [in_channels, out_channels, fil_width, fil_height]    \n",
    "    '''\n",
    "    assert_dim(obs, 3)\n",
    "    assert_dim(param, 4)\n",
    "    \n",
    "    param_size = param.shape[2]\n",
    "    param_mid = param_size // 2\n",
    "    obs_pad = _pad_2d_channel(obs, param_mid)\n",
    "    \n",
    "    in_channels = param.shape[0]\n",
    "    out_channels = param.shape[1]\n",
    "    img_size = obs.shape[1]\n",
    "    \n",
    "    out = np.zeros((out_channels,) + obs.shape[1:])\n",
    "    for c_in in range(in_channels):\n",
    "        for c_out in range(out_channels):\n",
    "            for o_w in range(img_size):\n",
    "                for o_h in range(img_size):\n",
    "                    for p_w in range(param_size):\n",
    "                        for p_h in range(param_size):\n",
    "                            out[c_out][o_w][o_h] += \\\n",
    "                            param[c_in][c_out][p_w][p_h] * obs_pad[c_in][o_w+p_w][o_h+p_h]\n",
    "    return out    \n",
    "\n",
    "def _output(inp: ndarray,\n",
    "                    param: ndarray) -> ndarray:\n",
    "    '''\n",
    "    obs: [batch_size, channels, img_width, img_height]\n",
    "    fil: [in_channels, out_channels, fil_width, fil_height]    \n",
    "    '''\n",
    "    outs = [_compute_output_obs(obs, param) for obs in inp]    \n",
    "\n",
    "    return np.stack(outs)"
   ]
  },
  {
   "cell_type": "markdown",
   "id": "76991841-41a3-4d2b-9b8b-1a44f83852b3",
   "metadata": {},
   "source": [
    "#### Backward"
   ]
  },
  {
   "cell_type": "code",
   "execution_count": 59,
   "id": "7ad8da48-bffa-460d-bf39-c55d96533e98",
   "metadata": {},
   "outputs": [],
   "source": [
    "def _compute_grads_obs(input_obs: ndarray,\n",
    "                       output_grad_obs: ndarray,\n",
    "                       param: ndarray) -> ndarray:\n",
    "    '''\n",
    "    input_obs: [in_channels, img_width, img_height]\n",
    "    output_grad_obs: [out_channels, img_width, img_height]\n",
    "    param: [in_channels, out_channels, img_width, img_height]    \n",
    "    '''\n",
    "    input_grad = np.zeros_like(input_obs)    \n",
    "    param_size = param.shape[2]\n",
    "    param_mid = param_size // 2\n",
    "    img_size = input_obs.shape[1]\n",
    "    in_channels = input_obs.shape[0]\n",
    "    out_channels = param.shape[1]\n",
    "    output_obs_pad = _pad_2d_channel(output_grad_obs, param_mid)\n",
    "    \n",
    "    for c_in in range(in_channels):\n",
    "        for c_out in range(out_channels):\n",
    "            for i_w in range(input_obs.shape[1]):\n",
    "                for i_h in range(input_obs.shape[2]):\n",
    "                    for p_w in range(param_size):\n",
    "                        for p_h in range(param_size):\n",
    "                            input_grad[c_in][i_w][i_h] += \\\n",
    "                            output_obs_pad[c_out][i_w+param_size-p_w-1][i_h+param_size-p_h-1] \\\n",
    "                            * param[c_in][c_out][p_w][p_h]\n",
    "    return input_grad\n",
    "\n",
    "def _input_grad(inp: ndarray,\n",
    "                output_grad: ndarray, \n",
    "                param: ndarray) -> ndarray:\n",
    "\n",
    "    grads = [_compute_grads_obs(inp[i], output_grad[i], param) for i in range(output_grad.shape[0])]    \n",
    "\n",
    "    return np.stack(grads)"
   ]
  },
  {
   "cell_type": "code",
   "execution_count": 60,
   "id": "b6779502-5792-49e3-b24d-4f5e709a33a1",
   "metadata": {},
   "outputs": [],
   "source": [
    "def _param_grad(inp: ndarray,\n",
    "                output_grad: ndarray, \n",
    "                param: ndarray) -> ndarray:\n",
    "    '''\n",
    "    inp: [in_channels, img_width, img_height]\n",
    "    output_grad_obs: [out_channels, img_width, img_height]\n",
    "    param: [in_channels, out_channels, img_width, img_height]    \n",
    "    '''\n",
    "    param_grad = np.zeros_like(param)    \n",
    "    param_size = param.shape[2]\n",
    "    param_mid = param_size // 2\n",
    "    img_size = inp.shape[2]\n",
    "    in_channels = inp.shape[1]\n",
    "    out_channels = output_grad.shape[1]    \n",
    "\n",
    "    inp_pad = _pad_conv_input(inp, param_mid)\n",
    "    img_shape = output_grad.shape[2:]\n",
    "\n",
    "    for i in range(inp.shape[0]):\n",
    "        for c_in in range(in_channels):\n",
    "            for c_out in range(out_channels):\n",
    "                for o_w in range(img_shape[0]):\n",
    "                    for o_h in range(img_shape[1]):\n",
    "                        for p_w in range(param_size):\n",
    "                            for p_h in range(param_size):\n",
    "                                param_grad[c_in][c_out][p_w][p_h] += \\\n",
    "                                inp_pad[i][c_in][o_w+p_w][o_h+p_h] \\\n",
    "                                * output_grad[i][c_out][o_w][o_h]\n",
    "    return param_grad"
   ]
  },
  {
   "cell_type": "markdown",
   "id": "58aa2f01-2e94-4d64-bf79-7bf1fd300d1f",
   "metadata": {},
   "source": [
    "#### Testing gradients"
   ]
  },
  {
   "cell_type": "code",
   "execution_count": 61,
   "id": "0fc98fa3-86a3-4be9-aa3f-590ca36ce867",
   "metadata": {},
   "outputs": [],
   "source": [
    "cifar_imgs = np.random.randn(10, 3, 32, 32)\n",
    "cifar_param = np.random.randn(3, 16, 5, 5)"
   ]
  },
  {
   "cell_type": "code",
   "execution_count": 62,
   "id": "2ea0f014-899b-41ac-b6cf-2ab59ab7b7af",
   "metadata": {},
   "outputs": [
    {
     "name": "stdout",
     "output_type": "stream",
     "text": [
      "3\n",
      "1\n",
      "2\n",
      "19\n",
      "\n",
      "0\n",
      "8\n",
      "0\n",
      "2\n"
     ]
    }
   ],
   "source": [
    "print(np.random.randint(0, cifar_imgs.shape[0]))\n",
    "print(np.random.randint(0, cifar_imgs.shape[1]))\n",
    "print(np.random.randint(0, cifar_imgs.shape[2]))\n",
    "print(np.random.randint(0, cifar_imgs.shape[3]))\n",
    "print()\n",
    "print(np.random.randint(0, cifar_param.shape[0]))\n",
    "print(np.random.randint(0, cifar_param.shape[1]))\n",
    "print(np.random.randint(0, cifar_param.shape[2]))\n",
    "print(np.random.randint(0, cifar_param.shape[3]))"
   ]
  },
  {
   "cell_type": "code",
   "execution_count": 63,
   "id": "3768c4e7-657d-4832-b834-68f5f58d8465",
   "metadata": {},
   "outputs": [],
   "source": [
    "def _compute_output_sum(imgs: ndarray,\n",
    "                        param: ndarray):\n",
    "    return _output(imgs, param).sum()"
   ]
  },
  {
   "cell_type": "markdown",
   "id": "15b6ac51-d46d-48c7-a3a2-c80b2088be12",
   "metadata": {},
   "source": [
    "#### Input grad"
   ]
  },
  {
   "cell_type": "code",
   "execution_count": 64,
   "id": "b0e0579b-6d11-4340-bbc5-603d9553b9e4",
   "metadata": {},
   "outputs": [],
   "source": [
    "cifar_imgs_2 = cifar_imgs.copy()\n",
    "cifar_imgs_2[3][1][2][19] += 1"
   ]
  },
  {
   "cell_type": "code",
   "execution_count": 65,
   "id": "512f9ae2-1d88-4bf4-b7c5-b566a3540522",
   "metadata": {},
   "outputs": [
    {
     "data": {
      "text/plain": [
       "2.345298758707486"
      ]
     },
     "execution_count": 65,
     "metadata": {},
     "output_type": "execute_result"
    }
   ],
   "source": [
    "_compute_output_sum(cifar_imgs_2, cifar_param) - _compute_output_sum(cifar_imgs, cifar_param)"
   ]
  },
  {
   "cell_type": "code",
   "execution_count": 66,
   "id": "ab400f23-f229-4639-8f37-5e6a40fb38d1",
   "metadata": {},
   "outputs": [
    {
     "data": {
      "text/plain": [
       "2.3452987587074423"
      ]
     },
     "execution_count": 66,
     "metadata": {},
     "output_type": "execute_result"
    }
   ],
   "source": [
    "_input_grad(cifar_imgs,\n",
    "            np.ones((10, 16, 32, 32)),\n",
    "            cifar_param)[3][1][2][19]"
   ]
  },
  {
   "cell_type": "markdown",
   "id": "61e513fe-c1b2-49fd-a150-6fe914304e38",
   "metadata": {},
   "source": [
    "#### Param grad"
   ]
  },
  {
   "cell_type": "code",
   "execution_count": 67,
   "id": "7fbbac33-ad3c-4d89-a117-6c6b915dd060",
   "metadata": {},
   "outputs": [],
   "source": [
    "cifar_param_2 = cifar_param.copy()\n",
    "cifar_param_2[0][8][0][2] += 1"
   ]
  },
  {
   "cell_type": "code",
   "execution_count": 68,
   "id": "44bd3694-2165-46d3-9499-0686eadd9e22",
   "metadata": {},
   "outputs": [
    {
     "data": {
      "text/plain": [
       "-47.09123124155292"
      ]
     },
     "execution_count": 68,
     "metadata": {},
     "output_type": "execute_result"
    }
   ],
   "source": [
    "_compute_output_sum(cifar_imgs, cifar_param_2) - _compute_output_sum(cifar_imgs, cifar_param)"
   ]
  },
  {
   "cell_type": "code",
   "execution_count": 69,
   "id": "30509077-7669-4f15-90a4-08665424f221",
   "metadata": {},
   "outputs": [
    {
     "data": {
      "text/plain": [
       "-47.0912312415532"
      ]
     },
     "execution_count": 69,
     "metadata": {},
     "output_type": "execute_result"
    }
   ],
   "source": [
    "_param_grad(cifar_imgs,\n",
    "            np.ones((10, 16, 32, 32)),\n",
    "            cifar_param)[0][8][0][2]"
   ]
  },
  {
   "cell_type": "code",
   "execution_count": null,
   "id": "f5b8d52b-8efd-4bda-aa4d-05b586eaf83c",
   "metadata": {},
   "outputs": [],
   "source": []
  }
 ],
 "metadata": {
  "kernelspec": {
   "display_name": "Python 3 (ipykernel)",
   "language": "python",
   "name": "python3"
  },
  "language_info": {
   "codemirror_mode": {
    "name": "ipython",
    "version": 3
   },
   "file_extension": ".py",
   "mimetype": "text/x-python",
   "name": "python",
   "nbconvert_exporter": "python",
   "pygments_lexer": "ipython3",
   "version": "3.12.4"
  }
 },
 "nbformat": 4,
 "nbformat_minor": 5
}
