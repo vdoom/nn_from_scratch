{
 "cells": [
  {
   "cell_type": "code",
   "execution_count": 1,
   "metadata": {
    "id": "zfwTRzxN1cV4"
   },
   "outputs": [],
   "source": [
    "# For tips on running notebooks in Google Colab, see\n",
    "# https://pytorch.org/tutorials/beginner/colab\n",
    "%matplotlib inline"
   ]
  },
  {
   "cell_type": "code",
   "execution_count": 2,
   "metadata": {
    "id": "Qt4UaOv83vjK"
   },
   "outputs": [],
   "source": [
    "\n",
    "\n",
    "import torch\n",
    "import torch.nn as nn\n",
    "import torch.nn.functional as F\n",
    "import torch.optim as optim\n",
    "\n",
    "# Image datasets and image manipulation\n",
    "import torchvision\n",
    "import torchvision.transforms as transforms\n",
    "\n",
    "# Image display\n",
    "import matplotlib.pyplot as plt\n",
    "import numpy as np\n",
    "\n",
    "# PyTorch TensorBoard support\n",
    "from torch.utils.tensorboard import SummaryWriter\n"
   ]
  },
  {
   "cell_type": "code",
   "execution_count": 3,
   "metadata": {
    "colab": {
     "base_uri": "https://localhost:8080/"
    },
    "id": "vnN81dAL3zYa",
    "outputId": "914bcaf2-87af-4393-ee8f-86c80a1e526d"
   },
   "outputs": [
    {
     "name": "stdout",
     "output_type": "stream",
     "text": [
      "Using cpu device\n"
     ]
    }
   ],
   "source": [
    "device = (\n",
    "    \"cuda\"\n",
    "    if torch.cuda.is_available()\n",
    "    else \"mps\"\n",
    "    if torch.backends.mps.is_available()\n",
    "    else \"cpu\"\n",
    ")\n",
    "print(f\"Using {device} device\")\n",
    "torch.set_default_device(device)"
   ]
  },
  {
   "cell_type": "code",
   "execution_count": 56,
   "metadata": {},
   "outputs": [],
   "source": [
    "# convolution operation formula O=⌊(I−K+2P)/S​⌋+1  (for con)\n"
   ]
  },
  {
   "cell_type": "code",
   "execution_count": 38,
   "metadata": {
    "id": "fZnc6rBs4uB7"
   },
   "outputs": [],
   "source": [
    "class Net(nn.Module):\n",
    "    def __init__(self):\n",
    "        super(Net, self).__init__()\n",
    "        self.conv1 = nn.Conv2d(1, 6, 5)\n",
    "        self.pool = nn.MaxPool2d(2, 2)\n",
    "        self.conv2 = nn.Conv2d(6, 16, 5)\n",
    "        self.fc1 = nn.Linear(16 * 4 * 4, 120)\n",
    "        self.fc2 = nn.Linear(120, 84)\n",
    "        self.fc3 = nn.Linear(84, 10)\n",
    "\n",
    "    def forward(self, x):\n",
    "        x = self.pool(F.relu(self.conv1(x)))\n",
    "        x = self.pool(F.relu(self.conv2(x)))\n",
    "        x = x.view(-1, 16 * 4 * 4)\n",
    "        x = F.relu(self.fc1(x))\n",
    "        x = F.relu(self.fc2(x))\n",
    "        x = self.fc3(x)\n",
    "        return x\n",
    "\n",
    "\n",
    "class LeNet(torch.nn.Module):\n",
    "\n",
    "    def __init__(self):\n",
    "        super(LeNet, self).__init__()\n",
    "        # 1 input image channel (black & white), 6 output channels, 5x5 square convolution\n",
    "        # kernel\n",
    "        self.conv1 = torch.nn.Conv2d(1, 6, 5) #24x24, after maxpool 12\n",
    "        self.conv2 = torch.nn.Conv2d(6, 16, 3) # 10x10, 5x5\n",
    "        # an affine operation: y = Wx + b\n",
    "        self.fc1 = torch.nn.Linear(16 * 5 * 5, 120)  # 5*5 from image dimension\n",
    "        self.fc2 = torch.nn.Linear(120, 84)\n",
    "        self.fc3 = torch.nn.Linear(84, 10)\n",
    "\n",
    "    def forward(self, x):\n",
    "        # Max pooling over a (2, 2) window\n",
    "        x = F.max_pool2d(F.relu(self.conv1(x)), (2, 2))\n",
    "        # If the size is a square you can only specify a single number\n",
    "        x = F.max_pool2d(F.relu(self.conv2(x)), 2)\n",
    "        x = x.view(-1, 16 * 5 * 5)\n",
    "        #x = x.view(-1, self.num_flat_features(x))\n",
    "        x = F.relu(self.fc1(x))\n",
    "        x = F.relu(self.fc2(x))\n",
    "        x = self.fc3(x)\n",
    "        return x\n",
    "\n",
    "    def num_flat_features(self, x):\n",
    "        size = x.size()[1:]  # all dimensions except the batch dimension\n",
    "        num_features = 1\n",
    "        for s in size:\n",
    "            num_features *= s\n",
    "        return num_features"
   ]
  },
  {
   "cell_type": "code",
   "execution_count": 39,
   "metadata": {},
   "outputs": [],
   "source": [
    "import matplotlib.pyplot as plt\n",
    "\n",
    "# Gather datasets and prepare them for consumption\n",
    "transform = transforms.Compose(\n",
    "    [transforms.ToTensor(),\n",
    "    transforms.Normalize((0.5,), (0.5,))])\n",
    "\n",
    "# Store separate training and validations splits in ./data\n",
    "training_set = torchvision.datasets.FashionMNIST('./data',\n",
    "    download=True,\n",
    "    train=True,\n",
    "    transform=transform)\n",
    "validation_set = torchvision.datasets.FashionMNIST('./data',\n",
    "    download=True,\n",
    "    train=False,\n",
    "    transform=transform)\n",
    "\n",
    "training_loader = torch.utils.data.DataLoader(training_set,\n",
    "                                              batch_size=4,\n",
    "                                              shuffle=True,\n",
    "                                              num_workers=2)\n",
    "\n",
    "\n",
    "validation_loader = torch.utils.data.DataLoader(validation_set,\n",
    "                                                batch_size=4,\n",
    "                                                shuffle=False,\n",
    "                                                num_workers=2)"
   ]
  },
  {
   "cell_type": "code",
   "execution_count": 40,
   "metadata": {},
   "outputs": [
    {
     "name": "stdout",
     "output_type": "stream",
     "text": [
      "<torch.utils.data.dataloader.DataLoader object at 0x0000023B0AC47110>\n"
     ]
    }
   ],
   "source": [
    "\n",
    "# Class labels\n",
    "classes = ('T-shirt/top', 'Trouser', 'Pullover', 'Dress', 'Coat',\n",
    "        'Sandal', 'Shirt', 'Sneaker', 'Bag', 'Ankle Boot')\n",
    "\n",
    "# Helper function for inline image display\n",
    "def matplotlib_imshow(img, one_channel=False):\n",
    "    if one_channel:\n",
    "        img = img.mean(dim=0)\n",
    "    img = img / 2 + 0.5     # unnormalize\n",
    "    npimg = img.numpy()\n",
    "    if one_channel:\n",
    "        plt.imshow(npimg, cmap=\"Greys\")\n",
    "    else:\n",
    "        plt.imshow(np.transpose(npimg, (1, 2, 0)))\n",
    "\n",
    "print(training_loader)"
   ]
  },
  {
   "cell_type": "code",
   "execution_count": 41,
   "metadata": {},
   "outputs": [],
   "source": [
    "# Extract a batch of 4 images\n",
    "dataiter = iter(training_loader)\n",
    "images, labels = next(dataiter)"
   ]
  },
  {
   "cell_type": "code",
   "execution_count": 42,
   "metadata": {
    "colab": {
     "base_uri": "https://localhost:8080/",
     "height": 567
    },
    "id": "8PHOKl3q7TPy",
    "outputId": "e9305d1e-d6ea-4587-e0ae-3fc45d70a1aa"
   },
   "outputs": [],
   "source": [
    "#DO NOT RUN\n",
    "# Create a grid from the images and show them\n",
    "#img_grid = torchvision.utils.make_grid(images)\n",
    "#matplotlib_imshow(img_grid, one_channel=True)"
   ]
  },
  {
   "cell_type": "code",
   "execution_count": 43,
   "metadata": {
    "id": "E2YNE6SNB_uy"
   },
   "outputs": [],
   "source": [
    "net = LeNet()\n",
    "criterion = nn.CrossEntropyLoss()\n",
    "optimizer = optim.SGD(net.parameters(), lr=0.001, momentum=0.9)"
   ]
  },
  {
   "cell_type": "code",
   "execution_count": 44,
   "metadata": {
    "colab": {
     "base_uri": "https://localhost:8080/"
    },
    "id": "G7BfjejsGwU6",
    "outputId": "07fc6b2e-b3ee-4473-c988-3ec6b1e6e2e0"
   },
   "outputs": [
    {
     "name": "stdout",
     "output_type": "stream",
     "text": [
      "2500\n",
      "Batch 1000\n",
      "Batch 2000\n",
      "Batch 3000\n",
      "Batch 4000\n",
      "Batch 5000\n",
      "Batch 6000\n",
      "Batch 7000\n",
      "Batch 8000\n",
      "Batch 9000\n",
      "Batch 10000\n",
      "Batch 11000\n",
      "Batch 12000\n",
      "Batch 13000\n",
      "Batch 14000\n",
      "Batch 15000\n",
      "Finished Training\n"
     ]
    }
   ],
   "source": [
    "print(len(validation_loader))\n",
    "for epoch in range(1):  # loop over the dataset multiple times\n",
    "    running_loss = 0.0\n",
    "\n",
    "    for i, data in enumerate(training_loader, 0):\n",
    "        # basic training loop\n",
    "        inputs, labels = data\n",
    "        optimizer.zero_grad()\n",
    "        #print(\"input\", input)\n",
    "        outputs = net(inputs)\n",
    "        loss = criterion(outputs, labels)\n",
    "        loss.backward()\n",
    "        optimizer.step()\n",
    "\n",
    "        running_loss += loss.item()\n",
    "        if i % 1000 == 999:    # Every 1000 mini-batches...\n",
    "            print('Batch {}'.format(i + 1))\n",
    "            # Check against the validation set\n",
    "            running_vloss = 0.0\n",
    "\n",
    "            # In evaluation mode some model specific operations can be omitted eg. dropout layer\n",
    "            net.train(False) # Switching to evaluation mode, eg. turning off regularisation\n",
    "            for j, vdata in enumerate(validation_loader, 0):\n",
    "                vinputs, vlabels = vdata\n",
    "                voutputs = net(vinputs)\n",
    "                vloss = criterion(voutputs, vlabels)\n",
    "                running_vloss += vloss.item()\n",
    "            net.train(True) # Switching back to training mode, eg. turning on regularisation\n",
    "\n",
    "            avg_loss = running_loss / 1000\n",
    "            avg_vloss = running_vloss / len(validation_loader)\n",
    "\n",
    "            running_loss = 0.0\n",
    "print('Finished Training')\n"
   ]
  },
  {
   "cell_type": "code",
   "execution_count": 45,
   "metadata": {
    "colab": {
     "base_uri": "https://localhost:8080/",
     "height": 194
    },
    "id": "aigJ4ecoJUnD",
    "outputId": "23f299b6-10a5-4bd7-b065-f314cd2119f3"
   },
   "outputs": [
    {
     "data": {
      "text/plain": [
       "tensor([[[ 0.,  0.,  0.,  ...,  0.,  0.,  0.],\n",
       "         [ 0.,  0.,  0.,  ...,  0.,  0.,  0.],\n",
       "         [ 0.,  0., -1.,  ..., -1.,  0.,  0.],\n",
       "         ...,\n",
       "         [ 0.,  0., -1.,  ..., -1.,  0.,  0.],\n",
       "         [ 0.,  0.,  0.,  ...,  0.,  0.,  0.],\n",
       "         [ 0.,  0.,  0.,  ...,  0.,  0.,  0.]],\n",
       "\n",
       "        [[ 0.,  0.,  0.,  ...,  0.,  0.,  0.],\n",
       "         [ 0.,  0.,  0.,  ...,  0.,  0.,  0.],\n",
       "         [ 0.,  0., -1.,  ..., -1.,  0.,  0.],\n",
       "         ...,\n",
       "         [ 0.,  0., -1.,  ..., -1.,  0.,  0.],\n",
       "         [ 0.,  0.,  0.,  ...,  0.,  0.,  0.],\n",
       "         [ 0.,  0.,  0.,  ...,  0.,  0.,  0.]],\n",
       "\n",
       "        [[ 0.,  0.,  0.,  ...,  0.,  0.,  0.],\n",
       "         [ 0.,  0.,  0.,  ...,  0.,  0.,  0.],\n",
       "         [ 0.,  0., -1.,  ..., -1.,  0.,  0.],\n",
       "         ...,\n",
       "         [ 0.,  0., -1.,  ..., -1.,  0.,  0.],\n",
       "         [ 0.,  0.,  0.,  ...,  0.,  0.,  0.],\n",
       "         [ 0.,  0.,  0.,  ...,  0.,  0.,  0.]]])"
      ]
     },
     "metadata": {},
     "output_type": "display_data"
    }
   ],
   "source": [
    "dataiter = iter(training_loader)\n",
    "images, labels = next(dataiter)\n",
    "\n",
    "from IPython.display import display\n",
    "# Create a grid from the images and show them\n",
    "img_grid = torchvision.utils.make_grid(images)\n",
    "#matplotlib_imshow(img_grid, one_channel=True)\n",
    "\n",
    "display(img_grid)"
   ]
  },
  {
   "cell_type": "code",
   "execution_count": 46,
   "metadata": {
    "colab": {
     "base_uri": "https://localhost:8080/",
     "height": 448
    },
    "id": "1QQC7imZT3cL",
    "outputId": "28939f02-c3e8-4994-fbae-cb7fc1627e3b"
   },
   "outputs": [
    {
     "name": "stdout",
     "output_type": "stream",
     "text": [
      "Ankle Boot\n"
     ]
    }
   ],
   "source": [
    "img_grid2 = torchvision.utils.make_grid(images[3])\n",
    "#matplotlib_imshow(img_grid2, one_channel=True)\n",
    "print(classes[labels[3]])"
   ]
  },
  {
   "cell_type": "code",
   "execution_count": 47,
   "metadata": {
    "colab": {
     "base_uri": "https://localhost:8080/"
    },
    "id": "GLo05v9FUCK8",
    "outputId": "28c6f391-c511-4a88-ed0b-ac6ca4358334"
   },
   "outputs": [
    {
     "name": "stdout",
     "output_type": "stream",
     "text": [
      "Ankle Boot\n"
     ]
    }
   ],
   "source": [
    "indx = net(images[3])\n",
    "print(classes[torch.argmax(indx)])"
   ]
  },
  {
   "cell_type": "code",
   "execution_count": 48,
   "metadata": {},
   "outputs": [
    {
     "name": "stdout",
     "output_type": "stream",
     "text": [
      "LeNet(\n",
      "  (conv1): Conv2d(1, 6, kernel_size=(5, 5), stride=(1, 1))\n",
      "  (conv2): Conv2d(6, 16, kernel_size=(3, 3), stride=(1, 1))\n",
      "  (fc1): Linear(in_features=400, out_features=120, bias=True)\n",
      "  (fc2): Linear(in_features=120, out_features=84, bias=True)\n",
      "  (fc3): Linear(in_features=84, out_features=10, bias=True)\n",
      ")\n"
     ]
    }
   ],
   "source": [
    "print(net)"
   ]
  },
  {
   "cell_type": "code",
   "execution_count": 49,
   "metadata": {},
   "outputs": [
    {
     "name": "stdout",
     "output_type": "stream",
     "text": [
      "Conv2d(1, 6, kernel_size=(5, 5), stride=(1, 1))\n",
      "Parameter containing:\n",
      "tensor([[[[-0.5040, -0.3104, -0.4009, -0.2951, -0.1669],\n",
      "          [-0.3764, -0.6185, -0.6212, -0.2795, -0.0783],\n",
      "          [-0.0577, -0.1840, -0.1338,  0.0039,  0.0917],\n",
      "          [ 0.2458, -0.0688,  0.1838,  0.1095,  0.1703],\n",
      "          [ 0.2684, -0.0021,  0.1973,  0.2465,  0.1360]]],\n",
      "\n",
      "\n",
      "        [[[-0.1942,  0.2957,  0.3650,  0.1969,  0.3218],\n",
      "          [ 0.1792,  0.0471,  0.0502, -0.0334, -0.1432],\n",
      "          [ 0.1445,  0.0425, -0.0767, -0.1335,  0.0799],\n",
      "          [-0.0101,  0.0519, -0.0469,  0.0504, -0.0306],\n",
      "          [-0.1462, -0.2293, -0.2914, -0.2865, -0.1246]]],\n",
      "\n",
      "\n",
      "        [[[-0.1073, -0.1807, -0.1926, -0.2274,  0.2901],\n",
      "          [-0.3740, -0.4003,  0.0717, -0.1538,  0.3227],\n",
      "          [-0.0008, -0.2408,  0.0440,  0.0768,  0.2012],\n",
      "          [-0.2201, -0.0398, -0.0727,  0.3212,  0.3981],\n",
      "          [-0.0177,  0.0178,  0.2314,  0.1214,  0.2677]]],\n",
      "\n",
      "\n",
      "        [[[-0.0067,  0.1685,  0.0297,  0.1846, -0.0767],\n",
      "          [-0.0638, -0.1089,  0.1579, -0.1362,  0.2132],\n",
      "          [ 0.0197,  0.1073, -0.0593,  0.1422,  0.0443],\n",
      "          [ 0.1468,  0.2297,  0.1486,  0.1560,  0.1294],\n",
      "          [ 0.1135, -0.0932,  0.2506,  0.1896,  0.1334]]],\n",
      "\n",
      "\n",
      "        [[[ 0.0537,  0.2340,  0.4406,  0.0074,  0.1139],\n",
      "          [ 0.1329, -0.0537,  0.3147,  0.3867,  0.2176],\n",
      "          [-0.2108,  0.0333,  0.2945,  0.1182,  0.0561],\n",
      "          [-0.1164, -0.3837, -0.2370, -0.2489, -0.2541],\n",
      "          [-0.4669, -0.4166,  0.0653,  0.1165, -0.2365]]],\n",
      "\n",
      "\n",
      "        [[[-0.1857, -0.2534,  0.3963,  0.3401, -0.0096],\n",
      "          [-0.4615, -0.4510,  0.5456,  0.2862,  0.0851],\n",
      "          [-0.3552, -0.3655,  0.2596,  0.2203,  0.0350],\n",
      "          [-0.0318, -0.3280,  0.3286,  0.0960, -0.1022],\n",
      "          [-0.1580, -0.2219,  0.1206,  0.2103, -0.0060]]]], requires_grad=True)\n",
      "torch.Size([6, 1, 5, 5])\n"
     ]
    }
   ],
   "source": [
    "print(net.conv1)\n",
    "print(net.conv1.weight)\n",
    "print(net.conv1.weight.shape)"
   ]
  },
  {
   "cell_type": "code",
   "execution_count": 50,
   "metadata": {},
   "outputs": [
    {
     "name": "stdout",
     "output_type": "stream",
     "text": [
      "tensor([[-0.5040, -0.3104, -0.4009, -0.2951, -0.1669],\n",
      "        [-0.3764, -0.6185, -0.6212, -0.2795, -0.0783],\n",
      "        [-0.0577, -0.1840, -0.1338,  0.0039,  0.0917],\n",
      "        [ 0.2458, -0.0688,  0.1838,  0.1095,  0.1703],\n",
      "        [ 0.2684, -0.0021,  0.1973,  0.2465,  0.1360]],\n",
      "       grad_fn=<SelectBackward0>)\n"
     ]
    }
   ],
   "source": [
    "print(net.conv1.weight[0][0])"
   ]
  },
  {
   "cell_type": "code",
   "execution_count": 51,
   "metadata": {},
   "outputs": [
    {
     "name": "stdout",
     "output_type": "stream",
     "text": [
      "[[-0.5039643  -0.31044683 -0.40089077 -0.29508802 -0.16689646]\n",
      " [-0.37641346 -0.6185268  -0.62124586 -0.2794657  -0.07834861]\n",
      " [-0.05772603 -0.18399888 -0.13376953  0.00390571  0.09167274]\n",
      " [ 0.24577725 -0.06877641  0.18376374  0.10946047  0.1702796 ]\n",
      " [ 0.26841173 -0.00210854  0.19733192  0.24648032  0.13596243]]\n"
     ]
    }
   ],
   "source": [
    "tf0 = net.conv1.weight[0][0].detach().numpy()\n",
    "print(tf0)"
   ]
  },
  {
   "cell_type": "code",
   "execution_count": 52,
   "metadata": {},
   "outputs": [
    {
     "name": "stdout",
     "output_type": "stream",
     "text": [
      "tensor([[-0.1857, -0.2534,  0.3963,  0.3401, -0.0096],\n",
      "        [-0.4615, -0.4510,  0.5456,  0.2862,  0.0851],\n",
      "        [-0.3552, -0.3655,  0.2596,  0.2203,  0.0350],\n",
      "        [-0.0318, -0.3280,  0.3286,  0.0960, -0.1022],\n",
      "        [-0.1580, -0.2219,  0.1206,  0.2103, -0.0060]])\n"
     ]
    }
   ],
   "source": [
    "tff = net.conv1.weight[5][0].detach()\n",
    "print(tff)"
   ]
  },
  {
   "cell_type": "code",
   "execution_count": 53,
   "metadata": {},
   "outputs": [
    {
     "name": "stdout",
     "output_type": "stream",
     "text": [
      "Conv2d(6, 16, kernel_size=(3, 3), stride=(1, 1))\n",
      "Parameter containing:\n",
      "tensor([[[[ 6.0449e-02, -5.5190e-02, -1.0121e-01],\n",
      "          [-1.6806e-01, -4.8105e-02,  4.6673e-02],\n",
      "          [-6.2283e-02, -1.3487e-01, -9.9181e-02]],\n",
      "\n",
      "         [[-3.6041e-02, -1.2216e-01,  3.8536e-02],\n",
      "          [ 1.1365e-01, -5.7495e-02, -1.1301e-01],\n",
      "          [-8.4285e-02, -1.4652e-02,  1.3766e-01]],\n",
      "\n",
      "         [[-8.7762e-02,  3.1852e-02, -8.1761e-02],\n",
      "          [-1.0090e-01,  4.7788e-02, -1.1730e-01],\n",
      "          [-1.4523e-02,  5.9967e-02, -2.6949e-02]],\n",
      "\n",
      "         [[ 1.4978e-01, -4.5599e-02, -1.4681e-02],\n",
      "          [ 1.4995e-01,  8.0956e-02,  1.1051e-01],\n",
      "          [ 1.4233e-01,  8.3091e-02,  8.3277e-02]],\n",
      "\n",
      "         [[-3.6055e-02, -6.2020e-02, -2.8929e-02],\n",
      "          [-5.0865e-02, -7.6905e-02, -3.0697e-02],\n",
      "          [-8.5860e-02,  1.0987e-01, -1.1036e-01]],\n",
      "\n",
      "         [[ 1.4304e-01,  7.6230e-02,  3.5542e-02],\n",
      "          [-3.6678e-03,  1.1709e-01,  9.3801e-02],\n",
      "          [ 4.4509e-02, -1.8508e-02, -6.8919e-02]]],\n",
      "\n",
      "\n",
      "        [[[ 2.4997e-04,  4.2992e-01,  1.4581e-01],\n",
      "          [ 1.5910e-01, -3.2568e-02, -2.1193e-01],\n",
      "          [ 1.1646e-02, -2.0725e-01, -2.1572e-01]],\n",
      "\n",
      "         [[-1.2578e-01, -2.5427e-01, -1.9524e-02],\n",
      "          [-6.4319e-02, -9.3555e-02,  1.5345e-02],\n",
      "          [-9.3589e-02, -5.5384e-02,  1.0110e-01]],\n",
      "\n",
      "         [[-3.9910e-02,  2.5371e-02,  1.3240e-01],\n",
      "          [ 1.5554e-01,  2.0305e-01, -1.5674e-02],\n",
      "          [ 1.8323e-01,  1.2608e-01, -1.1111e-01]],\n",
      "\n",
      "         [[ 4.0422e-02, -1.6811e-02, -1.1621e-01],\n",
      "          [-1.6141e-01,  1.2131e-01, -1.3539e-01],\n",
      "          [ 8.9774e-02,  3.1434e-02, -4.2628e-02]],\n",
      "\n",
      "         [[-8.8148e-02, -7.7422e-02,  3.5006e-02],\n",
      "          [-9.9194e-02, -6.9684e-02, -7.7284e-02],\n",
      "          [-5.9531e-02, -3.8555e-02,  1.9943e-02]],\n",
      "\n",
      "         [[-1.1641e-01, -4.3978e-02,  8.5903e-03],\n",
      "          [-1.7506e-01, -8.0603e-02, -4.7636e-02],\n",
      "          [-9.3932e-02, -1.4425e-01, -1.3765e-01]]],\n",
      "\n",
      "\n",
      "        [[[ 8.9597e-02, -1.2185e-01, -1.2835e-01],\n",
      "          [-8.7243e-02, -7.2578e-02,  4.3240e-02],\n",
      "          [-4.1339e-02,  5.5827e-02,  1.5246e-01]],\n",
      "\n",
      "         [[ 3.1285e-02,  2.5468e-01,  1.4237e-01],\n",
      "          [-2.2739e-02,  3.9443e-02,  6.4654e-03],\n",
      "          [-1.7120e-02,  6.5090e-02,  1.4200e-01]],\n",
      "\n",
      "         [[-1.0446e-01, -1.4321e-01, -1.3218e-01],\n",
      "          [ 8.9643e-02, -4.9787e-02,  8.7690e-02],\n",
      "          [-1.1014e-01,  6.7185e-02,  3.2778e-02]],\n",
      "\n",
      "         [[-4.6976e-02, -1.2511e-01, -1.2767e-01],\n",
      "          [-9.9642e-02,  1.0646e-01, -4.7076e-02],\n",
      "          [-6.1217e-02, -1.7104e-01, -1.0031e-01]],\n",
      "\n",
      "         [[ 2.3604e-01,  1.2506e-01,  2.2570e-01],\n",
      "          [-8.2770e-02, -1.3135e-01, -1.1162e-01],\n",
      "          [-6.4818e-02,  1.3390e-01,  1.5633e-01]],\n",
      "\n",
      "         [[-1.2144e-01,  2.3718e-02, -4.2008e-02],\n",
      "          [-1.4094e-01, -1.7608e-01, -1.6784e-01],\n",
      "          [-5.4085e-02, -1.1576e-02, -1.2181e-01]]],\n",
      "\n",
      "\n",
      "        [[[ 6.4107e-02, -5.7033e-02, -1.7845e-01],\n",
      "          [ 1.1251e-01,  5.8068e-02, -2.6166e-01],\n",
      "          [ 2.2760e-01, -1.3818e-01, -4.3595e-02]],\n",
      "\n",
      "         [[ 2.6456e-02, -1.2970e-01,  4.9312e-03],\n",
      "          [-6.7783e-02, -8.1916e-02,  1.6852e-02],\n",
      "          [-9.0235e-02,  1.2133e-02,  1.1341e-01]],\n",
      "\n",
      "         [[-8.7525e-02,  1.6522e-01, -8.2726e-02],\n",
      "          [-9.3352e-03,  1.9552e-01, -7.2770e-02],\n",
      "          [ 2.3102e-01, -5.2850e-02, -1.1501e-01]],\n",
      "\n",
      "         [[ 1.1888e-01, -4.5723e-02, -1.6409e-02],\n",
      "          [ 6.6257e-02, -5.5118e-02, -2.8003e-02],\n",
      "          [ 5.3302e-02, -1.1051e-01,  3.0920e-03]],\n",
      "\n",
      "         [[ 5.0673e-02, -6.6366e-03, -8.2758e-02],\n",
      "          [ 1.1794e-01, -5.4482e-02, -1.0451e-01],\n",
      "          [ 6.8062e-02,  1.0193e-02, -1.4121e-01]],\n",
      "\n",
      "         [[-2.0155e-02,  1.2377e-01, -1.2718e-01],\n",
      "          [ 3.6097e-02,  1.7213e-01, -1.3295e-01],\n",
      "          [ 1.8562e-01,  7.1912e-02, -7.9074e-02]]],\n",
      "\n",
      "\n",
      "        [[[ 1.0948e-01,  4.3619e-01,  1.2783e-01],\n",
      "          [ 2.2740e-01, -5.6861e-02, -8.5447e-02],\n",
      "          [ 2.6607e-01,  3.1372e-02, -3.1678e-01]],\n",
      "\n",
      "         [[-1.9560e-01, -2.9685e-01, -1.4120e-01],\n",
      "          [-1.3918e-01, -9.4562e-02, -1.4424e-01],\n",
      "          [-2.1848e-01, -1.6651e-01, -3.5555e-02]],\n",
      "\n",
      "         [[-3.5060e-02,  1.6026e-02, -1.0912e-01],\n",
      "          [ 1.1827e-01,  1.6124e-01, -3.3884e-02],\n",
      "          [ 1.7173e-01,  2.2294e-03, -3.6836e-02]],\n",
      "\n",
      "         [[ 3.7102e-02, -5.8404e-02, -1.0451e-01],\n",
      "          [-2.4640e-03, -6.4968e-02, -1.8284e-01],\n",
      "          [ 4.6761e-02,  5.1256e-02, -1.5474e-01]],\n",
      "\n",
      "         [[ 1.2196e-01, -1.6083e-01, -9.1409e-02],\n",
      "          [ 3.4498e-02, -3.2671e-02,  3.9075e-02],\n",
      "          [-5.6050e-02, -1.0405e-01, -3.2922e-01]],\n",
      "\n",
      "         [[-1.4074e-01,  6.4193e-02,  9.8062e-02],\n",
      "          [ 1.7286e-01, -1.1239e-01, -2.8547e-02],\n",
      "          [ 1.4621e-01, -2.8609e-02, -4.5427e-02]]],\n",
      "\n",
      "\n",
      "        [[[-1.0187e-02,  2.2285e-01,  2.8513e-01],\n",
      "          [ 6.3048e-02,  2.4577e-01,  1.7331e-01],\n",
      "          [-7.1480e-02,  2.3941e-01,  1.3155e-01]],\n",
      "\n",
      "         [[ 6.3627e-02, -8.2796e-02,  3.5381e-02],\n",
      "          [-1.1191e-01, -1.2052e-01, -1.7674e-01],\n",
      "          [ 6.6797e-02, -1.8658e-03, -1.1082e-01]],\n",
      "\n",
      "         [[-2.4067e-01,  4.6705e-02, -1.2228e-01],\n",
      "          [-2.3783e-01, -2.6935e-02, -1.5121e-01],\n",
      "          [-3.5430e-02, -9.0435e-02, -7.2696e-02]],\n",
      "\n",
      "         [[ 1.0624e-02, -7.0320e-03, -5.3805e-02],\n",
      "          [-1.3748e-02,  2.7693e-02, -3.3946e-02],\n",
      "          [-6.6445e-02,  6.4866e-02,  1.6168e-01]],\n",
      "\n",
      "         [[-2.3603e-02, -5.9395e-02, -1.6865e-01],\n",
      "          [ 1.5306e-01,  5.8382e-02, -1.5632e-03],\n",
      "          [-1.3351e-01,  7.8813e-02, -7.0753e-02]],\n",
      "\n",
      "         [[-5.7910e-02, -1.7968e-01, -1.7485e-01],\n",
      "          [-1.6430e-01, -1.7644e-01, -1.8786e-01],\n",
      "          [-1.4994e-01, -1.1010e-01, -3.3711e-02]]],\n",
      "\n",
      "\n",
      "        [[[ 7.6745e-02,  2.6573e-02,  1.1400e-01],\n",
      "          [ 5.3621e-02, -1.2209e-01, -2.6090e-02],\n",
      "          [ 2.8239e-02, -4.1513e-03, -1.2618e-01]],\n",
      "\n",
      "         [[-3.2174e-02, -1.0829e-01, -7.2379e-03],\n",
      "          [-8.6123e-02, -1.0970e-01, -2.1639e-03],\n",
      "          [-5.5794e-02, -1.2807e-01, -4.3856e-02]],\n",
      "\n",
      "         [[-1.0660e-01, -6.9839e-02,  1.3710e-02],\n",
      "          [-8.3335e-02,  3.3073e-02, -3.1222e-02],\n",
      "          [-7.0424e-02, -1.0708e-02, -5.4763e-02]],\n",
      "\n",
      "         [[ 8.3602e-02,  7.9635e-02,  4.9354e-02],\n",
      "          [-8.2061e-02,  1.7034e-02, -8.0820e-02],\n",
      "          [-1.3944e-01, -1.8430e-02,  6.8249e-02]],\n",
      "\n",
      "         [[-1.5283e-02,  1.3707e-01, -1.0497e-01],\n",
      "          [ 2.0380e-02,  1.4318e-01, -1.0533e-01],\n",
      "          [-6.9466e-02,  9.8847e-02,  1.3807e-01]],\n",
      "\n",
      "         [[ 1.1521e-01,  6.8859e-02, -1.0621e-01],\n",
      "          [ 1.1555e-01,  1.5261e-02,  1.2050e-01],\n",
      "          [ 4.8985e-02, -6.0156e-02, -5.5945e-02]]],\n",
      "\n",
      "\n",
      "        [[[-8.4296e-02, -8.5265e-02, -1.0956e-01],\n",
      "          [ 6.0405e-03,  1.8247e-01,  1.4734e-01],\n",
      "          [ 1.3564e-01,  1.2357e-01,  4.4420e-02]],\n",
      "\n",
      "         [[-1.3311e-01,  1.4859e-01,  9.4564e-03],\n",
      "          [ 6.6062e-02,  5.9167e-03, -1.3310e-01],\n",
      "          [-2.3822e-01, -2.2598e-01, -8.1876e-02]],\n",
      "\n",
      "         [[-2.8126e-02, -2.6168e-02, -5.3838e-02],\n",
      "          [-3.1616e-02,  1.9613e-01, -5.9557e-02],\n",
      "          [-1.2846e-01, -2.1013e-02,  1.1860e-01]],\n",
      "\n",
      "         [[ 5.6579e-03, -6.5781e-02, -1.2539e-01],\n",
      "          [-2.3522e-02, -1.2576e-01, -1.1347e-01],\n",
      "          [ 7.3174e-02, -2.8523e-02,  4.4198e-02]],\n",
      "\n",
      "         [[ 2.0014e-01,  2.4577e-02,  2.3842e-01],\n",
      "          [ 1.1854e-01, -1.7501e-01, -7.8989e-02],\n",
      "          [-1.8085e-01, -1.4861e-01, -1.0918e-01]],\n",
      "\n",
      "         [[-5.6073e-02, -5.2354e-02,  1.7067e-01],\n",
      "          [ 2.0331e-02, -1.1992e-01,  6.1270e-02],\n",
      "          [-4.4195e-02, -6.3798e-02,  2.3207e-01]]],\n",
      "\n",
      "\n",
      "        [[[-3.2715e-02, -5.6316e-02, -5.0462e-02],\n",
      "          [ 2.0868e-01,  2.7810e-02, -2.9317e-01],\n",
      "          [-1.1596e-01, -5.9751e-02, -4.1946e-02]],\n",
      "\n",
      "         [[-1.1258e-02, -4.9544e-02, -8.3550e-02],\n",
      "          [-1.5143e-01,  7.4185e-02,  1.8046e-01],\n",
      "          [ 2.4525e-01,  1.2332e-01,  2.3885e-01]],\n",
      "\n",
      "         [[-6.8737e-02,  2.3720e-01,  9.4069e-02],\n",
      "          [ 7.7750e-02,  2.3530e-01,  4.2065e-02],\n",
      "          [ 5.1031e-02,  8.6928e-04,  1.1104e-01]],\n",
      "\n",
      "         [[ 5.9645e-02,  6.6375e-02,  4.4420e-02],\n",
      "          [-3.9974e-02,  1.5456e-01,  1.6797e-01],\n",
      "          [-8.8853e-02,  1.3000e-01,  1.6272e-01]],\n",
      "\n",
      "         [[-1.6526e-01, -1.4064e-01, -2.3121e-01],\n",
      "          [-1.5746e-01, -1.1886e-01,  3.1541e-02],\n",
      "          [ 1.8138e-01,  2.6450e-01,  1.6830e-01]],\n",
      "\n",
      "         [[-3.3635e-02, -2.5978e-01, -2.1178e-01],\n",
      "          [-1.3331e-01, -3.6073e-01, -1.3952e-01],\n",
      "          [-1.0101e-01, -3.2876e-01, -2.5606e-01]]],\n",
      "\n",
      "\n",
      "        [[[-2.3416e-01,  1.7814e-01,  2.9209e-01],\n",
      "          [-1.2343e-01, -1.4410e-01,  3.3257e-01],\n",
      "          [ 4.1050e-02,  2.4801e-02,  6.2720e-02]],\n",
      "\n",
      "         [[ 1.7122e-01,  1.4016e-02,  5.7702e-02],\n",
      "          [ 1.8075e-01, -8.2771e-02, -9.1964e-02],\n",
      "          [ 2.0606e-01, -1.0281e-01,  1.0437e-02]],\n",
      "\n",
      "         [[-1.4473e-01, -1.9906e-01, -1.7322e-01],\n",
      "          [ 1.7253e-02, -4.6234e-02, -8.0114e-02],\n",
      "          [ 4.3388e-02, -7.6678e-02, -2.3017e-01]],\n",
      "\n",
      "         [[ 2.1813e-01, -1.0030e-01, -5.0875e-02],\n",
      "          [ 8.0481e-02, -7.0558e-02,  1.8378e-02],\n",
      "          [-6.7403e-03,  2.7425e-02, -1.1856e-03]],\n",
      "\n",
      "         [[-1.0756e-02, -8.7041e-02,  1.0944e-01],\n",
      "          [-7.3405e-02,  7.8971e-03,  6.3106e-02],\n",
      "          [ 1.1011e-02, -1.0935e-01, -1.5455e-01]],\n",
      "\n",
      "         [[-1.5301e-01, -1.3249e-01,  7.8868e-02],\n",
      "          [-9.3211e-02, -1.1238e-01, -1.6502e-01],\n",
      "          [ 3.6713e-02, -1.4043e-01, -1.2945e-01]]],\n",
      "\n",
      "\n",
      "        [[[ 4.3997e-01,  6.6796e-02, -8.2894e-02],\n",
      "          [-1.9107e-01, -2.4191e-01, -1.9698e-01],\n",
      "          [ 1.7274e-02,  1.0584e-01, -9.8768e-03]],\n",
      "\n",
      "         [[-1.2592e-01, -5.0837e-02,  5.6010e-02],\n",
      "          [-3.6579e-02, -6.0431e-02,  1.1462e-01],\n",
      "          [ 1.2766e-01, -5.3724e-02,  1.1157e-02]],\n",
      "\n",
      "         [[ 8.5536e-02,  2.0675e-01, -8.4272e-02],\n",
      "          [ 4.9595e-02, -2.2895e-01, -1.5767e-02],\n",
      "          [-1.7632e-01, -2.9377e-02,  1.5750e-01]],\n",
      "\n",
      "         [[-6.4009e-02, -8.2438e-02, -1.5520e-01],\n",
      "          [ 1.2903e-01,  9.4731e-02,  6.3416e-02],\n",
      "          [ 1.6451e-01,  1.0048e-02, -1.0089e-01]],\n",
      "\n",
      "         [[-9.0043e-02, -8.5147e-02,  2.2093e-01],\n",
      "          [-4.1009e-02,  7.7446e-02,  1.5179e-01],\n",
      "          [-1.2292e-01, -1.2008e-01,  7.6303e-02]],\n",
      "\n",
      "         [[ 9.6941e-02,  2.0817e-01,  1.2702e-02],\n",
      "          [-3.9635e-02, -5.5913e-02,  4.6242e-02],\n",
      "          [ 5.8125e-04, -1.7989e-01,  2.4799e-01]]],\n",
      "\n",
      "\n",
      "        [[[ 1.3564e-01,  2.7220e-01, -3.9473e-02],\n",
      "          [ 7.0968e-03,  3.0360e-01, -1.8830e-02],\n",
      "          [-9.4919e-03,  1.7615e-01,  1.8959e-01]],\n",
      "\n",
      "         [[ 1.0473e-01, -6.7319e-02,  8.3251e-02],\n",
      "          [-1.5593e-01,  7.2784e-02, -1.7045e-01],\n",
      "          [-5.0152e-02, -1.6312e-01, -3.7838e-02]],\n",
      "\n",
      "         [[-9.6999e-02, -3.9657e-02,  9.6510e-02],\n",
      "          [-2.3159e-01, -1.0990e-01, -1.6007e-01],\n",
      "          [-1.7010e-01, -1.4192e-01, -5.1397e-02]],\n",
      "\n",
      "         [[-8.7514e-02, -3.1507e-02, -6.8869e-02],\n",
      "          [ 6.8141e-02,  4.7605e-02, -5.3031e-03],\n",
      "          [-1.0688e-01, -1.7247e-01, -6.4748e-02]],\n",
      "\n",
      "         [[-5.2068e-02, -9.7795e-03, -6.1177e-02],\n",
      "          [-7.2359e-02, -9.4929e-02, -7.0891e-02],\n",
      "          [-5.2764e-02, -2.2312e-02, -1.3741e-01]],\n",
      "\n",
      "         [[-1.5458e-01,  5.3715e-02, -8.2670e-02],\n",
      "          [-9.6675e-02, -5.5721e-02,  1.0287e-01],\n",
      "          [-5.5108e-02, -1.8881e-01,  7.9167e-02]]],\n",
      "\n",
      "\n",
      "        [[[ 2.0104e-01, -1.9751e-01, -5.5464e-02],\n",
      "          [-1.5978e-01,  4.8938e-02, -8.5974e-02],\n",
      "          [-6.2654e-02,  5.2473e-02,  1.1914e-04]],\n",
      "\n",
      "         [[-9.3126e-02,  1.6413e-01,  1.8335e-01],\n",
      "          [ 5.3302e-02,  1.0763e-01,  2.0458e-01],\n",
      "          [-1.1223e-01,  3.2228e-02,  7.1301e-04]],\n",
      "\n",
      "         [[ 1.6842e-01,  8.0921e-02, -1.0461e-01],\n",
      "          [-3.6201e-02, -1.2891e-01, -1.2400e-01],\n",
      "          [-2.2435e-02, -1.5556e-02, -3.5081e-02]],\n",
      "\n",
      "         [[-1.8299e-02, -6.4597e-02,  6.1932e-02],\n",
      "          [-1.0786e-02, -2.4963e-02, -1.2054e-02],\n",
      "          [-2.1738e-02,  5.5987e-02, -1.2091e-01]],\n",
      "\n",
      "         [[-1.1268e-01, -7.6590e-02,  6.8666e-02],\n",
      "          [ 9.0035e-02,  1.4978e-01, -3.6819e-03],\n",
      "          [-6.0072e-02, -1.4638e-01, -1.4465e-01]],\n",
      "\n",
      "         [[ 1.3768e-01, -2.1603e-02,  4.3773e-02],\n",
      "          [-1.1871e-01,  2.0933e-02, -8.4358e-02],\n",
      "          [-1.4627e-01, -1.6888e-01, -7.0609e-02]]],\n",
      "\n",
      "\n",
      "        [[[-2.0814e-01,  2.0748e-02,  7.1387e-02],\n",
      "          [-6.5291e-03, -8.6726e-02, -1.7721e-01],\n",
      "          [ 8.6052e-02,  2.7137e-01, -7.7231e-02]],\n",
      "\n",
      "         [[ 7.7065e-02,  3.2297e-02, -2.2402e-02],\n",
      "          [ 1.4053e-01,  2.0214e-01, -1.0321e-01],\n",
      "          [-1.1989e-01, -7.5556e-02,  3.9817e-02]],\n",
      "\n",
      "         [[ 2.6739e-02, -2.6128e-01,  9.1717e-02],\n",
      "          [-6.9300e-02, -1.7953e-01,  6.1045e-02],\n",
      "          [-4.4325e-02, -4.6924e-03, -4.8460e-02]],\n",
      "\n",
      "         [[ 7.1975e-02,  3.0081e-02, -1.0061e-01],\n",
      "          [-4.4610e-02, -3.2607e-02, -2.8490e-02],\n",
      "          [-7.3958e-02, -2.0896e-02, -8.1798e-02]],\n",
      "\n",
      "         [[ 2.8462e-01,  7.1181e-02,  5.3692e-02],\n",
      "          [ 1.8408e-01,  2.9877e-01,  1.9134e-01],\n",
      "          [ 6.2016e-02,  2.1425e-01,  4.0334e-01]],\n",
      "\n",
      "         [[ 1.9423e-01,  4.0014e-02,  1.7636e-01],\n",
      "          [-1.0380e-01,  5.0462e-02,  2.9552e-01],\n",
      "          [-2.2813e-01,  9.0870e-02,  3.3027e-01]]],\n",
      "\n",
      "\n",
      "        [[[-7.7248e-02,  4.7498e-01,  4.9191e-01],\n",
      "          [-1.0453e-02, -1.7885e-01,  2.1284e-02],\n",
      "          [-2.9486e-02, -4.9355e-02,  1.6379e-02]],\n",
      "\n",
      "         [[-1.5217e-01,  5.1388e-02, -1.5892e-01],\n",
      "          [ 1.1469e-01,  1.5572e-01, -9.0631e-02],\n",
      "          [-1.0100e-01, -2.0162e-01, -7.2726e-02]],\n",
      "\n",
      "         [[-1.5353e-01,  1.3677e-01,  1.2720e-01],\n",
      "          [-2.0911e-01,  5.9611e-02, -1.0112e-01],\n",
      "          [-5.6498e-02, -3.9061e-02, -6.5508e-02]],\n",
      "\n",
      "         [[-1.0008e-01, -1.8562e-01, -1.6725e-01],\n",
      "          [-1.2099e-01, -9.1480e-02,  8.2404e-02],\n",
      "          [-1.1036e-01, -1.0136e-01, -1.3072e-01]],\n",
      "\n",
      "         [[-2.8657e-02, -3.5188e-02, -4.4739e-02],\n",
      "          [ 5.7630e-02,  1.1953e-02,  1.0229e-01],\n",
      "          [ 1.7607e-01,  1.0311e-01,  6.4696e-03]],\n",
      "\n",
      "         [[ 1.1741e-01, -1.8895e-01,  3.0407e-02],\n",
      "          [ 7.1500e-02,  1.0079e-02, -1.1095e-01],\n",
      "          [-2.2906e-02,  4.5101e-02, -1.2378e-01]]],\n",
      "\n",
      "\n",
      "        [[[ 2.1096e-01, -9.8662e-02, -1.5201e-01],\n",
      "          [-2.0687e-02,  1.2790e-01, -1.6157e-01],\n",
      "          [-6.6953e-03,  1.3016e-02, -8.0185e-02]],\n",
      "\n",
      "         [[-1.4762e-01,  1.0242e-01,  4.1856e-02],\n",
      "          [ 1.2030e-01, -1.0758e-01, -7.3787e-02],\n",
      "          [-4.6997e-02, -1.2720e-01,  1.0028e-01]],\n",
      "\n",
      "         [[ 5.5004e-02,  7.6507e-02, -2.9874e-02],\n",
      "          [-1.2585e-01,  1.7754e-01, -1.2734e-01],\n",
      "          [-8.3741e-02,  3.1061e-02, -1.2007e-01]],\n",
      "\n",
      "         [[ 6.6487e-02,  6.4899e-02, -5.9950e-02],\n",
      "          [-2.1717e-02, -7.6018e-04,  1.2771e-01],\n",
      "          [-2.1730e-02,  6.7898e-02, -1.5887e-02]],\n",
      "\n",
      "         [[-1.7422e-01,  7.3774e-02, -5.9457e-03],\n",
      "          [-5.5920e-02,  7.5512e-03,  3.6554e-02],\n",
      "          [-1.4162e-01, -4.1907e-02,  9.0871e-02]],\n",
      "\n",
      "         [[-4.2056e-03,  2.5357e-01,  6.9980e-02],\n",
      "          [-1.3224e-01,  3.4290e-01,  2.5371e-01],\n",
      "          [-2.0762e-01,  1.5454e-01,  8.4950e-02]]]], requires_grad=True)\n",
      "torch.Size([16, 6, 3, 3])\n"
     ]
    }
   ],
   "source": [
    "print(net.conv2)\n",
    "print(net.conv2.weight)\n",
    "print(net.conv2.weight.shape)"
   ]
  },
  {
   "cell_type": "code",
   "execution_count": 54,
   "metadata": {},
   "outputs": [
    {
     "name": "stdout",
     "output_type": "stream",
     "text": [
      "[[ 81.43251   74.659676 139.63026  134.01378   99.04334 ]\n",
      " [ 53.85189   54.900776 154.55606  128.6199   108.512184]\n",
      " [ 64.47924   63.45128  125.958374 122.0278   103.50405 ]\n",
      " [ 96.8179    67.19829  132.86276  109.600975  89.77836 ]\n",
      " [ 84.204     77.81126  112.05864  121.025406  99.40432 ]]\n",
      "[[ 81  74 139 134  99]\n",
      " [ 53  54 154 128 108]\n",
      " [ 64  63 125 122 103]\n",
      " [ 96  67 132 109  89]\n",
      " [ 84  77 112 121  99]]\n"
     ]
    },
    {
     "data": {
      "image/jpeg": "[encoded data removed]",
      "image/png": "[encoded data removed]",
      "text/plain": [
       "<PIL.Image.Image image mode=L size=100x100>"
      ]
     },
     "metadata": {},
     "output_type": "display_data"
    }
   ],
   "source": [
    "import matplotlib.pyplot as plt\n",
    "from PIL import Image\n",
    "from IPython.display import display\n",
    "tff = net.conv1.weight[5][0].detach()\n",
    "tff1 = ((tff + 1)*100).numpy()\n",
    "print(tff1)\n",
    "tff11 = tff1.astype(np.uint8)\n",
    "print(tff11)\n",
    "\n",
    "img = Image.fromarray(tff11, \"L\")\n",
    "img2 = img.resize((100,100), resample=Image.BOX)\n",
    "display(img2) "
   ]
  },
  {
   "cell_type": "code",
   "execution_count": 55,
   "metadata": {},
   "outputs": [
    {
     "name": "stdout",
     "output_type": "stream",
     "text": [
      "[[ 98.9813   122.28496  128.51285 ]\n",
      " [106.30476  124.57731  117.331184]\n",
      " [ 92.85202  123.94136  113.15464 ]]\n",
      "[[ 98 122 128]\n",
      " [106 124 117]\n",
      " [ 92 123 113]]\n"
     ]
    },
    {
     "data": {
      "image/jpeg": "[encoded data removed]",
      "image/png": "[encoded data removed]",
      "text/plain": [
       "<PIL.Image.Image image mode=L size=100x100>"
      ]
     },
     "metadata": {},
     "output_type": "display_data"
    }
   ],
   "source": [
    "import matplotlib.pyplot as plt\n",
    "from PIL import Image\n",
    "from IPython.display import display\n",
    "tff = net.conv2.weight[5][0].detach()\n",
    "tff1 = ((tff + 1)*100).numpy()\n",
    "print(tff1)\n",
    "tff11 = tff1.astype(np.uint8)\n",
    "print(tff11)\n",
    "\n",
    "img = Image.fromarray(tff11, \"L\")\n",
    "img2 = img.resize((100,100), resample=Image.BOX)\n",
    "display(img2) "
   ]
  },
  {
   "cell_type": "code",
   "execution_count": null,
   "metadata": {},
   "outputs": [],
   "source": []
  }
 ],
 "metadata": {
  "accelerator": "GPU",
  "colab": {
   "gpuType": "T4",
   "provenance": []
  },
  "kernelspec": {
   "display_name": "Python 3 (ipykernel)",
   "language": "python",
   "name": "python3"
  },
  "language_info": {
   "codemirror_mode": {
    "name": "ipython",
    "version": 3
   },
   "file_extension": ".py",
   "mimetype": "text/x-python",
   "name": "python",
   "nbconvert_exporter": "python",
   "pygments_lexer": "ipython3",
   "version": "3.12.4"
  }
 },
 "nbformat": 4,
 "nbformat_minor": 4
}
