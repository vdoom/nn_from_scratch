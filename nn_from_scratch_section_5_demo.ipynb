{
 "cells": [
  {
   "cell_type": "markdown",
   "id": "0f0230a5-a43f-4de9-9d3f-225a51c13efe",
   "metadata": {},
   "source": [
    "# Convolution demos"
   ]
  },
  {
   "cell_type": "markdown",
   "id": "8ba04918-e638-4ea0-a337-eaf7feedd693",
   "metadata": {},
   "source": [
    "In this notebook, we use the batch, multi-channel convolution operation implemented in Numpy (that you can find here) to train a small convolutional neural network to more than 90% accuracy on MNIST."
   ]
  },
  {
   "cell_type": "code",
   "execution_count": 1,
   "id": "61dec689-80a2-45aa-8fef-10deb4a12f77",
   "metadata": {},
   "outputs": [],
   "source": [
    "import numpy as np\n",
    "\n",
    "import lincoln\n",
    "from lincoln.layers import Dense\n",
    "from lincoln.losses import SoftmaxCrossEntropy, MeanSquaredError\n",
    "from lincoln.optimizers import Optimizer, SGD, SGDMomentum\n",
    "from lincoln.activations import Sigmoid, Tanh, Linear, ReLU\n",
    "from lincoln.network import NeuralNetwork\n",
    "from lincoln.train import Trainer\n",
    "from lincoln.utils import mnist\n",
    "from lincoln.layers import Conv2D\n",
    "\n",
    "X_train, y_train, X_test, y_test = mnist.load()"
   ]
  },
  {
   "cell_type": "code",
   "execution_count": 2,
   "id": "c72b24bc-c8bb-4956-bab0-a40b2baa0a85",
   "metadata": {},
   "outputs": [],
   "source": [
    "%load_ext autoreload\n",
    "%autoreload 2"
   ]
  },
  {
   "cell_type": "code",
   "execution_count": 3,
   "id": "340a6529-9c25-4120-9e23-f12b76eb590b",
   "metadata": {},
   "outputs": [],
   "source": [
    "X_train, X_test = X_train - np.mean(X_train), X_test - np.mean(X_train)\n",
    "X_train, X_test = X_train / np.std(X_train), X_test / np.std(X_train)"
   ]
  },
  {
   "cell_type": "code",
   "execution_count": 4,
   "id": "0e828dd6-b32d-480d-a877-9dc8c02fd7e3",
   "metadata": {},
   "outputs": [],
   "source": [
    "X_train_conv, X_test_conv = X_train.reshape(-1, 1, 28, 28), X_test.reshape(-1, 1, 28, 28)"
   ]
  },
  {
   "cell_type": "code",
   "execution_count": 5,
   "id": "639c2a6f-04b3-4377-a3af-03ab6ee9c61c",
   "metadata": {},
   "outputs": [],
   "source": [
    "num_labels = len(y_train)\n",
    "train_labels = np.zeros((num_labels, 10))\n",
    "for i in range(num_labels):\n",
    "    train_labels[i][y_train[i]] = 1\n",
    "\n",
    "num_labels = len(y_test)\n",
    "test_labels = np.zeros((num_labels, 10))\n",
    "for i in range(num_labels):\n",
    "    test_labels[i][y_test[i]] = 1"
   ]
  },
  {
   "cell_type": "code",
   "execution_count": 6,
   "id": "df542421-d3f5-4cc9-a8ff-63c8854be998",
   "metadata": {},
   "outputs": [],
   "source": [
    "def calc_accuracy_model(model, test_set):\n",
    "    return print(f'''The model validation accuracy is: \n",
    "    {np.equal(np.argmax(model.forward(test_set, inference=True), axis=1), y_test).sum() * 100.0 / test_set.shape[0]:.2f}%''')\n"
   ]
  },
  {
   "cell_type": "markdown",
   "id": "459bdfde-eaf0-4f42-bf31-8ba06d459ef3",
   "metadata": {},
   "source": [
    "# CNN from scratch"
   ]
  },
  {
   "cell_type": "code",
   "execution_count": 7,
   "id": "04f68ae6-b534-4b3f-9837-ad630676c296",
   "metadata": {},
   "outputs": [
    {
     "name": "stdout",
     "output_type": "stream",
     "text": [
      "batch 0 loss 31.19150189374251\n",
      "batch 10 loss 14.150390490520643\n",
      "batch 20 loss 8.507022911375255\n",
      "batch 30 loss 9.816084578290843\n",
      "batch 40 loss 2.7069471026522884\n",
      "batch 50 loss 5.03914234741751\n",
      "batch 60 loss 3.84129510124237\n",
      "batch 70 loss 8.47835478579719\n",
      "batch 80 loss 5.387778147320186\n",
      "batch 90 loss 2.297198493016533\n",
      "batch 100 loss 3.4252685194397183\n",
      "Validation accuracy after 100 batches is 86.98%\n",
      "batch 110 loss 7.542422190100945\n",
      "batch 120 loss 4.198003014080104\n",
      "batch 130 loss 6.420056983177029\n",
      "batch 140 loss 2.600267811092316\n",
      "batch 150 loss 9.010509980910172\n",
      "batch 160 loss 3.789706333087536\n",
      "batch 170 loss 2.42753600353487\n",
      "batch 180 loss 5.8107929389236554\n",
      "batch 190 loss 7.2788958392851555\n",
      "batch 200 loss 7.3836580854578395\n",
      "Validation accuracy after 200 batches is 84.76%\n",
      "batch 210 loss 4.308666041664305\n",
      "batch 220 loss 4.144740788729297\n",
      "batch 230 loss 7.248635281905567\n",
      "batch 240 loss 2.4492825350870047\n",
      "batch 250 loss 4.012314538004932\n",
      "batch 260 loss 7.04111133835793\n",
      "batch 270 loss 6.574681888773044\n",
      "batch 280 loss 2.4704970037550122\n",
      "batch 290 loss 3.33408965607622\n",
      "batch 300 loss 3.113531429325756\n",
      "Validation accuracy after 300 batches is 90.44%\n",
      "batch 310 loss 3.85365017767748\n",
      "batch 320 loss 4.327457624101968\n",
      "batch 330 loss 2.072430666263274\n",
      "batch 340 loss 0.706843874997613\n",
      "batch 350 loss 3.825087507893406\n",
      "batch 360 loss 6.707115731834183\n",
      "batch 370 loss 4.8269989210342725\n",
      "batch 380 loss 2.513557113406046\n",
      "batch 390 loss 3.3355997573700993\n",
      "batch 400 loss 4.826793069920598\n",
      "Validation accuracy after 400 batches is 89.52%\n",
      "batch 410 loss 2.591595756692742\n",
      "batch 420 loss 4.109184866567057\n",
      "batch 430 loss 3.85328853442464\n",
      "batch 440 loss 3.900168697817916\n",
      "batch 450 loss 7.943295434622777\n",
      "batch 460 loss 2.7631756285323634\n",
      "batch 470 loss 4.144653180017475\n",
      "batch 480 loss 4.8389824962512815\n",
      "batch 490 loss 5.0982772993141054\n",
      "batch 500 loss 2.6018566709228392\n",
      "Validation accuracy after 500 batches is 89.95%\n",
      "batch 510 loss 4.144654654759729\n",
      "batch 520 loss 2.9982655878670412\n",
      "batch 530 loss 1.8295937133043692\n",
      "batch 540 loss 6.188596946384727\n",
      "batch 550 loss 3.8315188206115853\n",
      "batch 560 loss 3.33861498013983\n",
      "batch 570 loss 2.588193282929076\n",
      "batch 580 loss 2.517301422864321\n",
      "batch 590 loss 3.972971728718106\n",
      "batch 600 loss 3.1895811691918396\n",
      "Validation accuracy after 600 batches is 88.10%\n",
      "batch 610 loss 5.014040695805646\n",
      "batch 620 loss 3.4538783993959146\n",
      "batch 630 loss 5.5102529185152695\n",
      "batch 640 loss 3.1483656931451165\n",
      "batch 650 loss 2.9503734979582155\n",
      "batch 660 loss 4.151446427888673\n",
      "batch 670 loss 2.763102123508234\n",
      "batch 680 loss 2.7631755517380214\n",
      "batch 690 loss 2.537403542357592\n",
      "batch 700 loss 0.35389650109349413\n",
      "Validation accuracy after 700 batches is 90.36%\n",
      "batch 710 loss 3.458247982332158\n",
      "batch 720 loss 4.093972952169649\n",
      "batch 730 loss 4.182041294321912\n",
      "batch 740 loss 2.0723265950087377\n",
      "batch 750 loss 2.028130468330815\n",
      "batch 760 loss 1.3815510666724917\n",
      "batch 770 loss 3.5265665878329484\n",
      "batch 780 loss 2.7631021233449835\n",
      "batch 790 loss 3.577476794926695\n",
      "batch 800 loss 2.0723265950087377\n",
      "Validation accuracy after 800 batches is 88.71%\n",
      "batch 810 loss 4.029234741282506\n",
      "batch 820 loss 1.3815510666724917\n",
      "batch 830 loss 2.0777369771195553\n",
      "batch 840 loss 3.92611499117738\n",
      "batch 850 loss 4.519214002970657\n",
      "batch 860 loss 2.0723265950087377\n",
      "batch 870 loss 4.465340916893689\n",
      "batch 880 loss 2.0723266626111516\n",
      "batch 890 loss 2.3903153388847027\n",
      "batch 900 loss 4.165930150860818\n",
      "Validation accuracy after 900 batches is 90.48%\n",
      "batch 910 loss 2.846143248134228\n",
      "batch 920 loss 2.7631021233449835\n",
      "batch 930 loss 3.469169595030802\n",
      "batch 940 loss 2.9170007492688885\n",
      "batch 950 loss 1.3267225518346573\n",
      "batch 960 loss 3.438796497400771\n",
      "batch 970 loss 1.7954489849725799\n",
      "batch 980 loss 4.195573256303165\n",
      "batch 990 loss 3.992601385308686\n",
      "Validation loss after 1 epochs is 3.373\n"
     ]
    }
   ],
   "source": [
    "model = NeuralNetwork(\n",
    "    layers=[Conv2D(out_channels=16,\n",
    "                   param_size=5,\n",
    "                   dropout=0.8,\n",
    "                   weight_init=\"glorot\",\n",
    "                   flatten=True,\n",
    "                  activation=Tanh()),\n",
    "            Dense(neurons=10, \n",
    "                  activation=Linear())],\n",
    "            loss = SoftmaxCrossEntropy(), \n",
    "seed=20190402)\n",
    "\n",
    "trainer = Trainer(model, SGDMomentum(lr = 0.1, momentum=0.9))\n",
    "trainer.fit(X_train_conv, train_labels, X_test_conv, test_labels,\n",
    "            epochs = 1,\n",
    "            eval_every = 1,\n",
    "            seed=20190402,\n",
    "            batch_size=60,\n",
    "            conv_testing=True);"
   ]
  },
  {
   "cell_type": "code",
   "execution_count": null,
   "id": "accc2e68-9d90-4a6d-9234-9dde9aa6cf52",
   "metadata": {},
   "outputs": [],
   "source": []
  }
 ],
 "metadata": {
  "kernelspec": {
   "display_name": "Python 3 (ipykernel)",
   "language": "python",
   "name": "python3"
  },
  "language_info": {
   "codemirror_mode": {
    "name": "ipython",
    "version": 3
   },
   "file_extension": ".py",
   "mimetype": "text/x-python",
   "name": "python",
   "nbconvert_exporter": "python",
   "pygments_lexer": "ipython3",
   "version": "3.12.4"
  }
 },
 "nbformat": 4,
 "nbformat_minor": 5
}
