{
 "cells": [
  {
   "cell_type": "markdown",
   "id": "bb6fb515",
   "metadata": {},
   "source": [
    "# imports "
   ]
  },
  {
   "cell_type": "code",
   "execution_count": 1,
   "id": "58a7d8a9",
   "metadata": {},
   "outputs": [],
   "source": [
    "import numpy as np\n",
    "from numpy import ndarray\n",
    "\n",
    "from typing import Callable, Dict, Tuple, List\n",
    "\n",
    "np.set_printoptions(precision=4)\n",
    "# GRAPHS_IMG_FILEPATH = \"/Users/seth/development/01_deep-learning-from-scratch/images/02_fundamentals/graphs/\""
   ]
  },
  {
   "cell_type": "code",
   "execution_count": 2,
   "id": "15cfc81e",
   "metadata": {},
   "outputs": [],
   "source": [
    "%load_ext autoreload\n",
    "%autoreload 2"
   ]
  },
  {
   "cell_type": "code",
   "execution_count": 3,
   "id": "d6c2d324",
   "metadata": {},
   "outputs": [],
   "source": [
    "TEST_ALL = True"
   ]
  },
  {
   "cell_type": "markdown",
   "id": "16279c22",
   "metadata": {},
   "source": [
    "# Boston data"
   ]
  },
  {
   "cell_type": "code",
   "execution_count": 4,
   "id": "00a9e03c",
   "metadata": {},
   "outputs": [
    {
     "ename": "ImportError",
     "evalue": "\n`load_boston` has been removed from scikit-learn since version 1.2.\n\nThe Boston housing prices dataset has an ethical problem: as\ninvestigated in [1], the authors of this dataset engineered a\nnon-invertible variable \"B\" assuming that racial self-segregation had a\npositive impact on house prices [2]. Furthermore the goal of the\nresearch that led to the creation of this dataset was to study the\nimpact of air quality but it did not give adequate demonstration of the\nvalidity of this assumption.\n\nThe scikit-learn maintainers therefore strongly discourage the use of\nthis dataset unless the purpose of the code is to study and educate\nabout ethical issues in data science and machine learning.\n\nIn this special case, you can fetch the dataset from the original\nsource::\n\n    import pandas as pd\n    import numpy as np\n\n    data_url = \"http://lib.stat.cmu.edu/datasets/boston\"\n    raw_df = pd.read_csv(data_url, sep=\"\\s+\", skiprows=22, header=None)\n    data = np.hstack([raw_df.values[::2, :], raw_df.values[1::2, :2]])\n    target = raw_df.values[1::2, 2]\n\nAlternative datasets include the California housing dataset and the\nAmes housing dataset. You can load the datasets as follows::\n\n    from sklearn.datasets import fetch_california_housing\n    housing = fetch_california_housing()\n\nfor the California housing dataset and::\n\n    from sklearn.datasets import fetch_openml\n    housing = fetch_openml(name=\"house_prices\", as_frame=True)\n\nfor the Ames housing dataset.\n\n[1] M Carlisle.\n\"Racist data destruction?\"\n<https://medium.com/@docintangible/racist-data-destruction-113e3eff54a8>\n\n[2] Harrison Jr, David, and Daniel L. Rubinfeld.\n\"Hedonic housing prices and the demand for clean air.\"\nJournal of environmental economics and management 5.1 (1978): 81-102.\n<https://www.researchgate.net/publication/4974606_Hedonic_housing_prices_and_the_demand_for_clean_air>\n",
     "output_type": "error",
     "traceback": [
      "\u001b[1;31m---------------------------------------------------------------------------\u001b[0m",
      "\u001b[1;31mImportError\u001b[0m                               Traceback (most recent call last)",
      "Cell \u001b[1;32mIn[4], line 1\u001b[0m\n\u001b[1;32m----> 1\u001b[0m \u001b[38;5;28;01mfrom\u001b[39;00m \u001b[38;5;21;01msklearn\u001b[39;00m\u001b[38;5;21;01m.\u001b[39;00m\u001b[38;5;21;01mdatasets\u001b[39;00m \u001b[38;5;28;01mimport\u001b[39;00m load_boston\n",
      "File \u001b[1;32m~\\anaconda3\\Lib\\site-packages\\sklearn\\datasets\\__init__.py:156\u001b[0m, in \u001b[0;36m__getattr__\u001b[1;34m(name)\u001b[0m\n\u001b[0;32m    105\u001b[0m \u001b[38;5;28;01mif\u001b[39;00m name \u001b[38;5;241m==\u001b[39m \u001b[38;5;124m\"\u001b[39m\u001b[38;5;124mload_boston\u001b[39m\u001b[38;5;124m\"\u001b[39m:\n\u001b[0;32m    106\u001b[0m     msg \u001b[38;5;241m=\u001b[39m textwrap\u001b[38;5;241m.\u001b[39mdedent(\n\u001b[0;32m    107\u001b[0m \u001b[38;5;250m        \u001b[39m\u001b[38;5;124;03m\"\"\"\u001b[39;00m\n\u001b[0;32m    108\u001b[0m \u001b[38;5;124;03m        `load_boston` has been removed from scikit-learn since version 1.2.\u001b[39;00m\n\u001b[1;32m   (...)\u001b[0m\n\u001b[0;32m    154\u001b[0m \u001b[38;5;124;03m        \"\"\"\u001b[39;00m\n\u001b[0;32m    155\u001b[0m     )\n\u001b[1;32m--> 156\u001b[0m     \u001b[38;5;28;01mraise\u001b[39;00m \u001b[38;5;167;01mImportError\u001b[39;00m(msg)\n\u001b[0;32m    157\u001b[0m \u001b[38;5;28;01mtry\u001b[39;00m:\n\u001b[0;32m    158\u001b[0m     \u001b[38;5;28;01mreturn\u001b[39;00m \u001b[38;5;28mglobals\u001b[39m()[name]\n",
      "\u001b[1;31mImportError\u001b[0m: \n`load_boston` has been removed from scikit-learn since version 1.2.\n\nThe Boston housing prices dataset has an ethical problem: as\ninvestigated in [1], the authors of this dataset engineered a\nnon-invertible variable \"B\" assuming that racial self-segregation had a\npositive impact on house prices [2]. Furthermore the goal of the\nresearch that led to the creation of this dataset was to study the\nimpact of air quality but it did not give adequate demonstration of the\nvalidity of this assumption.\n\nThe scikit-learn maintainers therefore strongly discourage the use of\nthis dataset unless the purpose of the code is to study and educate\nabout ethical issues in data science and machine learning.\n\nIn this special case, you can fetch the dataset from the original\nsource::\n\n    import pandas as pd\n    import numpy as np\n\n    data_url = \"http://lib.stat.cmu.edu/datasets/boston\"\n    raw_df = pd.read_csv(data_url, sep=\"\\s+\", skiprows=22, header=None)\n    data = np.hstack([raw_df.values[::2, :], raw_df.values[1::2, :2]])\n    target = raw_df.values[1::2, 2]\n\nAlternative datasets include the California housing dataset and the\nAmes housing dataset. You can load the datasets as follows::\n\n    from sklearn.datasets import fetch_california_housing\n    housing = fetch_california_housing()\n\nfor the California housing dataset and::\n\n    from sklearn.datasets import fetch_openml\n    housing = fetch_openml(name=\"house_prices\", as_frame=True)\n\nfor the Ames housing dataset.\n\n[1] M Carlisle.\n\"Racist data destruction?\"\n<https://medium.com/@docintangible/racist-data-destruction-113e3eff54a8>\n\n[2] Harrison Jr, David, and Daniel L. Rubinfeld.\n\"Hedonic housing prices and the demand for clean air.\"\nJournal of environmental economics and management 5.1 (1978): 81-102.\n<https://www.researchgate.net/publication/4974606_Hedonic_housing_prices_and_the_demand_for_clean_air>\n"
     ]
    }
   ],
   "source": [
    "from sklearn.datasets import load_boston"
   ]
  },
  {
   "cell_type": "code",
   "execution_count": 5,
   "id": "7a0be6d6",
   "metadata": {},
   "outputs": [],
   "source": [
    "from sklearn.datasets import fetch_california_housing\n",
    "housing = fetch_california_housing()\n",
    "data = housing.data\n",
    "target = housing.target\n",
    "features = housing.feature_names"
   ]
  },
  {
   "cell_type": "code",
   "execution_count": 6,
   "id": "cbf4b260",
   "metadata": {},
   "outputs": [
    {
     "name": "stdout",
     "output_type": "stream",
     "text": [
      "['MedInc', 'HouseAge', 'AveRooms', 'AveBedrms', 'Population', 'AveOccup', 'Latitude', 'Longitude']\n"
     ]
    }
   ],
   "source": [
    "print(features)"
   ]
  },
  {
   "cell_type": "code",
   "execution_count": 7,
   "id": "e1c66572",
   "metadata": {},
   "outputs": [],
   "source": [
    "import pandas as pd\n",
    "import numpy as np\n",
    "\n",
    "data_url = \"http://lib.stat.cmu.edu/datasets/boston\"\n",
    "raw_df = pd.read_csv(data_url, sep=\"\\s+\", skiprows=22, header=None)\n",
    "data = np.hstack([raw_df.values[::2, :], raw_df.values[1::2, :2]])\n",
    "target = raw_df.values[1::2, 2]"
   ]
  },
  {
   "cell_type": "code",
   "execution_count": 8,
   "id": "c408c56f",
   "metadata": {},
   "outputs": [
    {
     "name": "stdout",
     "output_type": "stream",
     "text": [
      "[[6.3200e-03 1.8000e+01 2.3100e+00 ... 1.5300e+01 3.9690e+02 4.9800e+00]\n",
      " [2.7310e-02 0.0000e+00 7.0700e+00 ... 1.7800e+01 3.9690e+02 9.1400e+00]\n",
      " [2.7290e-02 0.0000e+00 7.0700e+00 ... 1.7800e+01 3.9283e+02 4.0300e+00]\n",
      " ...\n",
      " [6.0760e-02 0.0000e+00 1.1930e+01 ... 2.1000e+01 3.9690e+02 5.6400e+00]\n",
      " [1.0959e-01 0.0000e+00 1.1930e+01 ... 2.1000e+01 3.9345e+02 6.4800e+00]\n",
      " [4.7410e-02 0.0000e+00 1.1930e+01 ... 2.1000e+01 3.9690e+02 7.8800e+00]]\n"
     ]
    }
   ],
   "source": [
    "print(data)"
   ]
  },
  {
   "cell_type": "code",
   "execution_count": 9,
   "id": "eb34ed2f",
   "metadata": {},
   "outputs": [
    {
     "name": "stdout",
     "output_type": "stream",
     "text": [
      "[24.  21.6 34.7 33.4 36.2 28.7 22.9 27.1 16.5 18.9 15.  18.9 21.7 20.4\n",
      " 18.2 19.9 23.1 17.5 20.2 18.2 13.6 19.6 15.2 14.5 15.6 13.9 16.6 14.8\n",
      " 18.4 21.  12.7 14.5 13.2 13.1 13.5 18.9 20.  21.  24.7 30.8 34.9 26.6\n",
      " 25.3 24.7 21.2 19.3 20.  16.6 14.4 19.4 19.7 20.5 25.  23.4 18.9 35.4\n",
      " 24.7 31.6 23.3 19.6 18.7 16.  22.2 25.  33.  23.5 19.4 22.  17.4 20.9\n",
      " 24.2 21.7 22.8 23.4 24.1 21.4 20.  20.8 21.2 20.3 28.  23.9 24.8 22.9\n",
      " 23.9 26.6 22.5 22.2 23.6 28.7 22.6 22.  22.9 25.  20.6 28.4 21.4 38.7\n",
      " 43.8 33.2 27.5 26.5 18.6 19.3 20.1 19.5 19.5 20.4 19.8 19.4 21.7 22.8\n",
      " 18.8 18.7 18.5 18.3 21.2 19.2 20.4 19.3 22.  20.3 20.5 17.3 18.8 21.4\n",
      " 15.7 16.2 18.  14.3 19.2 19.6 23.  18.4 15.6 18.1 17.4 17.1 13.3 17.8\n",
      " 14.  14.4 13.4 15.6 11.8 13.8 15.6 14.6 17.8 15.4 21.5 19.6 15.3 19.4\n",
      " 17.  15.6 13.1 41.3 24.3 23.3 27.  50.  50.  50.  22.7 25.  50.  23.8\n",
      " 23.8 22.3 17.4 19.1 23.1 23.6 22.6 29.4 23.2 24.6 29.9 37.2 39.8 36.2\n",
      " 37.9 32.5 26.4 29.6 50.  32.  29.8 34.9 37.  30.5 36.4 31.1 29.1 50.\n",
      " 33.3 30.3 34.6 34.9 32.9 24.1 42.3 48.5 50.  22.6 24.4 22.5 24.4 20.\n",
      " 21.7 19.3 22.4 28.1 23.7 25.  23.3 28.7 21.5 23.  26.7 21.7 27.5 30.1\n",
      " 44.8 50.  37.6 31.6 46.7 31.5 24.3 31.7 41.7 48.3 29.  24.  25.1 31.5\n",
      " 23.7 23.3 22.  20.1 22.2 23.7 17.6 18.5 24.3 20.5 24.5 26.2 24.4 24.8\n",
      " 29.6 42.8 21.9 20.9 44.  50.  36.  30.1 33.8 43.1 48.8 31.  36.5 22.8\n",
      " 30.7 50.  43.5 20.7 21.1 25.2 24.4 35.2 32.4 32.  33.2 33.1 29.1 35.1\n",
      " 45.4 35.4 46.  50.  32.2 22.  20.1 23.2 22.3 24.8 28.5 37.3 27.9 23.9\n",
      " 21.7 28.6 27.1 20.3 22.5 29.  24.8 22.  26.4 33.1 36.1 28.4 33.4 28.2\n",
      " 22.8 20.3 16.1 22.1 19.4 21.6 23.8 16.2 17.8 19.8 23.1 21.  23.8 23.1\n",
      " 20.4 18.5 25.  24.6 23.  22.2 19.3 22.6 19.8 17.1 19.4 22.2 20.7 21.1\n",
      " 19.5 18.5 20.6 19.  18.7 32.7 16.5 23.9 31.2 17.5 17.2 23.1 24.5 26.6\n",
      " 22.9 24.1 18.6 30.1 18.2 20.6 17.8 21.7 22.7 22.6 25.  19.9 20.8 16.8\n",
      " 21.9 27.5 21.9 23.1 50.  50.  50.  50.  50.  13.8 13.8 15.  13.9 13.3\n",
      " 13.1 10.2 10.4 10.9 11.3 12.3  8.8  7.2 10.5  7.4 10.2 11.5 15.1 23.2\n",
      "  9.7 13.8 12.7 13.1 12.5  8.5  5.   6.3  5.6  7.2 12.1  8.3  8.5  5.\n",
      " 11.9 27.9 17.2 27.5 15.  17.2 17.9 16.3  7.   7.2  7.5 10.4  8.8  8.4\n",
      " 16.7 14.2 20.8 13.4 11.7  8.3 10.2 10.9 11.   9.5 14.5 14.1 16.1 14.3\n",
      " 11.7 13.4  9.6  8.7  8.4 12.8 10.5 17.1 18.4 15.4 10.8 11.8 14.9 12.6\n",
      " 14.1 13.  13.4 15.2 16.1 17.8 14.9 14.1 12.7 13.5 14.9 20.  16.4 17.7\n",
      " 19.5 20.2 21.4 19.9 19.  19.1 19.1 20.1 19.9 19.6 23.2 29.8 13.8 13.3\n",
      " 16.7 12.  14.6 21.4 23.  23.7 25.  21.8 20.6 21.2 19.1 20.6 15.2  7.\n",
      "  8.1 13.6 20.1 21.8 24.5 23.1 19.7 18.3 21.2 17.5 16.8 22.4 20.6 23.9\n",
      " 22.  11.9]\n"
     ]
    }
   ],
   "source": [
    "print(target)"
   ]
  },
  {
   "cell_type": "code",
   "execution_count": 10,
   "id": "37fa7c82",
   "metadata": {},
   "outputs": [],
   "source": [
    "#from sklearn.datasets import fetch_california_housing\n",
    "#housing = fetch_california_housing()"
   ]
  },
  {
   "cell_type": "code",
   "execution_count": 11,
   "id": "0f611587",
   "metadata": {},
   "outputs": [],
   "source": [
    "#data = housing.data\n",
    "#target = housing.target\n",
    "#features = housing.feature_names"
   ]
  },
  {
   "cell_type": "code",
   "execution_count": 12,
   "id": "8136a976",
   "metadata": {},
   "outputs": [],
   "source": [
    "#print(features)"
   ]
  },
  {
   "cell_type": "markdown",
   "id": "82e1cc32",
   "metadata": {},
   "source": [
    "# SciKit Learn Linear Regression"
   ]
  },
  {
   "cell_type": "markdown",
   "id": "f79fcf13",
   "metadata": {},
   "source": [
    "## Data prep"
   ]
  },
  {
   "cell_type": "code",
   "execution_count": 13,
   "id": "2bd4c5f4",
   "metadata": {},
   "outputs": [],
   "source": [
    "from sklearn.preprocessing import StandardScaler\n",
    "s = StandardScaler()\n",
    "data = s.fit_transform(data)"
   ]
  },
  {
   "cell_type": "code",
   "execution_count": 14,
   "id": "c9276e79",
   "metadata": {},
   "outputs": [],
   "source": [
    "from sklearn.model_selection import train_test_split\n",
    "X_train, X_test, y_train, y_test = train_test_split(data, target, test_size=0.3, random_state=80718)\n",
    "\n",
    "y_train, y_test = y_train.reshape(-1, 1), y_test.reshape(-1, 1)"
   ]
  },
  {
   "cell_type": "markdown",
   "id": "1530b9a2",
   "metadata": {},
   "source": [
    "## Regression"
   ]
  },
  {
   "cell_type": "code",
   "execution_count": 15,
   "id": "95a44fd0",
   "metadata": {},
   "outputs": [],
   "source": [
    "from sklearn.linear_model import LinearRegression\n",
    "lr = LinearRegression(fit_intercept=True)\n",
    "lr.fit(X_train, y_train)\n",
    "preds = lr.predict(X_test)"
   ]
  },
  {
   "cell_type": "code",
   "execution_count": 16,
   "id": "791615ff",
   "metadata": {},
   "outputs": [],
   "source": [
    "import matplotlib.pyplot as plt"
   ]
  },
  {
   "cell_type": "code",
   "execution_count": 17,
   "id": "a3cdc582",
   "metadata": {},
   "outputs": [
    {
     "data": {
      "image/png": "[encoded data removed]",
      "text/plain": [
       "<Figure size 640x480 with 1 Axes>"
      ]
     },
     "metadata": {},
     "output_type": "display_data"
    }
   ],
   "source": [
    "plt.xlabel(\"Predicted value\")\n",
    "plt.ylabel(\"Actual value\")\n",
    "plt.title(\"Predicted vs. Actual values for\\nnLinear Regression model\")\n",
    "plt.xlim([0, 51])\n",
    "plt.ylim([0, 51])\n",
    "plt.scatter(preds, y_test)\n",
    "plt.plot([0, 51], [0, 51]);\n",
    "# plt.savefig(IMG_FILEPATH + \"00_linear_real_pred_vs_actual.png\");"
   ]
  },
  {
   "cell_type": "markdown",
   "id": "91072080",
   "metadata": {},
   "source": [
    "## Testing changing feature"
   ]
  },
  {
   "cell_type": "code",
   "execution_count": 18,
   "id": "18c2883d",
   "metadata": {},
   "outputs": [
    {
     "data": {
      "image/png": "[encoded data removed]",
      "text/plain": [
       "<Figure size 640x480 with 1 Axes>"
      ]
     },
     "metadata": {},
     "output_type": "display_data"
    }
   ],
   "source": [
    "#plt.scatter(X_test[:, 7], y_test) #california\n",
    "plt.scatter(X_test[:, 12], y_test) #boston\n",
    "plt.xlabel(\"Most important feature from our data\")\n",
    "plt.ylabel(\"Target\")\n",
    "plt.title(\"Relationship between most\\nimportant feature and target\");\n",
    "# plt.savefig(IMG_FILEPATH + \"02_most_important_feature_vs_target.png\")"
   ]
  },
  {
   "cell_type": "markdown",
   "id": "0cd14918",
   "metadata": {},
   "source": [
    "## Model error"
   ]
  },
  {
   "cell_type": "code",
   "execution_count": 19,
   "id": "9640f7dc",
   "metadata": {},
   "outputs": [],
   "source": [
    "def mae(preds: ndarray, actuals: ndarray):\n",
    "    '''\n",
    "    Compute mean absolute error.\n",
    "    '''\n",
    "    return np.mean(np.abs(preds - actuals))\n",
    "\n",
    "def rmse(preds: ndarray, actuals: ndarray):\n",
    "    '''\n",
    "    Compute root mean squared error.\n",
    "    '''\n",
    "    return np.sqrt(np.mean(np.power(preds - actuals, 2)))"
   ]
  },
  {
   "cell_type": "code",
   "execution_count": 20,
   "id": "3625e79c",
   "metadata": {},
   "outputs": [
    {
     "name": "stdout",
     "output_type": "stream",
     "text": [
      "Mean absolute error: 3.5671 \n",
      "Root mean squared error: 5.0476\n"
     ]
    }
   ],
   "source": [
    "print(\"Mean absolute error:\", round(mae(preds, y_test), 4), \"\\n\"\n",
    "      \"Root mean squared error:\", round(rmse(preds, y_test), 4))"
   ]
  },
  {
   "cell_type": "code",
   "execution_count": 21,
   "id": "9e4654da",
   "metadata": {},
   "outputs": [
    {
     "data": {
      "text/plain": [
       "array([[-1.01,  0.71,  0.28,  0.71, -2.21,  2.38,  0.71, -2.66,  2.63,\n",
       "        -1.82, -2.33,  0.85, -4.19]])"
      ]
     },
     "execution_count": 21,
     "metadata": {},
     "output_type": "execute_result"
    }
   ],
   "source": [
    "import numpy as np\n",
    "np.round(lr.coef_, 2)"
   ]
  },
  {
   "cell_type": "code",
   "execution_count": 22,
   "id": "30f938a4",
   "metadata": {},
   "outputs": [
    {
     "name": "stdout",
     "output_type": "stream",
     "text": [
      "[[-1.0148  0.7065  0.276   0.7092 -2.206   2.3793  0.7133 -2.6625  2.6325\n",
      "  -1.8172 -2.3266  0.8465 -4.1889]]\n"
     ]
    }
   ],
   "source": [
    "print(lr.coef_)"
   ]
  },
  {
   "cell_type": "markdown",
   "id": "81198480",
   "metadata": {},
   "source": [
    "## Manual linear regression"
   ]
  },
  {
   "cell_type": "code",
   "execution_count": 23,
   "id": "fb6335ec",
   "metadata": {},
   "outputs": [],
   "source": [
    "def forward_linear_regression(X_batch: ndarray,\n",
    "                              y_batch: ndarray,\n",
    "                              weights: Dict[str, ndarray]\n",
    "                              )-> Tuple[float, Dict[str, ndarray]]:\n",
    "    '''\n",
    "    Forward pass for the step-by-step linear regression.\n",
    "    '''\n",
    "    # assert batch sizes of X and y are equal\n",
    "    assert X_batch.shape[0] == y_batch.shape[0]\n",
    "\n",
    "    # assert that matrix multiplication can work\n",
    "    assert X_batch.shape[1] == weights['W'].shape[0]\n",
    "\n",
    "    # assert that B is simply a 1x1 ndarray\n",
    "    assert weights['B'].shape[0] == weights['B'].shape[1] == 1\n",
    "\n",
    "    # compute the operations on the forward pass\n",
    "    N = np.dot(X_batch, weights['W'])\n",
    "\n",
    "    P = N + weights['B']\n",
    "\n",
    "    loss = np.mean(np.power(y_batch - P, 2))\n",
    "\n",
    "    # save the information computed on the forward pass\n",
    "    forward_info: Dict[str, ndarray] = {}\n",
    "    forward_info['X'] = X_batch\n",
    "    forward_info['N'] = N\n",
    "    forward_info['P'] = P\n",
    "    forward_info['y'] = y_batch\n",
    "\n",
    "    return loss, forward_info"
   ]
  },
  {
   "cell_type": "code",
   "execution_count": 24,
   "id": "3c8adf0a",
   "metadata": {},
   "outputs": [],
   "source": [
    "def to_2d_np(a: ndarray, \n",
    "             type: str = \"col\") -> ndarray:\n",
    "    '''\n",
    "    Turns a 1D Tensor into 2D\n",
    "    '''\n",
    "\n",
    "    assert a.ndim == 1, \\\n",
    "    \"Input tensors must be 1 dimensional\"\n",
    "    \n",
    "    if type == \"col\":        \n",
    "        return a.reshape(-1, 1)\n",
    "    elif type == \"row\":\n",
    "        return a.reshape(1, -1)"
   ]
  },
  {
   "cell_type": "code",
   "execution_count": 25,
   "id": "57ebfe0e",
   "metadata": {},
   "outputs": [],
   "source": [
    "def permute_data(X: ndarray, y: ndarray):\n",
    "    '''\n",
    "    Permute X and y, using the same permutation, along axis=0\n",
    "    '''\n",
    "    perm = np.random.permutation(X.shape[0])\n",
    "    return X[perm], y[perm]"
   ]
  },
  {
   "cell_type": "code",
   "execution_count": 31,
   "id": "27f38746",
   "metadata": {},
   "outputs": [],
   "source": [
    "def loss_gradients(forward_info: Dict[str, ndarray],\n",
    "                   weights: Dict[str, ndarray]) -> Dict[str, ndarray]:\n",
    "    '''\n",
    "    Compute dLdW and dLdB for the step-by-step linear regression model.\n",
    "    '''\n",
    "    batch_size = forward_info['X'].shape[0]\n",
    "\n",
    "    dLdP = -2 * (forward_info['y'] - forward_info['P'])\n",
    "\n",
    "    dPdN = np.ones_like(forward_info['N'])\n",
    "\n",
    "    dPdB = np.ones_like(weights['B'])\n",
    "\n",
    "    dLdN = dLdP * dPdN\n",
    "\n",
    "    dNdW = np.transpose(forward_info['X'], (1, 0))\n",
    "    \n",
    "    # need to use matrix multiplication here,\n",
    "    # with dNdW on the left (see note at the end of last chapter)    \n",
    "    dLdW = np.dot(dNdW, dLdN)\n",
    "\n",
    "    # need to sum along dimension representing the batch size:\n",
    "    # see note near the end of the chapter    \n",
    "    dLdB = (dLdP * dPdB).sum(axis=0)\n",
    "\n",
    "    loss_gradients: Dict[str, ndarray] = {}\n",
    "    loss_gradients['W'] = dLdW\n",
    "    loss_gradients['B'] = dLdB\n",
    "\n",
    "    return loss_gradients"
   ]
  },
  {
   "cell_type": "code",
   "execution_count": 26,
   "id": "73f4a8e8",
   "metadata": {},
   "outputs": [],
   "source": [
    "Batch = Tuple[ndarray, ndarray]\n",
    "\n",
    "def generate_batch(X: ndarray, \n",
    "                   y: ndarray,\n",
    "                   start: int = 0,\n",
    "                   batch_size: int = 10) -> Batch:\n",
    "    '''\n",
    "    Generate batch from X and y, given a start position\n",
    "    '''\n",
    "    assert X.ndim == y.ndim == 2, \\\n",
    "    \"X and Y must be 2 dimensional\"\n",
    "\n",
    "    if start+batch_size > X.shape[0]:\n",
    "        batch_size = X.shape[0] - start\n",
    "    \n",
    "    X_batch, y_batch = X[start:start+batch_size], y[start:start+batch_size]\n",
    "    \n",
    "    return X_batch, y_batch"
   ]
  },
  {
   "cell_type": "code",
   "execution_count": 27,
   "id": "a8368db2",
   "metadata": {},
   "outputs": [],
   "source": [
    "def forward_loss(X: ndarray,\n",
    "                 y: ndarray,\n",
    "                 weights: Dict[str, ndarray]) -> Tuple[Dict[str, ndarray], float]:\n",
    "    '''\n",
    "    Generate predictions and calculate loss for a step-by-step linear regression\n",
    "    (used mostly during inference).\n",
    "    '''\n",
    "    N = np.dot(X, weights['W'])\n",
    "\n",
    "    P = N + weights['B']\n",
    "#print(\"P: \",P, \", y: \",y,\", y-P: \", y-P, \"np.power(y - P, 2)\", np.power(y - P, 2, dtype = np.object_))\n",
    "    loss = np.mean(np.power(y - P, 2))\n",
    "\n",
    "    forward_info: Dict[str, ndarray] = {}\n",
    "    forward_info['X'] = X\n",
    "    forward_info['N'] = N\n",
    "    forward_info['P'] = P\n",
    "    forward_info['y'] = y\n",
    "\n",
    "    return forward_info, loss"
   ]
  },
  {
   "cell_type": "code",
   "execution_count": 28,
   "id": "fd2a63b4",
   "metadata": {},
   "outputs": [],
   "source": [
    "def init_weights(n_in: int) -> Dict[str, ndarray]:\n",
    "    '''\n",
    "    Initialize weights on first forward pass of model.\n",
    "    '''\n",
    "    \n",
    "    weights: Dict[str, ndarray] = {}\n",
    "    W = np.random.randn(n_in, 1)\n",
    "    B = np.random.randn(1, 1)\n",
    "    \n",
    "    weights['W'] = W\n",
    "    weights['B'] = B\n",
    "\n",
    "    return weights"
   ]
  },
  {
   "cell_type": "code",
   "execution_count": 33,
   "id": "9813ccd8",
   "metadata": {},
   "outputs": [],
   "source": [
    "def train(X: ndarray, \n",
    "          y: ndarray, \n",
    "          n_iter: int = 1000,\n",
    "          learning_rate: float = 0.01,\n",
    "          batch_size: int = 100,\n",
    "          return_losses: bool = False, \n",
    "          return_weights: bool = False, \n",
    "          seed: int = 1) -> None:\n",
    "    '''\n",
    "    Train model for a certain number of epochs.\n",
    "    '''\n",
    "    \n",
    "    #print(\"X: \",X, \", y: \", y)\n",
    "    \n",
    "    if seed:\n",
    "        np.random.seed(seed)\n",
    "    start = 0\n",
    "\n",
    "    # Initialize weights\n",
    "    weights = init_weights(X.shape[1])\n",
    "\n",
    "    # Permute data\n",
    "    X, y = permute_data(X, y)\n",
    "    \n",
    "    if return_losses:\n",
    "        losses = []\n",
    "\n",
    "    for i in range(n_iter):\n",
    "        #print(\"iteration: \", i)\n",
    "        # Generate batch\n",
    "        if start >= X.shape[0]:\n",
    "            X, y = permute_data(X, y)\n",
    "            start = 0\n",
    "        \n",
    "        X_batch, y_batch = generate_batch(X, y, start, batch_size)\n",
    "        start += batch_size\n",
    "    \n",
    "        # Train net using generated batch\n",
    "        forward_info, loss = forward_loss(X_batch, y_batch, weights)\n",
    "\n",
    "        if return_losses:\n",
    "            losses.append(loss)\n",
    "\n",
    "        loss_grads = loss_gradients(forward_info, weights)\n",
    "        for key in weights.keys():\n",
    "            #print(\"loss_grads[key]: \", loss_grads[key])\n",
    "            weights[key] -= learning_rate * loss_grads[key]\n",
    "            #print(\"key: \",key,\", weights[key]: \", weights[key])\n",
    "\n",
    "    if return_weights:\n",
    "        return losses, weights\n",
    "    \n",
    "    return None"
   ]
  },
  {
   "cell_type": "code",
   "execution_count": 34,
   "id": "59bb87a5",
   "metadata": {},
   "outputs": [],
   "source": [
    "train_info = train(X_train, y_train,\n",
    "                   n_iter = 1000,\n",
    "                   learning_rate = 0.001,\n",
    "                   batch_size=23, \n",
    "                   return_losses=True, \n",
    "                   return_weights=True, \n",
    "                   seed=180708)\n",
    "losses = train_info[0]\n",
    "weights = train_info[1]"
   ]
  },
  {
   "cell_type": "code",
   "execution_count": 35,
   "id": "8cf96c63",
   "metadata": {},
   "outputs": [
    {
     "name": "stdout",
     "output_type": "stream",
     "text": [
      "[813.2098258057699, 707.3600829629221, 419.7802749600342, 414.3022037662332, 412.12423930967475, 354.666153540723, 394.52311723746953, 287.4532555302704, 278.57849453230494, 260.12916284626397, 163.25013432925385, 203.84724241916757, 237.94108880150372, 226.00753682563965, 146.81119501355477, 206.37854567442594, 107.80285106027982, 151.14729247507066, 111.16761642402076, 98.95751000009487, 83.79381551118469, 94.20136590025253, 78.44317974788902, 47.631241702685294, 143.40546520192254, 111.1596701174076, 65.63571009351001, 89.80770880717196, 129.52180384821517, 70.19036732440146, 59.979976535378626, 103.51856622682924, 50.93339924687148, 44.88795067613422, 47.25677768614807, 48.46537397327284, 32.26366621424619, 36.40490636996611, 27.410697021196658, 50.82481163067746, 9.881012100065751, 7.411308392646375, 43.36634759904262, 65.85238941088656, 36.945967663400836, 78.0255003613194, 35.22916908872913, 25.69391873107479, 15.038090398255513, 15.642355233611662, 55.30478486053092, 21.50935388986993, 42.65706141776349, 14.320830892423562, 9.643942117616051, 30.903249217127204, 35.377188933086025, 10.86106369446845, 48.33446713122261, 21.95221201928621, 25.46301520812443, 35.8723823161194, 35.168497417442474, 16.131494965624103, 20.246442958695685, 17.322753115329057, 19.57372785642739, 15.359587191017086, 24.832033045719076, 8.425639633125524, 13.66855447054733, 20.018907716108437, 27.92195638180392, 68.82084330179295, 19.022367680255947, 58.461835127716206, 17.572742386308146, 21.55345314170406, 17.858324287059126, 11.087339175457528, 13.921181416900632, 23.393875582330146, 17.25632684746068, 10.4149047877435, 20.115926951761452, 73.41836501069001, 14.907381187787562, 25.17599904767408, 10.581506152924195, 24.93857039508934, 26.82402583584782, 22.120819189034012, 25.047702154678667, 30.60412222369851, 14.527464500402559, 12.690031668773136, 13.952160245748898, 32.489851865665266, 11.814914893433139, 9.924709830709102, 17.495138801250704, 36.42478111909646, 37.93166780606386, 24.46415830922268, 16.496876544563303, 14.27650240065953, 7.907964839032275, 55.6640661975895, 19.51891653686302, 19.930013460129732, 21.651944833854472, 36.58252014208532, 13.775172489785776, 7.485745007110378, 15.744224531964397, 23.556700557756653, 28.462731085613665, 17.111638476040305, 17.311078982292162, 24.948815241619126, 14.712126355827758, 28.331975603397378, 32.68319987503287, 22.70662569560643, 15.699689388010245, 13.31641867875057, 61.764227877765336, 27.800020558850168, 20.881538893152555, 21.194750272832486, 9.708699597549046, 13.884687134564967, 33.38130522404728, 15.988807552707776, 27.400506878393394, 11.42824769127512, 22.78710020196393, 38.829307203230066, 9.920667488162008, 13.19569046421188, 16.761539569068965, 64.19028865852378, 26.78630382398933, 9.797088957661696, 8.631023580650686, 31.20210195223154, 25.816883072486913, 16.640037901142378, 19.413981021151614, 11.303291312106888, 18.49063559150763, 45.888104616711544, 26.25779236697117, 21.214903199675366, 21.953793200757076, 16.074154908113986, 6.391037877329126, 55.05071936442053, 16.875074079436608, 12.335965741344824, 29.54764314775643, 23.259458321646935, 47.11717285517213, 11.245399131572196, 19.47191161874057, 31.43157763685463, 19.08031501341928, 12.720352219489023, 13.068339068113307, 20.9002141676123, 17.05808989818715, 9.435252145996413, 31.57433614892691, 10.531471370296668, 40.00226635873537, 8.611343367836232, 17.528019290901245, 25.8292073892057, 12.778224630063335, 25.300658177474308, 45.667960556936855, 14.041235469167038, 14.21644212228885, 15.610186150533826, 27.400004807405274, 40.56094709950634, 21.48904607442471, 22.350977837641903, 10.811660115637135, 27.365901341908028, 10.073299316309852, 23.688094909655398, 21.880543751616646, 12.40711187287583, 27.384072502944566, 12.821283188248572, 18.977093220738624, 29.210256245191694, 12.096992643624978, 23.177502267679532, 19.365521963020964, 16.707462426159964, 21.413654013020302, 14.027305153164965, 17.91183604092774, 64.99572467190025, 18.045912607106114, 20.583306254626443, 13.947281538881862, 19.406063494254138, 32.57237543301492, 20.490849751066605, 8.392622749959882, 39.71441824163309, 31.770402765652342, 11.169361779470794, 19.975236387279942, 50.705975229996085, 10.224755457805736, 15.232375541077609, 21.57545307172766, 7.635670956897858, 27.443569494413197, 10.357351715484391, 19.838131172715663, 30.101696195031245, 17.566748955197408, 10.858433021670526, 22.42686718033201, 9.089217108773298, 10.569941888988176, 24.98538082528781, 10.27155959730747, 22.664177083062793, 14.733520952480864, 38.08028811414858, 21.071217619288173, 11.956818981336529, 45.30720208734141, 70.99018798611017, 21.589420083658304, 15.47689537763494, 31.1481673214528, 15.452938292182365, 13.857192848209364, 29.94595210063499, 16.617125935625637, 16.562232869524202, 41.60507599353799, 11.907803319808712, 16.29121207952673, 16.516100739581645, 12.183976202913708, 38.317414400414926, 26.790995307415784, 35.64960052035845, 21.348213986715578, 22.120305759464795, 30.589001126036287, 13.025566439561796, 12.697455702142785, 16.14092503483293, 14.547383600407173, 21.056811072464996, 45.694446868565, 17.137454212852415, 30.070093314164232, 21.979221231087827, 23.08629757643103, 27.833078363742278, 17.495664619912578, 2.32715215272181, 13.757288624301795, 10.108776572764398, 33.67058096641846, 15.46294951306413, 10.25257785489387, 9.396295331169497, 53.95573959857652, 32.91872469342605, 10.929966626502425, 27.8546792194227, 28.402637832945643, 15.420476841439186, 23.532800766490205, 24.210435208880426, 22.880689466989907, 12.023927835349989, 15.94053252848476, 58.653395977736075, 25.8365351143811, 24.598921856850133, 6.999098557814306, 11.81718408088626, 32.01335080618539, 20.880141976575622, 11.511626368035667, 17.17625872905333, 7.480903342242301, 14.696068315341748, 19.563668010239176, 24.759266908064333, 28.26539960198416, 27.87719298152625, 20.58467525075455, 19.415964478971826, 9.204805705946525, 59.19261699556251, 21.69500188766067, 14.519854461448663, 8.258627837319299, 9.195390629455737, 26.871252154309847, 31.692874219313, 46.50915422843068, 8.010860602919122, 14.528995801521079, 11.119888138260249, 18.566011560708404, 29.455036863721133, 11.05001646047282, 18.579475587007906, 25.42398531928029, 29.146467975304933, 34.57837714540475, 13.470736206274387, 16.966643970179174, 41.195349026154666, 23.223689197907778, 9.389507974811831, 19.19720344920509, 19.277460341239056, 14.180213258616341, 31.91092579474129, 15.81215167999839, 28.13595287568784, 9.317909712213424, 11.908121979301173, 11.66845189990754, 19.642563516042195, 41.22306574086506, 24.418071483370703, 12.957861749182012, 10.701508131304527, 26.909092298004968, 19.878415506741817, 25.169741342843725, 24.709253106863933, 11.544425181541696, 24.32249489083967, 45.403061216044385, 30.568777000551133, 17.716630782937305, 55.78020962537665, 20.013025585568695, 36.66854713024389, 29.167825509339977, 22.783995300714523, 15.301109849415615, 26.68517595123559, 8.632755585914605, 20.077549638483767, 8.14685936246443, 9.475525729511377, 18.006474247847066, 19.635450227604927, 15.035861759416067, 30.7912099592374, 15.556166231171055, 22.48198861209225, 33.378032204536794, 17.3665852181637, 26.278027370165344, 10.851713507107783, 11.023917613234502, 23.71926529797064, 19.867838851771385, 49.318490057356264, 15.143386779234888, 14.304022673050474, 18.133891626079578, 30.921000682569556, 18.385064853308755, 26.27939538913232, 8.278090170224818, 25.154507034633614, 14.960719820957776, 35.8620568340531, 10.020562671504756, 14.111483153418563, 43.614557294720264, 22.030929056299918, 22.001766389471065, 15.925619608776026, 30.098167614627954, 24.42143680851718, 34.069969706102036, 12.077651876088527, 15.207362087438085, 22.245437840693356, 16.69696431750837, 35.860693155129546, 24.739619926001296, 8.59406042773396, 14.354490454455684, 17.516670754468915, 22.44612986820021, 20.44757612181655, 12.683873020013015, 22.158892680883813, 26.729051575870145, 38.85064460737972, 22.92176407707036, 21.78016568225096, 23.845674527484388, 11.006337539627634, 25.52138234590336, 14.290967219667449, 27.091220708049033, 8.731341510495508, 16.79750788634335, 14.822775206714773, 20.18466921404792, 27.161872262782982, 26.116865558319365, 13.618411638970434, 18.42792083698657, 65.65276047738195, 23.224513866667913, 10.91231170046272, 19.053662868096676, 10.155218347337573, 9.367440072356441, 38.183188877529425, 18.25938129508869, 20.015458922540247, 10.119787749464518, 18.921414919633495, 16.51709092793582, 34.17216435971776, 22.73838828688887, 18.34618471630318, 10.043089930977992, 56.33007674104867, 31.089001273900003, 11.296369405826582, 13.610422741085015, 14.743278989804098, 14.695094454504183, 30.159945975279328, 17.442788709635646, 39.522048200253764, 24.604311926301783, 36.62698103950414, 26.038222656288998, 25.224091807869666, 30.144331137955543, 18.352048058037962, 13.673515870312169, 10.86860684146113, 10.557021748562272, 15.200267678332546, 10.915939891561836, 22.113594123247275, 25.65453222877242, 13.249362188545817, 14.668123948765974, 37.010230084367876, 35.33495510895802, 15.512458760940719, 23.6193882545254, 14.666869418530462, 8.292999658641303, 33.666549408229805, 38.734861261744534, 8.730727976882712, 22.91445505070604, 13.723534206317995, 16.62923556323274, 17.952217899280356, 21.919698793179293, 12.12378990965644, 20.85438923380691, 58.916102152945186, 15.110305972162653, 10.34221742998826, 10.210176858530296, 16.04451269115867, 24.660282660669456, 45.75197324024807, 14.506068626904208, 14.949498620933278, 29.207839688568207, 19.688439798950593, 11.109552147338151, 12.2496774394068, 15.559482667386279, 21.36252593479828, 8.935456234138497, 17.53455487933835, 26.55641524519847, 36.1203247486434, 19.71334711707205, 16.496173268943515, 12.948228324622011, 11.734305335265162, 18.018973818024758, 19.31582428897134, 57.111167418785925, 31.39674590790743, 17.753007065142327, 17.008778540277213, 26.46875182949922, 13.395412569034818, 39.18541436637503, 17.11996241854256, 21.85335942114583, 30.954745095183704, 17.873164651583494, 19.868474032927196, 14.528576383581532, 11.210148620084922, 29.891342652922603, 8.289451008296076, 11.667523208441084, 30.519636349957306, 35.20971236504174, 14.76589134007572, 23.755645192224655, 39.422070414739125, 14.464941546695792, 16.83792162242872, 30.96806515872509, 19.31968309515403, 18.953067988991723, 20.611664105761587, 9.82438231745958, 26.84174158748963, 12.835685014200726, 31.34938242009441, 15.823949422478242, 19.366603969855397, 18.91232456233646, 34.23292514445721, 24.821259817262998, 12.752735445461909, 10.202105509347408, 11.584798965016292, 38.21689036826677, 24.507530245147763, 24.86196490149425, 22.969419408078615, 11.662538544084224, 10.453028700784248, 14.077204498819388, 28.93855077085843, 49.50330911614163, 11.214651967259204, 30.430036023019053, 13.447353697650115, 32.27739889094728, 17.91236035348149, 29.158168122631718, 20.473287245214372, 27.492839746756005, 30.995530260678382, 9.927384049501283, 36.565793748216485, 33.813110265906005, 11.723717700723649, 13.76266992017403, 17.863014652977537, 9.17828675977228, 16.138994496953874, 20.586233200061084, 20.244532248813254, 8.594129739037228, 28.308988511010078, 10.388064246092497, 17.362172111143607, 29.752245076914253, 12.0911398914436, 22.30970828057118, 32.1550637258327, 34.28825007779404, 38.763093739379315, 17.374312206497734, 12.574249302687628, 31.65701968217339, 21.91757338920488, 8.810772958213036, 13.285439827763101, 27.504511317980135, 10.360496941656772, 22.10315162222245, 19.160665764386348, 14.787438384198456, 10.986209650601683, 18.01417346552664, 4.671389871682017, 39.87038368073403, 18.33319945320122, 25.519100641238424, 16.33575523221994, 30.995692756126893, 40.62098210874799, 23.92267155478563, 12.69420272521122, 39.69139370503036, 27.4365230408659, 22.28006546989473, 16.8409928575561, 18.975828834275298, 19.694134674920484, 10.751677562654207, 11.30222204816199, 17.26031399880753, 50.21839420459939, 16.814644078773195, 20.80929191041133, 14.39925323264051, 13.602048814301236, 23.996392372672453, 15.255703449714437, 19.675314161076976, 10.273477357892984, 20.371376290884108, 16.137788772950863, 25.82402921180282, 22.61575968996192, 16.54588164951665, 15.951509657971076, 21.47926159696847, 41.196340745022944, 21.30202255234474, 21.074098094010726, 18.947085682298056, 14.900706044858078, 14.064416960339916, 88.49886323565413, 18.62298083174127, 38.501097993057144, 14.888422543797017, 29.056025912876812, 26.31963698108036, 13.280778737351719, 13.882367801210668, 11.084181453180095, 33.81175218507554, 13.164065962296092, 10.804741750658389, 19.860037780939777, 11.149312873791336, 44.22181413422917, 22.437112170955757, 28.380108630425653, 38.09663840671199, 11.928839024782128, 24.519207543874337, 17.101430600986212, 23.98669135304239, 24.273699164613465, 11.442792893975945, 12.865818787475588, 8.877755977330454, 37.70065222006316, 20.17982129659413, 29.917388611221327, 30.046595330873917, 11.452088424013015, 21.660776102237545, 17.234364643161623, 33.615389199091304, 19.351157041176126, 16.134514556233594, 17.941845242270333, 21.456513696899577, 26.634096207894007, 19.15952142517168, 15.809875854358253, 29.034228323571014, 12.14228665346041, 37.10850501856196, 15.083243051768443, 6.970967188486375, 37.35077819110023, 18.219165995066763, 7.310966991189121, 52.954715260331234, 20.511662468692247, 13.95090979549263, 10.151336336725429, 20.042779956580873, 31.98190989514516, 24.35626749331546, 21.573566171085787, 22.000185445299316, 10.28057960364928, 24.668943622986404, 18.663777327490806, 14.357911847350927, 23.803581074546923, 15.403647001866352, 8.09187785355433, 23.516059169393678, 23.660594444133984, 26.58919486197201, 14.554128257982365, 13.118298113212893, 10.37274516290683, 19.41945706211136, 21.67862646494305, 18.48549393393367, 41.31804253182845, 28.162568129849713, 33.00612868116985, 17.2025445031498, 15.477174632139327, 24.30058478276365, 13.486319245735544, 36.7942887719847, 17.85584246570525, 7.2237704960978, 18.723380533753147, 39.59618590990387, 13.719329873405798, 31.728463067114234, 17.193240727633537, 14.733946807764392, 20.24594863336599, 16.535663329869557, 21.383150705889605, 18.57109676600593, 26.26391235975691, 26.864601308029595, 7.975159292629946, 46.40834500363629, 14.34068390700465, 22.516715135864068, 38.06982194292468, 13.550835381637386, 16.348417527204393, 40.69727022116481, 22.320363745952044, 23.113971335181024, 19.46598334139903, 22.58705358941693, 16.059670453915555, 15.064535164226282, 9.079598101925951, 11.685267178185889, 8.346129205092828, 11.706834568824476, 12.135392510341438, 7.190571998761244, 27.354097427020115, 15.637694768735406, 27.424640208175923, 6.6105463955847, 23.971927158937138, 40.99941478344135, 19.056553865083526, 27.4660215429305, 25.814845651741607, 22.624064985586703, 38.0459474824553, 19.045191355742933, 12.750388760715598, 16.05352505872639, 18.67279004258953, 17.059420119594506, 17.05753889627925, 9.822354979457467, 15.350218199212181, 22.470556120909745, 16.301272556901495, 15.175075193872134, 9.316220394779489, 32.097315631640534, 29.34095391268386, 26.33294242497102, 44.22774192352325, 13.392754977595203, 63.29149999619907, 15.291708563171497, 7.183035260069118, 15.383674843838586, 19.947888398377177, 20.228318430449207, 28.746054720535238, 13.848973336276876, 26.992004594570012, 42.04717104998167, 33.82061525921393, 21.403134432373967, 11.796944188131306, 16.567633068532984, 31.424741248164448, 13.351524684452128, 34.619675326800625, 21.945158034922862, 21.877380243883753, 23.497860187775167, 15.411801665037967, 29.279593840038086, 23.718560230246513, 13.575072664557664, 12.959441351938116, 16.248650564499407, 21.64282342778558, 15.853770848821563, 7.124404632860651, 34.91206495176375, 33.53900650326743, 24.904630248617206, 34.07080401426653, 20.869492921333382, 24.470635334599983, 13.34074537364682, 15.530816795284675, 26.753305665056015, 19.15840772122131, 19.593973226078145, 17.10334828209322, 11.99404566590086, 47.12643617514462, 33.801924897991285, 15.16346121227322, 22.837211364245377, 21.46989840105023, 13.643326772663897, 35.759218289203304, 55.432395154523874, 16.981715990551773, 23.86698394647726, 23.762209302788634, 17.91532837089249, 13.343495715630235, 8.883422657058423, 26.108417496315813, 12.669878224713397, 10.884200822755233, 24.473046849296807, 18.781723854910975, 34.30555626569324, 16.053033346097035, 17.527100692937722, 25.114546757775017, 15.576428323469695, 10.707020338225174, 25.165317487797417, 16.917572808547853, 40.886724481771914, 22.07101029180556, 30.5480442520203, 32.89792085518975, 21.217086401924597, 12.560832624188953, 26.301742833842194, 12.694508128807836, 25.74207376776414, 8.697526694615954, 20.19623906312024, 25.672268038816465, 12.397253866440856, 14.52860478434977, 15.449318496428727, 23.389914408267106, 9.117447055977182, 20.722957241617955, 58.204067745480145, 12.544328494334977, 32.224629037364515, 23.30533508133786, 13.793654510300877, 33.242830188808796, 27.75966456474579, 10.614869115730004, 20.64268507717861, 5.322095454260718, 24.22792491603218, 42.510871577843396, 13.564651661209377, 23.794194194110197, 19.25074512245211, 22.77387183007669, 11.480365264958085, 25.9123852955953, 16.47252220407022, 13.65900200756305, 9.985106469912342, 20.93094993999188, 50.93197688312461, 11.731140406599895, 20.472611418910088, 8.884543852941725, 12.733772989372172, 12.732520067617576, 10.786962632603212, 27.87536793635755, 14.996531025524437, 25.10633395403388, 26.130136084736098, 30.40458587758297, 11.182213348934864, 39.35533694154167, 17.99149923948866, 34.79262154419234, 25.75005635003751, 17.78292786147064, 21.770647861193414, 9.540634025426487, 22.186820845003982, 51.32925027274958, 12.07539359434873, 17.264983393527494, 33.895793668897355, 21.698495855270636, 24.260502354490693, 13.085192948727872, 12.645424881060432, 23.9632585527033, 10.660586919128253, 26.767810165086214, 10.394299886384175, 18.874572463391804, 22.469883497663858, 26.14455559521246, 47.74631715411569, 25.476461991666145, 12.913435311192302, 16.837642266032915, 38.34928671943605, 7.776120355408891, 13.878876339756255, 22.930602790022878, 17.37312844662166, 12.071020008239714, 13.613610457100636, 23.95422855720032, 32.75524910678604, 22.985829095863753, 17.894268092148483, 19.61687531144158, 10.773866002409358, 20.27711551052351, 29.043872949947353, 13.518119476780562, 17.211569699768457, 15.124450864970925, 12.52759863827702, 37.75999808460529, 21.41078475556291, 16.980527495435073, 22.243212874443227, 24.012282284545627, 17.699470163950526, 50.258281330633, 15.496497267834142, 17.296506493901997, 16.179474050314496, 27.434715591652576, 11.26099503559486, 42.076509002758726, 25.02503780877808, 14.827556549920244, 25.46415574486682, 24.172190389023395, 19.454810748225317, 16.47473677511224, 27.081724729138497, 17.090880711943957, 11.930426874430747, 29.984531880246056, 17.99733312547037, 18.959413093231984, 8.864191105330464, 67.59723727371396, 22.099693413373007, 16.01224056112545, 25.88722025708414, 18.389827536823645, 11.119653450263442, 34.35003072605249, 7.084113552546601, 18.022465807092736, 16.021936681571873, 14.815546532632629, 23.500074347416998, 27.198397232207817, 18.278287338945027, 10.434827109447099, 17.763129800573907, 24.40490208296079, 40.59592822207642, 18.822863703906044, 21.347056391510872, 36.71779591547054, 14.400552796770949, 12.466283398052408]\n",
      "{'W': array([[-1.0954],\n",
      "       [ 0.7353],\n",
      "       [ 0.1977],\n",
      "       [ 0.7475],\n",
      "       [-2.2849],\n",
      "       [ 2.2006],\n",
      "       [ 0.7195],\n",
      "       [-2.6384],\n",
      "       [ 2.5358],\n",
      "       [-1.6892],\n",
      "       [-2.3162],\n",
      "       [ 0.8435],\n",
      "       [-4.2553]]), 'B': array([[22.6312]])}\n"
     ]
    }
   ],
   "source": [
    "print(losses)\n",
    "print(weights)"
   ]
  },
  {
   "cell_type": "code",
   "execution_count": 36,
   "id": "dd64dd48",
   "metadata": {},
   "outputs": [
    {
     "data": {
      "image/png": "[encoded data removed]",
      "text/plain": [
       "<Figure size 640x480 with 1 Axes>"
      ]
     },
     "metadata": {},
     "output_type": "display_data"
    }
   ],
   "source": [
    "plt.plot(list(range(1000)), losses);"
   ]
  },
  {
   "cell_type": "code",
   "execution_count": 37,
   "id": "714f5a57",
   "metadata": {},
   "outputs": [],
   "source": [
    "def predict(X: ndarray,\n",
    "            weights: Dict[str, ndarray]):\n",
    "    '''\n",
    "    Generate predictions from the step-by-step linear regression model.\n",
    "    '''\n",
    "\n",
    "    N = np.dot(X, weights['W'])\n",
    "\n",
    "    return N + weights['B']"
   ]
  },
  {
   "cell_type": "code",
   "execution_count": 38,
   "id": "dcbc4348",
   "metadata": {},
   "outputs": [
    {
     "name": "stdout",
     "output_type": "stream",
     "text": [
      "[[40.2285]\n",
      " [16.4463]\n",
      " [19.3543]\n",
      " [ 3.5561]\n",
      " [23.0129]\n",
      " [22.3484]\n",
      " [17.8528]\n",
      " [23.6998]\n",
      " [31.2933]\n",
      " [ 9.1881]\n",
      " [32.0564]\n",
      " [18.0017]\n",
      " [16.5933]\n",
      " [35.7988]\n",
      " [17.7025]\n",
      " [24.8589]\n",
      " [18.0305]\n",
      " [25.6384]\n",
      " [26.3057]\n",
      " [25.9037]\n",
      " [20.9995]\n",
      " [22.4412]\n",
      " [14.0065]\n",
      " [24.6732]\n",
      " [14.2375]\n",
      " [27.5483]\n",
      " [28.7794]\n",
      " [35.5963]\n",
      " [35.134 ]\n",
      " [19.8916]\n",
      " [ 6.167 ]\n",
      " [12.2666]\n",
      " [27.678 ]\n",
      " [21.2345]\n",
      " [21.5658]\n",
      " [38.8862]\n",
      " [35.6234]\n",
      " [24.6532]\n",
      " [27.1588]\n",
      " [27.9875]\n",
      " [36.3678]\n",
      " [23.8228]\n",
      " [34.0464]\n",
      " [17.8928]\n",
      " [29.0607]\n",
      " [30.3443]\n",
      " [21.2569]\n",
      " [20.0732]\n",
      " [ 4.4747]\n",
      " [24.1219]\n",
      " [20.3573]\n",
      " [13.1153]\n",
      " [22.4287]\n",
      " [25.0032]\n",
      " [26.2295]\n",
      " [35.8464]\n",
      " [24.5912]\n",
      " [23.9336]\n",
      " [20.6771]\n",
      " [20.606 ]\n",
      " [23.1842]\n",
      " [32.7236]\n",
      " [14.8035]\n",
      " [32.6612]\n",
      " [20.6016]\n",
      " [32.1324]\n",
      " [30.3151]\n",
      " [16.5846]\n",
      " [14.6277]\n",
      " [14.9736]\n",
      " [14.776 ]\n",
      " [18.6466]\n",
      " [13.83  ]\n",
      " [13.1165]\n",
      " [16.8359]\n",
      " [20.3903]\n",
      " [ 8.8601]\n",
      " [18.7798]\n",
      " [23.4136]\n",
      " [20.975 ]\n",
      " [19.6177]\n",
      " [24.4646]\n",
      " [24.2229]\n",
      " [20.2302]\n",
      " [23.8609]\n",
      " [-5.1171]\n",
      " [26.9102]\n",
      " [16.4634]\n",
      " [21.0898]\n",
      " [ 6.3933]\n",
      " [22.2515]\n",
      " [24.378 ]\n",
      " [15.8738]\n",
      " [32.1378]\n",
      " [28.8643]\n",
      " [27.7362]\n",
      " [23.779 ]\n",
      " [34.4247]\n",
      " [18.766 ]\n",
      " [42.3709]\n",
      " [18.9684]\n",
      " [16.2725]\n",
      " [21.4184]\n",
      " [18.5868]\n",
      " [19.4641]\n",
      " [20.5994]\n",
      " [24.9302]\n",
      " [24.6791]\n",
      " [18.7625]\n",
      " [19.9871]\n",
      " [19.3807]\n",
      " [29.7465]\n",
      " [18.1462]\n",
      " [23.1818]\n",
      " [21.404 ]\n",
      " [18.7421]\n",
      " [21.5598]\n",
      " [21.6498]\n",
      " [14.4084]\n",
      " [21.5219]\n",
      " [18.5071]\n",
      " [20.3915]\n",
      " [14.1627]\n",
      " [19.5058]\n",
      " [16.2248]\n",
      " [30.8898]\n",
      " [22.2318]\n",
      " [29.8959]\n",
      " [21.8777]\n",
      " [19.9918]\n",
      " [29.9864]\n",
      " [27.6605]\n",
      " [13.419 ]\n",
      " [34.2506]\n",
      " [11.2311]\n",
      " [12.9905]\n",
      " [40.432 ]\n",
      " [14.059 ]\n",
      " [20.2681]\n",
      " [27.3391]\n",
      " [23.0219]\n",
      " [16.2869]\n",
      " [20.2292]\n",
      " [12.5732]\n",
      " [25.801 ]\n",
      " [40.4357]\n",
      " [18.56  ]\n",
      " [25.56  ]\n",
      " [ 8.8961]\n",
      " [24.0255]\n",
      " [27.1288]\n",
      " [41.2987]]\n"
     ]
    }
   ],
   "source": [
    "preds = predict(X_test, weights)\n",
    "print(preds)"
   ]
  },
  {
   "cell_type": "code",
   "execution_count": 39,
   "id": "2f2ed547",
   "metadata": {},
   "outputs": [
    {
     "name": "stdout",
     "output_type": "stream",
     "text": [
      "Mean absolute error: 3.5644 \n",
      "Root mean squared error: 5.0497\n"
     ]
    }
   ],
   "source": [
    "print(\"Mean absolute error:\", round(mae(preds, y_test), 4), \"\\n\"\n",
    "      \"Root mean squared error:\", round(rmse(preds, y_test), 4))"
   ]
  },
  {
   "cell_type": "code",
   "execution_count": 40,
   "id": "48994bd6",
   "metadata": {},
   "outputs": [
    {
     "data": {
      "text/plain": [
       "22.0776"
      ]
     },
     "execution_count": 40,
     "metadata": {},
     "output_type": "execute_result"
    }
   ],
   "source": [
    "np.round(y_test.mean(), 4)"
   ]
  },
  {
   "cell_type": "code",
   "execution_count": 41,
   "id": "a753484e",
   "metadata": {},
   "outputs": [
    {
     "data": {
      "text/plain": [
       "0.2287"
      ]
     },
     "execution_count": 41,
     "metadata": {},
     "output_type": "execute_result"
    }
   ],
   "source": [
    "np.round(rmse(preds, y_test) / y_test.mean(), 4)"
   ]
  },
  {
   "cell_type": "code",
   "execution_count": 42,
   "id": "ae20bb23",
   "metadata": {},
   "outputs": [
    {
     "data": {
      "image/png": "[encoded data removed]",
      "text/plain": [
       "<Figure size 640x480 with 1 Axes>"
      ]
     },
     "metadata": {},
     "output_type": "display_data"
    }
   ],
   "source": [
    "plt.xlabel(\"Predicted value\")\n",
    "plt.ylabel(\"Actual value\")\n",
    "plt.title(\"Predicted vs. Actual values for\\ncustom linear regression model\");\n",
    "plt.xlim([0, 51])\n",
    "plt.ylim([0, 51])\n",
    "plt.scatter(preds, y_test)\n",
    "plt.plot([0, 51], [0, 51]);\n",
    "# plt.savefig(GRAPHS_IMG_FILEPATH + \"01_linear_custom_pred_vs_actual.png\");"
   ]
  },
  {
   "cell_type": "code",
   "execution_count": 43,
   "id": "ae6549fe",
   "metadata": {},
   "outputs": [],
   "source": [
    "NUM = 40\n",
    "a = np.repeat(X_test[:,:-1].mean(axis=0, keepdims=True), NUM, axis=0)\n",
    "b = np.linspace(-1.5, 3.5, NUM).reshape(NUM, 1)\n",
    "\n",
    "test_feature = np.concatenate([a, b], axis=1)\n",
    "test_preds = predict(test_feature, weights)[:, 0]"
   ]
  },
  {
   "cell_type": "code",
   "execution_count": 44,
   "id": "7a4081b8",
   "metadata": {},
   "outputs": [
    {
     "data": {
      "image/png": "[encoded data removed]",
      "text/plain": [
       "<Figure size 640x480 with 1 Axes>"
      ]
     },
     "metadata": {},
     "output_type": "display_data"
    }
   ],
   "source": [
    "plt.scatter(X_test[:, 12], y_test) #boston\n",
    "#plt.scatter(X_test[:, 7], y_test) #california\n",
    "plt.plot(np.array(test_feature[:, -1]), test_preds, linewidth=2, c='orange')\n",
    "plt.ylim([6, 51])\n",
    "plt.xlabel(\"Most important feature (normalized)\")\n",
    "plt.ylabel(\"Target/Predictions\")\n",
    "plt.title(\"Most important feature vs. target and predictions,\\n custom linear regression\");\n",
    "# plt.savefig(GRAPHS_IMG_FILEPATH + \"03_most_important_feature_vs_predictions.png\")"
   ]
  },
  {
   "cell_type": "markdown",
   "id": "58c89c74",
   "metadata": {},
   "source": [
    "## Coefficients"
   ]
  },
  {
   "cell_type": "code",
   "execution_count": 45,
   "id": "8cf3370c",
   "metadata": {},
   "outputs": [
    {
     "data": {
      "text/plain": [
       "array([-1.0954,  0.7353,  0.1977,  0.7475, -2.2849,  2.2006,  0.7195,\n",
       "       -2.6384,  2.5358, -1.6892, -2.3162,  0.8435, -4.2553])"
      ]
     },
     "execution_count": 45,
     "metadata": {},
     "output_type": "execute_result"
    }
   ],
   "source": [
    "np.round(weights['W'].reshape(-1), 4)"
   ]
  },
  {
   "cell_type": "code",
   "execution_count": 46,
   "id": "36a03327",
   "metadata": {},
   "outputs": [
    {
     "data": {
      "text/plain": [
       "array([[-1.0148,  0.7065,  0.276 ,  0.7092, -2.206 ,  2.3793,  0.7133,\n",
       "        -2.6625,  2.6325, -1.8172, -2.3266,  0.8465, -4.1889]])"
      ]
     },
     "execution_count": 46,
     "metadata": {},
     "output_type": "execute_result"
    }
   ],
   "source": [
    "np.round(lr.coef_, 4)"
   ]
  },
  {
   "cell_type": "code",
   "execution_count": 47,
   "id": "3b31293b",
   "metadata": {},
   "outputs": [
    {
     "data": {
      "text/plain": [
       "array([[22.6312]])"
      ]
     },
     "execution_count": 47,
     "metadata": {},
     "output_type": "execute_result"
    }
   ],
   "source": [
    "np.round(weights['B'], 4)"
   ]
  },
  {
   "cell_type": "code",
   "execution_count": 48,
   "id": "5b83f6b5",
   "metadata": {},
   "outputs": [
    {
     "data": {
      "text/plain": [
       "array([22.6195])"
      ]
     },
     "execution_count": 48,
     "metadata": {},
     "output_type": "execute_result"
    }
   ],
   "source": [
    "np.round(lr.intercept_, 4)"
   ]
  },
  {
   "cell_type": "markdown",
   "id": "88757f1e",
   "metadata": {},
   "source": [
    "## Theoretical relationship between most important feature and target"
   ]
  },
  {
   "cell_type": "code",
   "execution_count": 49,
   "id": "1d46347f",
   "metadata": {},
   "outputs": [],
   "source": [
    "NUM = 40\n",
    "a = np.repeat(X_test[:,:-1].mean(axis=0, keepdims=True), NUM, axis=0)\n",
    "b = np.linspace(-1.5, 3.5, NUM).reshape(NUM, 1)"
   ]
  },
  {
   "cell_type": "code",
   "execution_count": 50,
   "id": "dba1c4e8",
   "metadata": {},
   "outputs": [],
   "source": [
    "test_feature = np.concatenate([a, b], axis=1)\n",
    "preds = predict(test_feature, weights)[:, 0]"
   ]
  },
  {
   "cell_type": "code",
   "execution_count": 51,
   "id": "28cde0e0",
   "metadata": {},
   "outputs": [
    {
     "data": {
      "text/plain": [
       "(6.0, 51.0)"
      ]
     },
     "execution_count": 51,
     "metadata": {},
     "output_type": "execute_result"
    },
    {
     "data": {
      "image/png": "[encoded data removed]",
      "text/plain": [
       "<Figure size 640x480 with 1 Axes>"
      ]
     },
     "metadata": {},
     "output_type": "display_data"
    }
   ],
   "source": [
    "plt.scatter(np.array(test_feature[:, -1]), np.array(preds))\n",
    "plt.ylim([6, 51])\n",
    "# plt.savefig(GRAPHS_IMG_FILEPATH + \"/04_relationship_most_impt_feat_preds.png\")"
   ]
  },
  {
   "cell_type": "markdown",
   "id": "b669dee7",
   "metadata": {},
   "source": [
    "## Neural network regression"
   ]
  },
  {
   "cell_type": "code",
   "execution_count": 52,
   "id": "4f4eaadd",
   "metadata": {},
   "outputs": [],
   "source": [
    "def sigmoid(x: ndarray) -> ndarray:\n",
    "    return 1 / (1 + np.exp(-1.0 * x))"
   ]
  },
  {
   "cell_type": "code",
   "execution_count": 53,
   "id": "dcb22bd4",
   "metadata": {},
   "outputs": [
    {
     "data": {
      "image/png": "[encoded data removed]",
      "text/plain": [
       "<Figure size 640x480 with 1 Axes>"
      ]
     },
     "metadata": {},
     "output_type": "display_data"
    }
   ],
   "source": [
    "plt.plot(np.arange(-5, 5, 0.01),\n",
    "         sigmoid(np.arange(-5, 5, 0.01)));\n",
    "plt.title(\"Sigmoid function plotted from x=-5 to x=5\")\n",
    "plt.xlabel(\"X\")\n",
    "plt.ylabel(\"$sigmoid(x)$\");\n",
    "# plt.savefig(GRAPHS_IMG_FILEPATH + \"05_sigmoid_function.png\")"
   ]
  },
  {
   "cell_type": "code",
   "execution_count": 54,
   "id": "6337d67a",
   "metadata": {},
   "outputs": [],
   "source": [
    "def init_weights(input_size: int, \n",
    "                 hidden_size: int) -> Dict[str, ndarray]:\n",
    "    '''\n",
    "    Initialize weights during the forward pass for step-by-step neural network model.\n",
    "    '''\n",
    "    weights: Dict[str, ndarray] = {}\n",
    "    weights['W1'] = np.random.randn(input_size, hidden_size)\n",
    "    weights['B1'] = np.random.randn(1, hidden_size)\n",
    "    weights['W2'] = np.random.randn(hidden_size, 1)\n",
    "    weights['B2'] = np.random.randn(1, 1)\n",
    "    return weights"
   ]
  },
  {
   "cell_type": "code",
   "execution_count": 55,
   "id": "cd243607",
   "metadata": {},
   "outputs": [],
   "source": [
    "def forward_loss(X: ndarray,\n",
    "                 y: ndarray,\n",
    "                 weights: Dict[str, ndarray]\n",
    "                 ) -> Tuple[Dict[str, ndarray], float]:\n",
    "    '''\n",
    "    Compute the forward pass and the loss for the step-by-step \n",
    "    neural network model.     \n",
    "    '''\n",
    "    M1 = np.dot(X, weights['W1'])\n",
    "\n",
    "    N1 = M1 + weights['B1']\n",
    "\n",
    "    O1 = sigmoid(N1)\n",
    "    \n",
    "    M2 = np.dot(O1, weights['W2'])\n",
    "\n",
    "    P = M2 + weights['B2']    \n",
    "\n",
    "    loss = np.mean(np.power(y - P, 2))\n",
    "\n",
    "    forward_info: Dict[str, ndarray] = {}\n",
    "    forward_info['X'] = X\n",
    "    forward_info['M1'] = M1\n",
    "    forward_info['N1'] = N1\n",
    "    forward_info['O1'] = O1\n",
    "    forward_info['M2'] = M2\n",
    "    forward_info['P'] = P\n",
    "    forward_info['y'] = y\n",
    "\n",
    "    return forward_info, loss"
   ]
  },
  {
   "cell_type": "code",
   "execution_count": 56,
   "id": "502273e0",
   "metadata": {},
   "outputs": [],
   "source": [
    "def loss_gradients(forward_info: Dict[str, ndarray], \n",
    "                   weights: Dict[str, ndarray]) -> Dict[str, ndarray]:\n",
    "    '''\n",
    "    Compute the partial derivatives of the loss with respect to each of the parameters in the neural network.\n",
    "    '''    \n",
    "    dLdP = -(forward_info['y'] - forward_info['P'])\n",
    "    \n",
    "    dPdM2 = np.ones_like(forward_info['M2'])\n",
    "\n",
    "    dLdM2 = dLdP * dPdM2\n",
    "  \n",
    "    dPdB2 = np.ones_like(weights['B2'])\n",
    "\n",
    "    dLdB2 = (dLdP * dPdB2).sum(axis=0)\n",
    "    \n",
    "    dM2dW2 = np.transpose(forward_info['O1'], (1, 0))\n",
    "    \n",
    "    dLdW2 = np.dot(dM2dW2, dLdP)\n",
    "\n",
    "    dM2dO1 = np.transpose(weights['W2'], (1, 0)) \n",
    "\n",
    "    dLdO1 = np.dot(dLdM2, dM2dO1)\n",
    "    \n",
    "    dO1dN1 = sigmoid(forward_info['N1']) * (1- sigmoid(forward_info['N1']))\n",
    "    \n",
    "    dLdN1 = dLdO1 * dO1dN1\n",
    "    \n",
    "    dN1dB1 = np.ones_like(weights['B1'])\n",
    "    \n",
    "    dN1dM1 = np.ones_like(forward_info['M1'])\n",
    "    \n",
    "    dLdB1 = (dLdN1 * dN1dB1).sum(axis=0)\n",
    "    \n",
    "    dLdM1 = dLdN1 * dN1dM1\n",
    "    \n",
    "    dM1dW1 = np.transpose(forward_info['X'], (1, 0)) \n",
    "\n",
    "    dLdW1 = np.dot(dM1dW1, dLdM1)\n",
    "\n",
    "    loss_gradients: Dict[str, ndarray] = {}\n",
    "    loss_gradients['W2'] = dLdW2\n",
    "    loss_gradients['B2'] = dLdB2.sum(axis=0)\n",
    "    loss_gradients['W1'] = dLdW1\n",
    "    loss_gradients['B1'] = dLdB1.sum(axis=0)\n",
    "    \n",
    "    return loss_gradients"
   ]
  },
  {
   "cell_type": "code",
   "execution_count": 57,
   "id": "2893b5b9",
   "metadata": {},
   "outputs": [],
   "source": [
    "def predict(X: ndarray, \n",
    "            weights: Dict[str, ndarray]) -> ndarray:\n",
    "    '''\n",
    "    Generate predictions from the step-by-step neural network model. \n",
    "    '''\n",
    "    M1 = np.dot(X, weights['W1'])\n",
    "\n",
    "    N1 = M1 + weights['B1']\n",
    "\n",
    "    O1 = sigmoid(N1)\n",
    "\n",
    "    M2 = np.dot(O1, weights['W2'])\n",
    "\n",
    "    P = M2 + weights['B2']    \n",
    "\n",
    "    return P"
   ]
  },
  {
   "cell_type": "code",
   "execution_count": 58,
   "id": "65084245",
   "metadata": {},
   "outputs": [],
   "source": [
    "from sklearn.metrics import r2_score\n",
    "\n",
    "def train(X_train: ndarray, y_train: ndarray,\n",
    "          X_test: ndarray, y_test: ndarray,\n",
    "          n_iter: int = 1000,\n",
    "          test_every: int = 1000,\n",
    "          learning_rate: float = 0.01,\n",
    "          hidden_size= 13,\n",
    "          batch_size: int = 100,\n",
    "          return_losses: bool = False, \n",
    "          return_weights: bool = False, \n",
    "          return_scores: bool = False,\n",
    "          seed: int = 1) -> None:\n",
    "\n",
    "    if seed:\n",
    "        np.random.seed(seed)\n",
    "\n",
    "    start = 0\n",
    "\n",
    "    # Initialize weights\n",
    "    weights = init_weights(X_train.shape[1], \n",
    "                           hidden_size=hidden_size)\n",
    "\n",
    "    # Permute data\n",
    "    X_train, y_train = permute_data(X_train, y_train)\n",
    "    \n",
    "\n",
    "    losses = []\n",
    "        \n",
    "    val_scores = []\n",
    "\n",
    "    for i in range(n_iter):\n",
    "        #print(\"iteration: \",i)\n",
    "        # Generate batch\n",
    "        if start >= X_train.shape[0]:\n",
    "            X_train, y_train = permute_data(X_train, y_train)\n",
    "            start = 0\n",
    "        \n",
    "        X_batch, y_batch = generate_batch(X_train, y_train, start, batch_size)\n",
    "        start += batch_size\n",
    "    \n",
    "        # Train net using generated batch\n",
    "        forward_info, loss = forward_loss(X_batch, y_batch, weights)\n",
    "\n",
    "        if return_losses:\n",
    "            losses.append(loss)\n",
    "\n",
    "        loss_grads = loss_gradients(forward_info, weights)\n",
    "        for key in weights.keys():\n",
    "            #print(\"loss_grads[\",key,\"]: \", loss_grads[key])\n",
    "            weights[key] -= learning_rate * loss_grads[key]\n",
    "            #print(\"key: \",key,\", weights[key]: \", weights[key])\n",
    "        \n",
    "        if return_scores:\n",
    "            if i % test_every == 0 and i != 0:\n",
    "                preds = predict(X_test, weights)\n",
    "                val_scores.append(r2_score(preds, y_test))\n",
    "                #print(r2_score(preds, y_test))\n",
    "\n",
    "    if return_weights:\n",
    "        return losses, weights, val_scores\n",
    "    \n",
    "    return None"
   ]
  },
  {
   "cell_type": "code",
   "execution_count": 59,
   "id": "a0a24a90",
   "metadata": {},
   "outputs": [
    {
     "name": "stdout",
     "output_type": "stream",
     "text": [
      "[0.8117024578646936, 0.8371459533142944, 0.8567684522572885, 0.8599910685812272, 0.8549472268097182, 0.8494367722505434, 0.8389739613893095, 0.8399879821498821, 0.8380293498690549]\n"
     ]
    }
   ],
   "source": [
    "#if TEST_ALL:\n",
    "num_iter = 10000\n",
    "test_every = 1000\n",
    "train_info = train(X_train, y_train, X_test, y_test,\n",
    "                    n_iter=num_iter,\n",
    "                    test_every = test_every,\n",
    "                    learning_rate = 0.001,\n",
    "                    batch_size=23, \n",
    "                    return_losses=False, \n",
    "                    return_weights=True, \n",
    "                    return_scores=True,\n",
    "                    seed=80718)\n",
    "losses = train_info[0]\n",
    "weights = train_info[1]\n",
    "val_scores = train_info[2]\n",
    "print(val_scores)"
   ]
  },
  {
   "cell_type": "code",
   "execution_count": 60,
   "id": "4fc3c600",
   "metadata": {},
   "outputs": [
    {
     "name": "stdout",
     "output_type": "stream",
     "text": [
      "[0.8117024578646936, 0.8371459533142944, 0.8567684522572885, 0.8599910685812272, 0.8549472268097182, 0.8494367722505434, 0.8389739613893095, 0.8399879821498821, 0.8380293498690549]\n"
     ]
    },
    {
     "data": {
      "text/plain": [
       "Text(0.5, 1.0, 'Validation Scores')"
      ]
     },
     "execution_count": 60,
     "metadata": {},
     "output_type": "execute_result"
    },
    {
     "data": {
      "image/png": "[encoded data removed]",
      "text/plain": [
       "<Figure size 640x480 with 1 Axes>"
      ]
     },
     "metadata": {},
     "output_type": "display_data"
    }
   ],
   "source": [
    "\n",
    "#if TEST_ALL:\n",
    "    #num_iter = 10000\n",
    "    #test_every = 1000\n",
    "import matplotlib.pyplot as plt\n",
    "%matplotlib inline\n",
    "plt.ylim([-1,1])\n",
    "tmp1 = int(num_iter / test_every - 1)\n",
    "print(val_scores)\n",
    "plt.plot(list(range(tmp1)), val_scores); \n",
    "plt.xlabel(\"Batches (000s)\")\n",
    "plt.title(\"Validation Scores\")"
   ]
  },
  {
   "cell_type": "markdown",
   "id": "e3a88e95",
   "metadata": {},
   "source": [
    "## Learning rate tuning"
   ]
  },
  {
   "cell_type": "code",
   "execution_count": 61,
   "id": "3cc44d60",
   "metadata": {},
   "outputs": [],
   "source": [
    "def r2_score_lr(learning_rate):\n",
    "    train_info = train(X_train, y_train, X_test, y_test,\n",
    "                   n_iter=100000,\n",
    "                   test_every = 100000,\n",
    "                   learning_rate = learning_rate,\n",
    "                   batch_size=23, \n",
    "                   return_losses=False, \n",
    "                   return_weights=True, \n",
    "                   return_scores=False,\n",
    "                   seed=80718)\n",
    "    weights = train_info[1]\n",
    "    preds = predict(X_test, weights)\n",
    "    return r2_score(y_test, preds)"
   ]
  },
  {
   "cell_type": "code",
   "execution_count": 62,
   "id": "4fc28c25",
   "metadata": {},
   "outputs": [],
   "source": [
    "lrs = np.geomspace(1e-2, 1e-6, num=20)"
   ]
  },
  {
   "cell_type": "code",
   "execution_count": null,
   "id": "3d032bb9",
   "metadata": {},
   "outputs": [],
   "source": [
    "r2s = [r2_score_lr(lr) for lr in lrs]"
   ]
  },
  {
   "cell_type": "code",
   "execution_count": null,
   "id": "737653e0",
   "metadata": {},
   "outputs": [],
   "source": [
    "plt.semilogx(lrs, r2s)"
   ]
  },
  {
   "cell_type": "markdown",
   "id": "e14da60a",
   "metadata": {},
   "source": [
    "# Evaluating best model"
   ]
  },
  {
   "cell_type": "code",
   "execution_count": null,
   "id": "5db71e61",
   "metadata": {},
   "outputs": [],
   "source": [
    "train_info = train(X_train, y_train, X_test, y_test,\n",
    "                   n_iter=10000,\n",
    "                   test_every = 1000,\n",
    "                   learning_rate = 0.001,\n",
    "                   batch_size=23, \n",
    "                   return_losses=True, \n",
    "                   return_weights=True, \n",
    "                   return_scores=False,\n",
    "                   seed=180807)\n",
    "losses = train_info[0]\n",
    "weights = train_info[1]"
   ]
  },
  {
   "cell_type": "code",
   "execution_count": null,
   "id": "b3f3931f",
   "metadata": {},
   "outputs": [],
   "source": [
    "plt.plot(list(range(10000)), losses);"
   ]
  },
  {
   "cell_type": "code",
   "execution_count": null,
   "id": "f785d349",
   "metadata": {},
   "outputs": [],
   "source": [
    "preds = predict(X_test, weights)"
   ]
  },
  {
   "cell_type": "markdown",
   "id": "199d61fd",
   "metadata": {},
   "source": [
    "# Investigation of most important features"
   ]
  },
  {
   "cell_type": "code",
   "execution_count": null,
   "id": "6cc2221f",
   "metadata": {},
   "outputs": [],
   "source": [
    "weights['W2']"
   ]
  },
  {
   "cell_type": "code",
   "execution_count": null,
   "id": "4f72f54b",
   "metadata": {},
   "outputs": [],
   "source": [
    "weights['W1'][7]"
   ]
  },
  {
   "cell_type": "code",
   "execution_count": null,
   "id": "18bb07fb",
   "metadata": {},
   "outputs": [],
   "source": [
    "weights['W1'][9]"
   ]
  },
  {
   "cell_type": "code",
   "execution_count": null,
   "id": "2be9ff57",
   "metadata": {},
   "outputs": [],
   "source": [
    "print(\"Mean absolute error:\", round(mae(preds, y_test), 4), \"\\n\"\n",
    "      \"Root mean squared error:\", round(rmse(preds, y_test), 4))"
   ]
  },
  {
   "cell_type": "code",
   "execution_count": null,
   "id": "233b9d9a",
   "metadata": {},
   "outputs": [],
   "source": [
    "plt.xlabel(\"Predicted value\")\n",
    "plt.ylabel(\"Target\")\n",
    "plt.title(\"Predicted value vs. target,\\n neural network regression\")\n",
    "plt.xlim([0, 51])\n",
    "plt.ylim([0, 51])\n",
    "plt.scatter(preds, y_test)\n",
    "plt.plot([0, 51], [0, 51]);\n",
    "# plt.savefig(GRAPHS_IMG_FILEPATH + \"07_neural_network_regression_preds_vs_target.png\");"
   ]
  },
  {
   "cell_type": "code",
   "execution_count": null,
   "id": "95340347",
   "metadata": {},
   "outputs": [],
   "source": [
    "np.round(np.mean(np.array(np.abs(preds - y_test))), 4)"
   ]
  },
  {
   "cell_type": "code",
   "execution_count": null,
   "id": "47a41664",
   "metadata": {},
   "outputs": [],
   "source": [
    "np.round(np.mean(np.array(np.power(preds - y_test, 2))), 4)"
   ]
  },
  {
   "cell_type": "markdown",
   "id": "4521d5dd",
   "metadata": {},
   "source": [
    "## Theoretical relationship between most important feature and target"
   ]
  },
  {
   "cell_type": "code",
   "execution_count": null,
   "id": "12ce1458",
   "metadata": {},
   "outputs": [],
   "source": [
    "NUM = 40\n",
    "a = np.repeat(X_test[:,:-1].mean(axis=0, keepdims=True), NUM, axis=0)\n",
    "b = np.linspace(-1.5, 3.5, NUM).reshape(NUM, 1)\n",
    "test_feature = np.concatenate([a, b], axis=1)\n",
    "preds_test = predict(test_feature, weights)[:, 0]"
   ]
  },
  {
   "cell_type": "code",
   "execution_count": null,
   "id": "6a55c287",
   "metadata": {},
   "outputs": [],
   "source": [
    "plt.scatter(X_test[:, 12], preds)\n",
    "plt.plot(np.array(test_feature[:, -1]), preds_test, linewidth=2, c='orange')\n",
    "plt.ylim([6, 51])\n",
    "plt.xlabel(\"Most important feature (normalized)\")\n",
    "plt.ylabel(\"Target/Predictions\")\n",
    "plt.title(\"Most important feature vs. target and predictions,\\n neural network regression\");\n",
    "# plt.savefig(GRAPHS_IMG_FILEPATH + \"08_neural_network_regression_impt_feat_vs_preds.png\")"
   ]
  },
  {
   "cell_type": "code",
   "execution_count": null,
   "id": "ffa640f8",
   "metadata": {},
   "outputs": [],
   "source": []
  }
 ],
 "metadata": {
  "kernelspec": {
   "display_name": "Python 3 (ipykernel)",
   "language": "python",
   "name": "python3"
  },
  "language_info": {
   "codemirror_mode": {
    "name": "ipython",
    "version": 3
   },
   "file_extension": ".py",
   "mimetype": "text/x-python",
   "name": "python",
   "nbconvert_exporter": "python",
   "pygments_lexer": "ipython3",
   "version": "3.11.3"
  }
 },
 "nbformat": 4,
 "nbformat_minor": 5
}
