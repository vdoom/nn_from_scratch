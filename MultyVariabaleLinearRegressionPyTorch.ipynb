{
  "nbformat": 4,
  "nbformat_minor": 0,
  "metadata": {
    "colab": {
      "provenance": []
    },
    "kernelspec": {
      "name": "python3",
      "display_name": "Python 3"
    },
    "language_info": {
      "name": "python"
    }
  },
  "cells": [
    {
      "cell_type": "code",
      "execution_count": 1,
      "metadata": {
        "id": "SXID0Y-fPHct"
      },
      "outputs": [],
      "source": [
        "# For tips on running notebooks in Google Colab, see\n",
        "# https://pytorch.org/tutorials/beginner/colab\n",
        "%matplotlib inline"
      ]
    },
    {
      "cell_type": "code",
      "source": [
        "import os\n",
        "import torch\n",
        "from torch import nn\n",
        "from torch.utils.data import DataLoader\n",
        "#from torchvision import datasets, transforms\n",
        "\n",
        "from typing import Tuple, List\n",
        "from collections import deque\n",
        "\n",
        "import torch.optim as optim\n",
        "from torch.optim import lr_scheduler\n",
        "from torch.optim import Optimizer\n",
        "\n",
        "import numpy as np\n",
        "from torch import Tensor\n",
        "\n",
        "import torch.nn as nn\n",
        "import torch.nn.functional as F\n",
        "from torch.nn.modules.loss import _Loss"
      ],
      "metadata": {
        "id": "god8fCASrgTU"
      },
      "execution_count": 2,
      "outputs": []
    },
    {
      "cell_type": "code",
      "source": [
        "device = (\n",
        "    \"cuda\"\n",
        "    if torch.cuda.is_available()\n",
        "    else \"mps\"\n",
        "    if torch.backends.mps.is_available()\n",
        "    else \"cpu\"\n",
        ")\n",
        "print(f\"Using {device} device\")\n",
        "torch.set_default_device(device)"
      ],
      "metadata": {
        "colab": {
          "base_uri": "https://localhost:8080/"
        },
        "id": "hR2l7tesriB8",
        "outputId": "4fde8102-92b6-4fa8-fc2c-d57604cf9ebb"
      },
      "execution_count": 3,
      "outputs": [
        {
          "output_type": "stream",
          "name": "stdout",
          "text": [
            "Using cpu device\n"
          ]
        }
      ]
    },
    {
      "cell_type": "code",
      "source": [
        "torch.manual_seed(20190325);"
      ],
      "metadata": {
        "id": "WQpVqK4_ro4j"
      },
      "execution_count": 4,
      "outputs": []
    },
    {
      "cell_type": "code",
      "source": [
        "import pandas as pd\n",
        "import numpy as np\n",
        "\n",
        "data_url = \"http://lib.stat.cmu.edu/datasets/boston\"\n",
        "raw_df = pd.read_csv(data_url, sep=\"\\s+\", skiprows=22, header=None)\n",
        "data = np.hstack([raw_df.values[::2, :], raw_df.values[1::2, :1]])\n"
      ],
      "metadata": {
        "id": "kVte_5KurriE"
      },
      "execution_count": 100,
      "outputs": []
    },
    {
      "cell_type": "code",
      "source": [
        "print(raw_df.values[1::2, 1:3])"
      ],
      "metadata": {
        "colab": {
          "base_uri": "https://localhost:8080/"
        },
        "id": "fPg_cLLotMsM",
        "outputId": "1161ee7e-96d7-4a94-8fed-48fb60c529fc"
      },
      "execution_count": 118,
      "outputs": [
        {
          "output_type": "stream",
          "name": "stdout",
          "text": [
            "[[ 4.98 24.  ]\n",
            " [ 9.14 21.6 ]\n",
            " [ 4.03 34.7 ]\n",
            " ...\n",
            " [ 5.64 23.9 ]\n",
            " [ 6.48 22.  ]\n",
            " [ 7.88 11.9 ]]\n"
          ]
        }
      ]
    },
    {
      "cell_type": "code",
      "source": [
        "print(data[0])"
      ],
      "metadata": {
        "colab": {
          "base_uri": "https://localhost:8080/"
        },
        "id": "OqAL7bfrrv5F",
        "outputId": "b0c1bb01-dddf-4a4f-aefa-a0d28808bcf0"
      },
      "execution_count": 102,
      "outputs": [
        {
          "output_type": "stream",
          "name": "stdout",
          "text": [
            "[6.320e-03 1.800e+01 2.310e+00 0.000e+00 5.380e-01 6.575e+00 6.520e+01\n",
            " 4.090e+00 1.000e+00 2.960e+02 1.530e+01 3.969e+02]\n"
          ]
        }
      ]
    },
    {
      "cell_type": "code",
      "source": [
        "target = raw_df.values[1::2, 1:3]\n",
        "print(target)"
      ],
      "metadata": {
        "colab": {
          "base_uri": "https://localhost:8080/"
        },
        "id": "f5qGsFxLryzk",
        "outputId": "2e8918b3-41f7-4266-aac2-9aea548e9711"
      },
      "execution_count": 119,
      "outputs": [
        {
          "output_type": "stream",
          "name": "stdout",
          "text": [
            "[[ 4.98 24.  ]\n",
            " [ 9.14 21.6 ]\n",
            " [ 4.03 34.7 ]\n",
            " ...\n",
            " [ 5.64 23.9 ]\n",
            " [ 6.48 22.  ]\n",
            " [ 7.88 11.9 ]]\n"
          ]
        }
      ]
    },
    {
      "cell_type": "code",
      "source": [
        "from sklearn.preprocessing import StandardScaler\n",
        "s = StandardScaler()\n",
        "data = s.fit_transform(data)\n",
        "\n",
        "from sklearn.model_selection import train_test_split\n",
        "X_train, X_test, y_train, y_test = train_test_split(data, target, test_size=0.3, random_state=80718)\n",
        "\n",
        "#y_train, y_test = y_train.reshape(-1, 1), y_test.reshape(-1, 1)\n",
        "y_train, y_test = Tensor(y_train), Tensor(y_test)\n",
        "\n",
        "X_train, X_test, y_train, y_test = Tensor(X_train), Tensor(X_test), Tensor(y_train), Tensor(y_test)\n",
        "X_train = X_train.to(device)\n",
        "X_test = X_test.to(device)\n",
        "y_train = y_train.to(device)\n",
        "y_test = y_test.to(device)"
      ],
      "metadata": {
        "id": "tfBGMRKqr3cT"
      },
      "execution_count": 125,
      "outputs": []
    },
    {
      "cell_type": "code",
      "source": [
        "print(y_train)"
      ],
      "metadata": {
        "id": "cVm2LDfwr5SF"
      },
      "execution_count": null,
      "outputs": []
    },
    {
      "cell_type": "code",
      "source": [
        "class HousePricesModel(nn.Module):\n",
        "  def __init__(self, hidden_size: int = 12):\n",
        "    super().__init__()\n",
        "    self.fc1 = nn.Linear(12, 24)\n",
        "    self.fc2 = nn.Linear(24, 24)\n",
        "    self.fc3 = nn.Linear(24, 12)\n",
        "    self.fc4 = nn.Linear(12, 2)\n",
        "\n",
        "  def forward(self, x: Tensor) -> Tensor:\n",
        "    #assert_dim(x, 2)\n",
        "    assert x.shape[1] == 12\n",
        "    x = self.fc1(x)\n",
        "    x = torch.sigmoid(x)\n",
        "    x = self.fc2(x)\n",
        "    x = torch.sigmoid(x)\n",
        "    x = self.fc3(x)\n",
        "    x = torch.sigmoid(x)\n",
        "\n",
        "    return self.fc4(x)"
      ],
      "metadata": {
        "id": "sdT6GUVhyPqt"
      },
      "execution_count": 204,
      "outputs": []
    },
    {
      "cell_type": "code",
      "source": [
        "model = HousePricesModel().to(device)\n",
        "print(model)"
      ],
      "metadata": {
        "colab": {
          "base_uri": "https://localhost:8080/"
        },
        "id": "zFuweMWwyuzd",
        "outputId": "b215d9e0-8538-448c-9e83-53fb603a73b9"
      },
      "execution_count": 205,
      "outputs": [
        {
          "output_type": "stream",
          "name": "stdout",
          "text": [
            "HousePricesModel(\n",
            "  (fc1): Linear(in_features=12, out_features=24, bias=True)\n",
            "  (fc2): Linear(in_features=24, out_features=24, bias=True)\n",
            "  (fc3): Linear(in_features=24, out_features=12, bias=True)\n",
            "  (fc4): Linear(in_features=12, out_features=2, bias=True)\n",
            ")\n"
          ]
        }
      ]
    },
    {
      "cell_type": "markdown",
      "source": [
        "Testing if NN gives two numbers in prediction"
      ],
      "metadata": {
        "id": "C6uEcoWD0tnc"
      }
    },
    {
      "cell_type": "code",
      "source": [
        "print(X_test[0])\n",
        "print(X_test[0].unsqueeze(0))\n",
        "print(X_test[0].unsqueeze(0).shape)\n",
        "net = HousePricesModel()\n",
        "res = net(X_test[0].unsqueeze(0))\n",
        "print(res)"
      ],
      "metadata": {
        "colab": {
          "base_uri": "https://localhost:8080/"
        },
        "id": "6iK80Iv2yxDF",
        "outputId": "7305ceca-0e08-438d-8a81-3f68fa888dce"
      },
      "execution_count": 182,
      "outputs": [
        {
          "output_type": "stream",
          "name": "stdout",
          "text": [
            "tensor([-0.4164,  3.5896, -1.2339, -0.2726, -1.1972,  2.2344, -1.2580,  0.6289,\n",
            "        -0.6380, -1.0942, -1.7364,  0.3959])\n",
            "tensor([[-0.4164,  3.5896, -1.2339, -0.2726, -1.1972,  2.2344, -1.2580,  0.6289,\n",
            "         -0.6380, -1.0942, -1.7364,  0.3959]])\n",
            "torch.Size([1, 12])\n",
            "tensor([[-0.3640, -0.3124]], grad_fn=<AddmmBackward0>)\n"
          ]
        }
      ]
    },
    {
      "cell_type": "code",
      "source": [
        "optimizer = optim.SGD(model.parameters(), lr=0.001, momentum=0.9)\n"
      ],
      "metadata": {
        "id": "9hl-Mwsby418"
      },
      "execution_count": 183,
      "outputs": []
    },
    {
      "cell_type": "code",
      "source": [
        "criterion = nn.MSELoss()"
      ],
      "metadata": {
        "id": "8PJhFbgF1Kys"
      },
      "execution_count": 184,
      "outputs": []
    },
    {
      "cell_type": "code",
      "source": [
        "print(X_train[0])\n",
        "print(y_train[0])"
      ],
      "metadata": {
        "colab": {
          "base_uri": "https://localhost:8080/"
        },
        "id": "161jjNDy1LOc",
        "outputId": "31570afb-3437-44f3-ff6e-2786fe021a48"
      },
      "execution_count": 185,
      "outputs": [
        {
          "output_type": "stream",
          "name": "stdout",
          "text": [
            "tensor([-0.4125, -0.4877, -1.3069, -0.2726, -0.8353,  1.2286, -0.5112,  1.0777,\n",
            "        -0.7529, -1.1061,  0.1130,  0.4411])\n",
            "tensor([ 5.3300, 36.2000])\n"
          ]
        }
      ]
    },
    {
      "cell_type": "markdown",
      "source": [
        "Trainer code. Might be will need modifications for different output"
      ],
      "metadata": {
        "id": "QGetSB1v1YfD"
      }
    },
    {
      "cell_type": "code",
      "source": [
        "class PyTorchTrainer(object):\n",
        "\n",
        "  def __init__(self, model: nn.Module, optim: Optimizer, criterion: _Loss):\n",
        "    self.model = model\n",
        "    self.optim = optim\n",
        "    self.loss = criterion\n",
        "    self._check_optim_net_aligned()\n",
        "\n",
        "  def _check_optim_net_aligned(self):\n",
        "    assert self.optim.param_groups[0]['params'] == list(self.model.parameters())\n",
        "\n",
        "  def _generate_batches(self, X: Tensor, y: Tensor, size: int = 32) -> Tuple[Tensor]:\n",
        "    N = X.shape[0]\n",
        "    for ii in range(0, N, size):\n",
        "      X_batch, y_batch = X[ii:ii+size], y[ii:ii+size]\n",
        "      yield X_batch, y_batch\n",
        "\n",
        "  def fit(self, X_train: Tensor, y_train: Tensor, X_test: Tensor, y_test: Tensor,epochs: int=100,eval_every: int=10, batch_size: int=32):\n",
        "    for e in range(epochs):\n",
        "      #X_train, y_train = permute_data(X_train, y_train)\n",
        "      batch_generator = self._generate_batches(X_train, y_train, batch_size)\n",
        "\n",
        "      for ii, (X_batch, y_batch) in enumerate(batch_generator):\n",
        "        #print(X_batch.device)\n",
        "        self.optim.zero_grad()\n",
        "        output = self.model(X_batch)\n",
        "        loss = self.loss(output, y_batch)\n",
        "        loss.backward()\n",
        "        self.optim.step()\n",
        "      output = self.model(X_test)\n",
        "      loss = self.loss(output, y_test)\n",
        "      print(e, loss)"
      ],
      "metadata": {
        "id": "7OsL1jUv1N5b"
      },
      "execution_count": 186,
      "outputs": []
    },
    {
      "cell_type": "code",
      "source": [
        "net = HousePricesModel()\n",
        "optimizer = optim.SGD(net.parameters(), lr=0.0002)#, momentum=0.7)\n",
        "criterion = nn.MSELoss()\n",
        "\n",
        "trainer = PyTorchTrainer(net, optimizer, criterion)\n",
        "#print(y_test.device)\n",
        "trainer.fit(X_train, y_train, X_test, y_test, epochs=30000, eval_every=200)"
      ],
      "metadata": {
        "id": "z__Q-Fgv1k29"
      },
      "execution_count": null,
      "outputs": []
    },
    {
      "cell_type": "code",
      "source": [
        "print(X_train[2])\n",
        "print(y_train[2])"
      ],
      "metadata": {
        "colab": {
          "base_uri": "https://localhost:8080/"
        },
        "id": "GQursF4r1qoX",
        "outputId": "e6880f5c-898a-4882-f06b-b7ba0c4287d3"
      },
      "execution_count": 199,
      "outputs": [
        {
          "output_type": "stream",
          "name": "stdout",
          "text": [
            "tensor([ 9.9339, -0.4877,  1.0160, -0.2726,  1.0047,  0.9736,  0.8295, -1.1307,\n",
            "         1.6612,  1.5309,  0.8066,  0.4411])\n",
            "tensor([17.2100, 10.4000])\n"
          ]
        }
      ]
    },
    {
      "cell_type": "code",
      "source": [
        "res = net(X_test[2].unsqueeze(0))\n",
        "print(res)"
      ],
      "metadata": {
        "colab": {
          "base_uri": "https://localhost:8080/"
        },
        "id": "-BjX7hUW11-E",
        "outputId": "b204c53b-d06b-4c3c-d552-e19120b0d918"
      },
      "execution_count": 200,
      "outputs": [
        {
          "output_type": "stream",
          "name": "stdout",
          "text": [
            "tensor([[15.1058, 17.4038]], grad_fn=<AddmmBackward0>)\n"
          ]
        }
      ]
    },
    {
      "cell_type": "code",
      "source": [],
      "metadata": {
        "id": "-cMcOVI617Rc"
      },
      "execution_count": null,
      "outputs": []
    }
  ]
}