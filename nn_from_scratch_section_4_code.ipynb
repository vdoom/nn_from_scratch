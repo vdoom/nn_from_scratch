{
 "cells": [
  {
   "cell_type": "markdown",
   "id": "e8b8b612-d6e5-4b99-a103-2bdd8bf33c14",
   "metadata": {},
   "source": [
    "\n",
    "\n",
    "This notebook contains experiments for:\n",
    "\n",
    "    Loss functions\n",
    "    Learning rate decay\n",
    "    Weight initialization\n",
    "    Optimizers\n",
    "    Dropout\n",
    "\n"
   ]
  },
  {
   "cell_type": "markdown",
   "id": "dd77c6c0-bb57-4557-b314-ac549561a507",
   "metadata": {},
   "source": [
    "# lincoln imports"
   ]
  },
  {
   "cell_type": "code",
   "execution_count": 1,
   "id": "0e29e667-aed7-4bae-ab77-af04e0036b60",
   "metadata": {},
   "outputs": [],
   "source": [
    "import numpy as np"
   ]
  },
  {
   "cell_type": "code",
   "execution_count": 2,
   "id": "cb524bb4-1fbe-4514-8859-458cec18881d",
   "metadata": {},
   "outputs": [],
   "source": [
    "%load_ext autoreload\n",
    "%autoreload 2"
   ]
  },
  {
   "cell_type": "code",
   "execution_count": 6,
   "id": "c3b76f42-9c81-43f9-85b1-0272c2f98557",
   "metadata": {},
   "outputs": [],
   "source": [
    "import lincoln\n",
    "from lincoln.layers import Dense\n",
    "from lincoln.losses import SoftmaxCrossEntropy, MeanSquaredError\n",
    "from lincoln.optimizers import Optimizer, SGD, SGDMomentum\n",
    "from lincoln.activations import Sigmoid, Tanh, Linear, ReLU\n",
    "from lincoln.network import NeuralNetwork\n",
    "from lincoln.train import Trainer\n",
    "from lincoln.utils import mnist\n",
    "from lincoln.utils.np_utils import softmax"
   ]
  },
  {
   "cell_type": "code",
   "execution_count": 9,
   "id": "0c08a824-fcdd-452f-8f60-5c7cbf70e60b",
   "metadata": {},
   "outputs": [
    {
     "name": "stdout",
     "output_type": "stream",
     "text": [
      "Downloading train-images-idx3-ubyte.gz...\n",
      "Downloading t10k-images-idx3-ubyte.gz...\n",
      "Downloading train-labels-idx1-ubyte.gz...\n",
      "Downloading t10k-labels-idx1-ubyte.gz...\n",
      "Download complete.\n"
     ]
    }
   ],
   "source": [
    "mnist.download_mnist()"
   ]
  },
  {
   "cell_type": "code",
   "execution_count": 10,
   "id": "6985a77f-4974-4dea-9807-85c2ccfab3a9",
   "metadata": {},
   "outputs": [
    {
     "name": "stdout",
     "output_type": "stream",
     "text": [
      "Save complete.\n"
     ]
    }
   ],
   "source": [
    "mnist.save_mnist()"
   ]
  },
  {
   "cell_type": "code",
   "execution_count": 11,
   "id": "c79d988a-ea68-4835-8cc3-632d9034b8cc",
   "metadata": {},
   "outputs": [],
   "source": [
    "X_train, y_train, X_test, y_test = mnist.load()"
   ]
  },
  {
   "cell_type": "code",
   "execution_count": 12,
   "id": "14c19a4f-8f3b-4487-b0f7-c0e65d505bd1",
   "metadata": {},
   "outputs": [
    {
     "data": {
      "text/plain": [
       "60000"
      ]
     },
     "execution_count": 12,
     "metadata": {},
     "output_type": "execute_result"
    }
   ],
   "source": [
    "num_labels = len(y_train)\n",
    "num_labels"
   ]
  },
  {
   "cell_type": "code",
   "execution_count": 13,
   "id": "cf441699-42b0-4e44-a49c-c01e3e08c93d",
   "metadata": {},
   "outputs": [],
   "source": [
    "# one-hot encode\n",
    "num_labels = len(y_train)\n",
    "train_labels = np.zeros((num_labels, 10))\n",
    "for i in range(num_labels):\n",
    "    train_labels[i][y_train[i]] = 1\n",
    "\n",
    "num_labels = len(y_test)\n",
    "test_labels = np.zeros((num_labels, 10))\n",
    "for i in range(num_labels):\n",
    "    test_labels[i][y_test[i]] = 1"
   ]
  },
  {
   "cell_type": "markdown",
   "id": "35a4561d-17de-4094-8b69-076783158132",
   "metadata": {},
   "source": [
    "# MNIST Demos"
   ]
  },
  {
   "cell_type": "markdown",
   "id": "ab06747a-7696-449f-8ac4-82ad2f39b21d",
   "metadata": {},
   "source": [
    "## Scale data to mean 0, variance 1"
   ]
  },
  {
   "cell_type": "code",
   "execution_count": 14,
   "id": "771cf21b-3af4-46f9-9b84-9bec838d3662",
   "metadata": {},
   "outputs": [],
   "source": [
    "X_train, X_test = X_train - np.mean(X_train), X_test - np.mean(X_train)"
   ]
  },
  {
   "cell_type": "code",
   "execution_count": 15,
   "id": "fa074704-5dfe-4a50-86de-2d895b8e9764",
   "metadata": {},
   "outputs": [
    {
     "data": {
      "text/plain": [
       "(-33.318421449829934,\n",
       " 221.68157855017006,\n",
       " -33.318421449829934,\n",
       " 221.68157855017006)"
      ]
     },
     "execution_count": 15,
     "metadata": {},
     "output_type": "execute_result"
    }
   ],
   "source": [
    "np.min(X_train), np.max(X_train), np.min(X_test), np.max(X_test)"
   ]
  },
  {
   "cell_type": "code",
   "execution_count": 16,
   "id": "030b16fb-7c99-4274-9161-870042b964ff",
   "metadata": {},
   "outputs": [],
   "source": [
    "X_train, X_test = X_train / np.std(X_train), X_test / np.std(X_train)"
   ]
  },
  {
   "cell_type": "code",
   "execution_count": 17,
   "id": "d992df44-a492-4f7f-934a-76a0bf8cd2bd",
   "metadata": {},
   "outputs": [
    {
     "data": {
      "text/plain": [
       "(-0.424073894391566, 2.821543345689335, -0.424073894391566, 2.821543345689335)"
      ]
     },
     "execution_count": 17,
     "metadata": {},
     "output_type": "execute_result"
    }
   ],
   "source": [
    "np.min(X_train), np.max(X_train), np.min(X_test), np.max(X_test)"
   ]
  },
  {
   "cell_type": "code",
   "execution_count": 18,
   "id": "d94ed60b-f60b-400d-8280-5abb167c8195",
   "metadata": {},
   "outputs": [],
   "source": [
    "def calc_accuracy_model(model, test_set):\n",
    "    return print(f'''The model validation accuracy is: {np.equal(np.argmax(model.forward(test_set, inference=True), axis=1), y_test).sum() * 100.0 / test_set.shape[0]:.2f}%''')\n"
   ]
  },
  {
   "cell_type": "markdown",
   "id": "ad343b00-be45-445e-bec1-91fff4ad2028",
   "metadata": {},
   "source": [
    "# Softmax cross entropy"
   ]
  },
  {
   "cell_type": "markdown",
   "id": "7be86ae7-4365-4ba3-8ee8-9cbe3f212694",
   "metadata": {},
   "source": [
    "## Trying sigmoid activation"
   ]
  },
  {
   "cell_type": "code",
   "execution_count": 19,
   "id": "84e6aaff-c48e-46bb-a5bd-64166055e8d1",
   "metadata": {},
   "outputs": [
    {
     "name": "stdout",
     "output_type": "stream",
     "text": [
      "Validation loss after 10 epochs is 0.611\n",
      "Validation loss after 20 epochs is 0.426\n",
      "Validation loss after 30 epochs is 0.388\n",
      "Validation loss after 40 epochs is 0.373\n",
      "Validation loss after 50 epochs is 0.365\n",
      "\n",
      "The model validation accuracy is: 72.62%\n"
     ]
    }
   ],
   "source": [
    "model = NeuralNetwork(\n",
    "    layers=[Dense(neurons=89, \n",
    "                  activation=Tanh()),\n",
    "            Dense(neurons=10, \n",
    "                  activation=Sigmoid())],\n",
    "            loss = MeanSquaredError(normalize=False), \n",
    "seed=20190119)\n",
    "\n",
    "trainer = Trainer(model, SGD(0.1))\n",
    "trainer.fit(X_train, train_labels, X_test, test_labels,\n",
    "            epochs = 50,\n",
    "            eval_every = 10,\n",
    "            seed=20190119,\n",
    "            batch_size=60);\n",
    "print()\n",
    "calc_accuracy_model(model, X_test)"
   ]
  },
  {
   "cell_type": "code",
   "execution_count": 20,
   "id": "d233a116-874a-479a-b077-0aa7c7f33acc",
   "metadata": {},
   "outputs": [
    {
     "name": "stdout",
     "output_type": "stream",
     "text": [
      "Validation loss after 10 epochs is 0.952\n",
      "\n",
      "Loss increased after epoch 20, final loss was 0.952, \n",
      "using the model from epoch 10\n",
      "The model validation accuracy is: 41.73%\n"
     ]
    }
   ],
   "source": [
    "model = NeuralNetwork(\n",
    "    layers=[Dense(neurons=89, \n",
    "                  activation=Tanh()),\n",
    "            Dense(neurons=10, \n",
    "                  activation=Sigmoid())],\n",
    "            loss = MeanSquaredError(normalize=True), \n",
    "seed=20190119)\n",
    "\n",
    "trainer = Trainer(model, SGD(0.1))\n",
    "trainer.fit(X_train, train_labels, X_test, test_labels,\n",
    "            epochs = 50,\n",
    "            eval_every = 10,\n",
    "            seed=20190119,\n",
    "            batch_size=60);\n",
    "\n",
    "calc_accuracy_model(model, X_test)"
   ]
  },
  {
   "cell_type": "markdown",
   "id": "411da4b2-d8c2-4ef4-b15d-29f995e940a2",
   "metadata": {},
   "source": [
    "## Trying sigmoid activation"
   ]
  },
  {
   "cell_type": "code",
   "execution_count": 21,
   "id": "d591d688-8baf-4ed2-be12-fad3c9a8a39c",
   "metadata": {},
   "outputs": [
    {
     "name": "stdout",
     "output_type": "stream",
     "text": [
      "Validation loss after 1 epochs is 1.285\n",
      "Validation loss after 2 epochs is 0.970\n",
      "Validation loss after 3 epochs is 0.836\n",
      "Validation loss after 4 epochs is 0.763\n",
      "Validation loss after 5 epochs is 0.712\n",
      "Validation loss after 6 epochs is 0.679\n",
      "Validation loss after 7 epochs is 0.651\n",
      "Validation loss after 8 epochs is 0.631\n",
      "Validation loss after 9 epochs is 0.617\n",
      "Validation loss after 10 epochs is 0.599\n",
      "Validation loss after 11 epochs is 0.588\n",
      "Validation loss after 12 epochs is 0.576\n",
      "Validation loss after 13 epochs is 0.568\n",
      "Validation loss after 14 epochs is 0.557\n",
      "Validation loss after 15 epochs is 0.550\n",
      "Validation loss after 16 epochs is 0.544\n",
      "Validation loss after 17 epochs is 0.537\n",
      "Validation loss after 18 epochs is 0.533\n",
      "Validation loss after 19 epochs is 0.529\n",
      "Validation loss after 20 epochs is 0.523\n",
      "Validation loss after 21 epochs is 0.517\n",
      "Validation loss after 22 epochs is 0.512\n",
      "Validation loss after 23 epochs is 0.507\n",
      "\n",
      "Loss increased after epoch 24, final loss was 0.507, \n",
      "using the model from epoch 23\n",
      "\n",
      "The model validation accuracy is: 91.04%\n"
     ]
    }
   ],
   "source": [
    "model = NeuralNetwork(\n",
    "    layers=[Dense(neurons=89, \n",
    "                  activation=Sigmoid()),\n",
    "            Dense(neurons=10, \n",
    "                  activation=Linear())],\n",
    "            loss = SoftmaxCrossEntropy(), \n",
    "seed=20190119)\n",
    "\n",
    "trainer = Trainer(model, SGD(0.1))\n",
    "trainer.fit(X_train, train_labels, X_test, test_labels,\n",
    "            epochs = 130,\n",
    "            eval_every = 1,\n",
    "            seed=20190119,\n",
    "            batch_size=60);\n",
    "print()\n",
    "calc_accuracy_model(model, X_test)"
   ]
  },
  {
   "cell_type": "markdown",
   "id": "ae9cd3a4-c49c-4d70-a0aa-c39d28a96680",
   "metadata": {},
   "source": [
    "## Trying ReLU activation"
   ]
  },
  {
   "cell_type": "code",
   "execution_count": 22,
   "id": "abd6d5ab-a6e7-4cc5-adf8-fddfd7d329bc",
   "metadata": {},
   "outputs": [
    {
     "name": "stdout",
     "output_type": "stream",
     "text": [
      "Validation loss after 10 epochs is 6.158\n",
      "\n",
      "Loss increased after epoch 20, final loss was 6.158, \n",
      "using the model from epoch 10\n",
      "\n",
      "The model validation accuracy is: 76.24%\n"
     ]
    }
   ],
   "source": [
    "model = NeuralNetwork(\n",
    "    layers=[Dense(neurons=89, \n",
    "                  activation=ReLU()),\n",
    "            Dense(neurons=10, \n",
    "                  activation=Linear())],\n",
    "            loss = SoftmaxCrossEntropy(), \n",
    "seed=20190119)\n",
    "\n",
    "trainer = Trainer(model, SGD(0.1))\n",
    "trainer.fit(X_train, train_labels, X_test, test_labels,\n",
    "            epochs = 50,\n",
    "            eval_every = 10,\n",
    "            seed=20190119,\n",
    "            batch_size=60);\n",
    "print()\n",
    "calc_accuracy_model(model, X_test)"
   ]
  },
  {
   "cell_type": "code",
   "execution_count": 23,
   "id": "84975a3a-fd7c-4a9d-a6d0-1f5de4a314c0",
   "metadata": {},
   "outputs": [
    {
     "name": "stdout",
     "output_type": "stream",
     "text": [
      "Validation loss after 10 epochs is 0.624\n",
      "Validation loss after 20 epochs is 0.571\n",
      "Validation loss after 30 epochs is 0.549\n",
      "\n",
      "Loss increased after epoch 40, final loss was 0.549, \n",
      "using the model from epoch 30\n",
      "\n",
      "The model validation accuracy is: 90.80%\n"
     ]
    }
   ],
   "source": [
    "model = NeuralNetwork(\n",
    "    layers=[Dense(neurons=89, \n",
    "                  activation=Tanh()),\n",
    "            Dense(neurons=10, \n",
    "                  activation=Linear())],\n",
    "            loss = SoftmaxCrossEntropy(), \n",
    "seed=20190119)\n",
    "\n",
    "trainer = Trainer(model, SGD(0.1))\n",
    "trainer.fit(X_train, train_labels, X_test, test_labels,\n",
    "            epochs = 50,\n",
    "            eval_every = 10,\n",
    "            seed=20190119,\n",
    "            batch_size=60);\n",
    "print()\n",
    "calc_accuracy_model(model, X_test)"
   ]
  },
  {
   "cell_type": "markdown",
   "id": "77003814-712b-44ec-bdf0-6c5b6697f0f5",
   "metadata": {},
   "source": [
    "## SGD Momentum"
   ]
  },
  {
   "cell_type": "code",
   "execution_count": 24,
   "id": "741f45a0-9ee2-43da-935e-4f9884bdb9c8",
   "metadata": {},
   "outputs": [
    {
     "name": "stdout",
     "output_type": "stream",
     "text": [
      "Validation loss after 1 epochs is 0.615\n",
      "Validation loss after 2 epochs is 0.489\n",
      "Validation loss after 3 epochs is 0.446\n",
      "\n",
      "Loss increased after epoch 4, final loss was 0.446, \n",
      "using the model from epoch 3\n",
      "The model validation accuracy is: 92.25%\n"
     ]
    }
   ],
   "source": [
    "model = NeuralNetwork(\n",
    "    layers=[Dense(neurons=89, \n",
    "                  activation=Sigmoid()),\n",
    "            Dense(neurons=10, \n",
    "                  activation=Linear())],\n",
    "            loss = SoftmaxCrossEntropy(), \n",
    "seed=20190119)\n",
    "\n",
    "optim = SGDMomentum(0.1, momentum=0.9)\n",
    "\n",
    "trainer = Trainer(model, SGDMomentum(0.1, momentum=0.9))\n",
    "trainer.fit(X_train, train_labels, X_test, test_labels,\n",
    "            epochs = 50,\n",
    "            eval_every = 1,\n",
    "            seed=20190119,\n",
    "            batch_size=60);\n",
    "\n",
    "calc_accuracy_model(model, X_test)"
   ]
  },
  {
   "cell_type": "code",
   "execution_count": 25,
   "id": "6c41ae88-50a8-478b-ba90-2cccb02032bd",
   "metadata": {},
   "outputs": [
    {
     "name": "stdout",
     "output_type": "stream",
     "text": [
      "Validation loss after 10 epochs is 0.363\n",
      "Validation loss after 20 epochs is 0.337\n",
      "Validation loss after 30 epochs is 0.317\n",
      "\n",
      "Loss increased after epoch 40, final loss was 0.317, \n",
      "using the model from epoch 30\n",
      "The model validation accuracy is: 95.35%\n"
     ]
    }
   ],
   "source": [
    "model = NeuralNetwork(\n",
    "    layers=[Dense(neurons=89, \n",
    "                  activation=Tanh()),\n",
    "            Dense(neurons=10, \n",
    "                  activation=Linear())],\n",
    "            loss = SoftmaxCrossEntropy(), \n",
    "seed=20190119)\n",
    "\n",
    "optim = SGD(0.1)\n",
    "\n",
    "optim = SGDMomentum(0.1, momentum=0.9)\n",
    "\n",
    "trainer = Trainer(model, SGDMomentum(0.1, momentum=0.9))\n",
    "trainer.fit(X_train, train_labels, X_test, test_labels,\n",
    "            epochs = 50,\n",
    "            eval_every = 10,\n",
    "            seed=20190119,\n",
    "            batch_size=60);\n",
    "\n",
    "calc_accuracy_model(model, X_test)"
   ]
  },
  {
   "cell_type": "markdown",
   "id": "099303d5-e213-4616-a99f-5ba54188a5a8",
   "metadata": {},
   "source": [
    "## Different weight decay"
   ]
  },
  {
   "cell_type": "code",
   "execution_count": 26,
   "id": "a0f04a40-1ff2-4864-baec-11777418a719",
   "metadata": {},
   "outputs": [
    {
     "name": "stdout",
     "output_type": "stream",
     "text": [
      "Validation loss after 10 epochs is 0.400\n",
      "Validation loss after 20 epochs is 0.322\n",
      "Validation loss after 30 epochs is 0.294\n",
      "Validation loss after 40 epochs is 0.293\n",
      "\n",
      "Loss increased after epoch 50, final loss was 0.293, \n",
      "using the model from epoch 40\n",
      "The model validation accuracy is: 96.01%\n"
     ]
    }
   ],
   "source": [
    "model = NeuralNetwork(\n",
    "    layers=[Dense(neurons=89, \n",
    "                  activation=Tanh()),\n",
    "            Dense(neurons=10, \n",
    "                  activation=Linear())],\n",
    "            loss = SoftmaxCrossEntropy(), \n",
    "seed=20190119)\n",
    "\n",
    "optimizer = SGDMomentum(0.15, momentum=0.9, final_lr = 0.05, decay_type='linear')\n",
    "\n",
    "trainer = Trainer(model, optimizer)\n",
    "trainer.fit(X_train, train_labels, X_test, test_labels,\n",
    "            epochs = 50,\n",
    "            eval_every = 10,\n",
    "            seed=20190119,\n",
    "            batch_size=60);\n",
    "\n",
    "calc_accuracy_model(model, X_test)"
   ]
  },
  {
   "cell_type": "code",
   "execution_count": 27,
   "id": "7d53ba8d-9cac-4e04-851d-8c1c6c763ce9",
   "metadata": {},
   "outputs": [
    {
     "name": "stdout",
     "output_type": "stream",
     "text": [
      "Validation loss after 10 epochs is 0.448\n",
      "Validation loss after 20 epochs is 0.337\n",
      "Validation loss after 30 epochs is 0.300\n",
      "\n",
      "Loss increased after epoch 40, final loss was 0.300, \n",
      "using the model from epoch 30\n",
      "The model validation accuracy is: 95.65%\n"
     ]
    }
   ],
   "source": [
    "\n",
    "\n",
    "model = NeuralNetwork(\n",
    "    layers=[Dense(neurons=89, \n",
    "                  activation=Tanh()),\n",
    "            Dense(neurons=10, \n",
    "                  activation=Linear())],\n",
    "            loss = SoftmaxCrossEntropy(), \n",
    "seed=20190119)\n",
    "\n",
    "optimizer = SGDMomentum(0.2, \n",
    "                        momentum=0.9, \n",
    "                        final_lr = 0.05, \n",
    "                        decay_type='exponential')\n",
    "\n",
    "trainer = Trainer(model, optimizer)\n",
    "trainer.fit(X_train, train_labels, X_test, test_labels,\n",
    "            epochs = 50,\n",
    "            eval_every = 10,\n",
    "            seed=20190119,\n",
    "            batch_size=60);\n",
    "\n",
    "calc_accuracy_model(model, X_test)\n",
    "\n"
   ]
  },
  {
   "cell_type": "markdown",
   "id": "d25a2d50-3d25-47f4-836a-b944bfda1dd6",
   "metadata": {},
   "source": [
    "## Changing weight init"
   ]
  },
  {
   "cell_type": "code",
   "execution_count": 28,
   "id": "e333880a-62c5-4724-a669-2af36c4532d1",
   "metadata": {},
   "outputs": [
    {
     "name": "stdout",
     "output_type": "stream",
     "text": [
      "Validation loss after 10 epochs is 0.309\n",
      "Validation loss after 20 epochs is 0.271\n",
      "Validation loss after 30 epochs is 0.234\n",
      "\n",
      "Loss increased after epoch 40, final loss was 0.234, \n",
      "using the model from epoch 30\n",
      "The model validation accuracy is: 96.89%\n"
     ]
    }
   ],
   "source": [
    "model = NeuralNetwork(\n",
    "    layers=[Dense(neurons=89, \n",
    "                  activation=Tanh(),\n",
    "                  weight_init=\"glorot\"),\n",
    "            Dense(neurons=10, \n",
    "                  activation=Linear(),\n",
    "                  weight_init=\"glorot\")],\n",
    "            loss = SoftmaxCrossEntropy(), \n",
    "seed=20190119)\n",
    "\n",
    "optimizer = SGDMomentum(0.15, momentum=0.9, final_lr = 0.05, decay_type='linear')\n",
    "\n",
    "trainer = Trainer(model, optimizer)\n",
    "trainer.fit(X_train, train_labels, X_test, test_labels,\n",
    "       epochs = 50,\n",
    "       eval_every = 10,\n",
    "       seed=20190119,\n",
    "           batch_size=60,\n",
    "           early_stopping=True);\n",
    "\n",
    "calc_accuracy_model(model, X_test)"
   ]
  },
  {
   "cell_type": "markdown",
   "id": "d2e49e7d-64aa-4ed3-8516-569b97e732b8",
   "metadata": {},
   "source": [
    "## Dropout"
   ]
  },
  {
   "cell_type": "code",
   "execution_count": 29,
   "id": "b6393b0f-66f3-415f-a145-2a6bf5ee01e0",
   "metadata": {},
   "outputs": [
    {
     "name": "stdout",
     "output_type": "stream",
     "text": [
      "Validation loss after 10 epochs is 0.276\n",
      "Validation loss after 20 epochs is 0.236\n",
      "Validation loss after 30 epochs is 0.204\n",
      "Validation loss after 40 epochs is 0.191\n",
      "Validation loss after 50 epochs is 0.186\n",
      "The model validation accuracy is: 97.04%\n"
     ]
    }
   ],
   "source": [
    "model = NeuralNetwork(\n",
    "    layers=[Dense(neurons=89, \n",
    "                  activation=Tanh(),\n",
    "                  weight_init=\"glorot\",\n",
    "                  dropout=0.8),\n",
    "            Dense(neurons=10, \n",
    "                  activation=Linear(),\n",
    "                  weight_init=\"glorot\")],\n",
    "            loss = SoftmaxCrossEntropy(), \n",
    "seed=20190119)\n",
    "\n",
    "trainer = Trainer(model, SGDMomentum(0.2, momentum=0.9, final_lr = 0.05, decay_type='exponential'))\n",
    "trainer.fit(X_train, train_labels, X_test, test_labels,\n",
    "       epochs = 50,\n",
    "       eval_every = 10,\n",
    "       seed=20190119,\n",
    "           batch_size=60,\n",
    "           early_stopping=True);\n",
    "\n",
    "calc_accuracy_model(model, X_test)"
   ]
  },
  {
   "cell_type": "markdown",
   "id": "d53b5ffd-4229-4c78-8d50-9bec64a4bc1d",
   "metadata": {},
   "source": [
    "## Deep Learning, with and without Dropout"
   ]
  },
  {
   "cell_type": "code",
   "execution_count": 31,
   "id": "e88eaaab-0d33-41de-8ca7-56870b4c77b9",
   "metadata": {},
   "outputs": [
    {
     "name": "stdout",
     "output_type": "stream",
     "text": [
      "Validation loss after 10 epochs is 0.319\n",
      "Validation loss after 20 epochs is 0.267\n",
      "Validation loss after 30 epochs is 0.241\n",
      "Validation loss after 40 epochs is 0.236\n",
      "Validation loss after 50 epochs is 0.206\n",
      "Validation loss after 60 epochs is 0.203\n",
      "Validation loss after 70 epochs is 0.197\n",
      "Validation loss after 80 epochs is 0.195\n",
      "Validation loss after 90 epochs is 0.193\n",
      "Validation loss after 100 epochs is 0.187\n",
      "The model validation accuracy is: 97.18%\n"
     ]
    }
   ],
   "source": [
    "model = NeuralNetwork(\n",
    "    layers=[Dense(neurons=178, \n",
    "                  activation=Tanh(),\n",
    "                  weight_init=\"glorot\",\n",
    "                  dropout=0.8),\n",
    "            Dense(neurons=46, \n",
    "                  activation=Tanh(),\n",
    "                  weight_init=\"glorot\",\n",
    "                  dropout=0.8),\n",
    "            Dense(neurons=10, \n",
    "                  activation=Linear(),\n",
    "                  weight_init=\"glorot\")],\n",
    "            loss = SoftmaxCrossEntropy(), \n",
    "seed=20190119)\n",
    "\n",
    "trainer = Trainer(model, SGDMomentum(0.2, momentum=0.9, final_lr = 0.05, decay_type='exponential'))\n",
    "trainer.fit(X_train, train_labels, X_test, test_labels,\n",
    "       epochs = 100,\n",
    "       eval_every = 10,\n",
    "       seed=20190119,\n",
    "           batch_size=60,\n",
    "           early_stopping=True);\n",
    "\n",
    "calc_accuracy_model(model, X_test)"
   ]
  },
  {
   "cell_type": "code",
   "execution_count": 32,
   "id": "b4a36521-a6bc-41c2-93f4-b39b17a7c726",
   "metadata": {},
   "outputs": [
    {
     "name": "stdout",
     "output_type": "stream",
     "text": [
      "Validation loss after 10 epochs is 0.487\n",
      "Validation loss after 20 epochs is 0.354\n",
      "Validation loss after 30 epochs is 0.329\n",
      "Validation loss after 40 epochs is 0.280\n",
      "Validation loss after 50 epochs is 0.265\n",
      "\n",
      "Loss increased after epoch 60, final loss was 0.265, \n",
      "using the model from epoch 50\n",
      "The model validation accuracy is: 96.00%\n"
     ]
    }
   ],
   "source": [
    "model = NeuralNetwork(\n",
    "    layers=[Dense(neurons=178, \n",
    "                  activation=Tanh(),\n",
    "                  weight_init=\"glorot\"),\n",
    "            Dense(neurons=46, \n",
    "                  activation=Tanh(),\n",
    "                  weight_init=\"glorot\"),\n",
    "            Dense(neurons=10, \n",
    "                  activation=Linear(),\n",
    "                  weight_init=\"glorot\")],\n",
    "            loss = SoftmaxCrossEntropy(), \n",
    "seed=20190119)\n",
    "\n",
    "trainer = Trainer(model, SGDMomentum(0.2, momentum=0.9, final_lr = 0.05, decay_type='exponential'))\n",
    "trainer.fit(X_train, train_labels, X_test, test_labels,\n",
    "       epochs = 100,\n",
    "       eval_every = 10,\n",
    "       seed=20190119,\n",
    "           batch_size=60,\n",
    "           early_stopping=True);\n",
    "\n",
    "calc_accuracy_model(model, X_test)"
   ]
  },
  {
   "cell_type": "code",
   "execution_count": null,
   "id": "13782d94-a459-4736-8720-d59724f574e4",
   "metadata": {},
   "outputs": [],
   "source": []
  }
 ],
 "metadata": {
  "kernelspec": {
   "display_name": "Python 3 (ipykernel)",
   "language": "python",
   "name": "python3"
  },
  "language_info": {
   "codemirror_mode": {
    "name": "ipython",
    "version": 3
   },
   "file_extension": ".py",
   "mimetype": "text/x-python",
   "name": "python",
   "nbconvert_exporter": "python",
   "pygments_lexer": "ipython3",
   "version": "3.12.4"
  }
 },
 "nbformat": 4,
 "nbformat_minor": 5
}
